{
  "nbformat": 4,
  "nbformat_minor": 0,
  "metadata": {
    "colab": {
      "name": "tf-autoencoder.ipynb",
      "version": "0.3.2",
      "provenance": [],
      "collapsed_sections": []
    },
    "kernelspec": {
      "name": "python3",
      "display_name": "Python 3"
    }
  },
  "cells": [
    {
      "cell_type": "markdown",
      "metadata": {
        "id": "rMIItZgf264V",
        "colab_type": "text"
      },
      "source": [
        "#Welcome\n",
        "In the following, you can run an autoencoder and learn about the effect of hyperparameters\n",
        "\n",
        "#Task 1\n",
        "First execute the program. Press shift and hit enter until you reach the last block"
      ]
    },
    {
      "cell_type": "markdown",
      "metadata": {
        "id": "uCzOwpJwlByY",
        "colab_type": "text"
      },
      "source": [
        "First, we need to import some libraries\n"
      ]
    },
    {
      "cell_type": "code",
      "metadata": {
        "id": "f2KerEyIbezg",
        "colab_type": "code",
        "colab": {}
      },
      "source": [
        "from __future__ import division, print_function, absolute_import\n",
        "\n",
        "import tensorflow as tf\n",
        "import numpy as np\n",
        "import matplotlib.pyplot as plt"
      ],
      "execution_count": 0,
      "outputs": []
    },
    {
      "cell_type": "markdown",
      "metadata": {
        "id": "Rc1OH7HJk8oo",
        "colab_type": "text"
      },
      "source": [
        "Now, we get the handwritten digits dataset"
      ]
    },
    {
      "cell_type": "code",
      "metadata": {
        "id": "-O_9BXJ2bi7N",
        "colab_type": "code",
        "outputId": "de8c0578-1209-46b8-a97c-8063fd09d721",
        "colab": {
          "base_uri": "https://localhost:8080/",
          "height": 524
        }
      },
      "source": [
        "# Import MNIST data set (handwritten digits)\n",
        "from tensorflow.examples.tutorials.mnist import input_data\n",
        "mnist = input_data.read_data_sets(\"/tmp/data/\", one_hot=True)"
      ],
      "execution_count": 0,
      "outputs": [
        {
          "output_type": "stream",
          "text": [
            "WARNING:tensorflow:From <ipython-input-2-c3d55fec490c>:2: read_data_sets (from tensorflow.contrib.learn.python.learn.datasets.mnist) is deprecated and will be removed in a future version.\n",
            "Instructions for updating:\n",
            "Please use alternatives such as official/mnist/dataset.py from tensorflow/models.\n",
            "WARNING:tensorflow:From /usr/local/lib/python3.6/dist-packages/tensorflow/contrib/learn/python/learn/datasets/mnist.py:260: maybe_download (from tensorflow.contrib.learn.python.learn.datasets.base) is deprecated and will be removed in a future version.\n",
            "Instructions for updating:\n",
            "Please write your own downloading logic.\n",
            "WARNING:tensorflow:From /usr/local/lib/python3.6/dist-packages/tensorflow/contrib/learn/python/learn/datasets/base.py:252: _internal_retry.<locals>.wrap.<locals>.wrapped_fn (from tensorflow.contrib.learn.python.learn.datasets.base) is deprecated and will be removed in a future version.\n",
            "Instructions for updating:\n",
            "Please use urllib or similar directly.\n",
            "Successfully downloaded train-images-idx3-ubyte.gz 9912422 bytes.\n",
            "WARNING:tensorflow:From /usr/local/lib/python3.6/dist-packages/tensorflow/contrib/learn/python/learn/datasets/mnist.py:262: extract_images (from tensorflow.contrib.learn.python.learn.datasets.mnist) is deprecated and will be removed in a future version.\n",
            "Instructions for updating:\n",
            "Please use tf.data to implement this functionality.\n",
            "Extracting /tmp/data/train-images-idx3-ubyte.gz\n",
            "Successfully downloaded train-labels-idx1-ubyte.gz 28881 bytes.\n",
            "WARNING:tensorflow:From /usr/local/lib/python3.6/dist-packages/tensorflow/contrib/learn/python/learn/datasets/mnist.py:267: extract_labels (from tensorflow.contrib.learn.python.learn.datasets.mnist) is deprecated and will be removed in a future version.\n",
            "Instructions for updating:\n",
            "Please use tf.data to implement this functionality.\n",
            "Extracting /tmp/data/train-labels-idx1-ubyte.gz\n",
            "WARNING:tensorflow:From /usr/local/lib/python3.6/dist-packages/tensorflow/contrib/learn/python/learn/datasets/mnist.py:110: dense_to_one_hot (from tensorflow.contrib.learn.python.learn.datasets.mnist) is deprecated and will be removed in a future version.\n",
            "Instructions for updating:\n",
            "Please use tf.one_hot on tensors.\n",
            "Successfully downloaded t10k-images-idx3-ubyte.gz 1648877 bytes.\n",
            "Extracting /tmp/data/t10k-images-idx3-ubyte.gz\n",
            "Successfully downloaded t10k-labels-idx1-ubyte.gz 4542 bytes.\n",
            "Extracting /tmp/data/t10k-labels-idx1-ubyte.gz\n",
            "WARNING:tensorflow:From /usr/local/lib/python3.6/dist-packages/tensorflow/contrib/learn/python/learn/datasets/mnist.py:290: DataSet.__init__ (from tensorflow.contrib.learn.python.learn.datasets.mnist) is deprecated and will be removed in a future version.\n",
            "Instructions for updating:\n",
            "Please use alternatives such as official/mnist/dataset.py from tensorflow/models.\n"
          ],
          "name": "stdout"
        }
      ]
    },
    {
      "cell_type": "markdown",
      "metadata": {
        "id": "EDpwymnQlj0Q",
        "colab_type": "text"
      },
      "source": [
        "#Task 2\n",
        "Here, we define our input parameters.\n",
        "There is only one neuron in num_hidden_2. The network can not really learn the distribution of the handwritten digits. \n",
        "##a) Adjust the layer size\n",
        "Try out different integer values (0 < num_hidden_2 < 128) for num_hidden_2 and see if you get better results.\n",
        "##b) Increase training time\n",
        "Once you finished a) you can increase the number of training steps to get even better results.\n",
        "Try to set num_steps = 20000"
      ]
    },
    {
      "cell_type": "code",
      "metadata": {
        "id": "vBZmxT1fb2J-",
        "colab_type": "code",
        "colab": {}
      },
      "source": [
        "# Training Parameters\n",
        "learning_rate = 0.01\n",
        "num_steps = 20000\n",
        "batch_size = 128\n",
        "\n",
        "display_step = 500\n",
        "examples_to_show = 10\n",
        "\n",
        "# Network Parameters\n",
        "num_hidden_1 = 128 # 1st layer num features\n",
        "num_hidden_2 = 64 # 2nd layer num features (the latent dim)\n",
        "num_input = 784 # MNIST data input (img shape: 28*28)"
      ],
      "execution_count": 0,
      "outputs": []
    },
    {
      "cell_type": "code",
      "metadata": {
        "id": "2T5IBO7rcAx_",
        "colab_type": "code",
        "colab": {}
      },
      "source": [
        "# tf Graph input (only pictures)\n",
        "X = tf.placeholder(\"float\", [None, num_input])\n",
        "E = tf.placeholder(\"float\", [None, num_hidden_2])"
      ],
      "execution_count": 0,
      "outputs": []
    },
    {
      "cell_type": "code",
      "metadata": {
        "id": "v0MpnNhfcG-d",
        "colab_type": "code",
        "colab": {}
      },
      "source": [
        "weights = {\n",
        "    'encoder_h1': tf.Variable(tf.random_normal([num_input, num_hidden_1])),\n",
        "    'encoder_h2': tf.Variable(tf.random_normal([num_hidden_1, num_hidden_2])),\n",
        "    'decoder_h1': tf.Variable(tf.random_normal([num_hidden_2, num_hidden_1])),\n",
        "    'decoder_h2': tf.Variable(tf.random_normal([num_hidden_1, num_input])),\n",
        "}\n",
        "biases = {\n",
        "    'encoder_b1': tf.Variable(tf.random_normal([num_hidden_1])),\n",
        "    'encoder_b2': tf.Variable(tf.random_normal([num_hidden_2])),\n",
        "    'decoder_b1': tf.Variable(tf.random_normal([num_hidden_1])),\n",
        "    'decoder_b2': tf.Variable(tf.random_normal([num_input])),\n",
        "}"
      ],
      "execution_count": 0,
      "outputs": []
    },
    {
      "cell_type": "code",
      "metadata": {
        "id": "NOjqPeYzcKmr",
        "colab_type": "code",
        "colab": {}
      },
      "source": [
        "# Building the encoder\n",
        "def encoder(x):\n",
        "    # Encoder Hidden layer with sigmoid activation #1\n",
        "    layer_1 = tf.nn.sigmoid(tf.add(tf.matmul(x, weights['encoder_h1']),\n",
        "                                   biases['encoder_b1']))\n",
        "    # Encoder Hidden layer with sigmoid activation #2\n",
        "    layer_2 = tf.nn.sigmoid(tf.add(tf.matmul(layer_1, weights['encoder_h2']),\n",
        "                                   biases['encoder_b2']))\n",
        "    return layer_2\n"
      ],
      "execution_count": 0,
      "outputs": []
    },
    {
      "cell_type": "code",
      "metadata": {
        "id": "NNP4C6_vcMzg",
        "colab_type": "code",
        "colab": {}
      },
      "source": [
        "# Building the decoder\n",
        "def decoder(x):\n",
        "    # Decoder Hidden layer with sigmoid activation #1\n",
        "    layer_1 = tf.nn.sigmoid(tf.add(tf.matmul(x, weights['decoder_h1']),\n",
        "                                   biases['decoder_b1']))\n",
        "    # Decoder Hidden layer with sigmoid activation #2\n",
        "    layer_2 = tf.nn.sigmoid(tf.add(tf.matmul(layer_1, weights['decoder_h2']),\n",
        "                                   biases['decoder_b2']))\n",
        "    return layer_2"
      ],
      "execution_count": 0,
      "outputs": []
    },
    {
      "cell_type": "code",
      "metadata": {
        "id": "B6Re_WSecZSa",
        "colab_type": "code",
        "outputId": "5ca9777b-b99c-4ab6-a9a3-f1acfb79bd8a",
        "colab": {
          "base_uri": "https://localhost:8080/",
          "height": 67
        }
      },
      "source": [
        "# Construct model\n",
        "encoder_op = encoder(X)\n",
        "decoder_op = decoder(encoder_op)\n",
        "decoder_only = decoder(E)\n",
        "\n",
        "print(encoder_op)\n",
        "print(decoder_op)\n",
        "print(decoder_only)\n",
        "\n"
      ],
      "execution_count": 0,
      "outputs": [
        {
          "output_type": "stream",
          "text": [
            "Tensor(\"Sigmoid_25:0\", shape=(?, 64), dtype=float32)\n",
            "Tensor(\"Sigmoid_27:0\", shape=(?, 784), dtype=float32)\n",
            "Tensor(\"Sigmoid_29:0\", shape=(?, 784), dtype=float32)\n"
          ],
          "name": "stdout"
        }
      ]
    },
    {
      "cell_type": "code",
      "metadata": {
        "id": "ill_fnUOcbdr",
        "colab_type": "code",
        "colab": {}
      },
      "source": [
        "# Prediction\n",
        "y_pred = decoder_op\n",
        "# Targets (Labels) are the input data.\n",
        "y_true = X"
      ],
      "execution_count": 0,
      "outputs": []
    },
    {
      "cell_type": "code",
      "metadata": {
        "id": "zyT6qrYZcd1X",
        "colab_type": "code",
        "colab": {}
      },
      "source": [
        "# Define loss and optimizer, minimize the squared error\n",
        "loss = tf.reduce_mean(tf.pow(y_true - y_pred, 2))\n",
        "optimizer = tf.train.RMSPropOptimizer(learning_rate).minimize(loss)"
      ],
      "execution_count": 0,
      "outputs": []
    },
    {
      "cell_type": "code",
      "metadata": {
        "id": "UAiJdsZVcftv",
        "colab_type": "code",
        "colab": {}
      },
      "source": [
        "# Initialize the variables (i.e. assign their default value)\n",
        "init = tf.global_variables_initializer()\n"
      ],
      "execution_count": 0,
      "outputs": []
    },
    {
      "cell_type": "code",
      "metadata": {
        "id": "RS_NRp0Nckph",
        "colab_type": "code",
        "outputId": "53268109-045f-40fa-9245-258ba14da857",
        "colab": {
          "base_uri": "https://localhost:8080/",
          "height": 706
        }
      },
      "source": [
        "    # Start Training\n",
        "    # Start a new TF session\n",
        "    sess = tf.Session()\n",
        "\n",
        "    # Run the initializer\n",
        "    sess.run(init)\n",
        "\n",
        "    # Training\n",
        "    for i in range(1, num_steps+1):\n",
        "        # Prepare Data\n",
        "        # Get the next batch of MNIST data (only images are needed, not labels)\n",
        "        batch_x, _ = mnist.train.next_batch(batch_size)\n",
        "\n",
        "        # Run optimization op (backprop) and cost op (to get loss value)\n",
        "        _, l = sess.run([optimizer, loss], feed_dict={X: batch_x})\n",
        "        # Display logs per step\n",
        "        if i % display_step == 0 or i == 1:\n",
        "            print('Step %i: Minibatch Loss: %f' % (i, l))\n",
        "\n",
        "    # Testing\n",
        "    # Encode and decode images from test set and visualize their reconstruction.\n",
        "    n = 4\n",
        "    canvas_orig = np.empty((28 * n, 28 * n))\n",
        "    canvas_recon = np.empty((28 * n, 28 * n))\n",
        "    for i in range(n):\n",
        "        # MNIST test set\n",
        "        batch_x, _ = mnist.test.next_batch(n)\n",
        "        # Encode and decode the digit image\n",
        "        g = sess.run(decoder_op, feed_dict={X: batch_x})\n",
        "\n",
        "        # Display original images\n",
        "        for j in range(n):\n",
        "            # Draw the original digits\n",
        "            canvas_orig[i * 28:(i + 1) * 28, j * 28:(j + 1) * 28] = \\\n",
        "                batch_x[j].reshape([28, 28])\n",
        "        # Display reconstructed images\n",
        "        for j in range(n):\n",
        "            # Draw the reconstructed digits\n",
        "            canvas_recon[i * 28:(i + 1) * 28, j * 28:(j + 1) * 28] = \\\n",
        "                g[j].reshape([28, 28])\n",
        "\n",
        "    "
      ],
      "execution_count": 0,
      "outputs": [
        {
          "output_type": "stream",
          "text": [
            "Step 1: Minibatch Loss: 0.432125\n",
            "Step 500: Minibatch Loss: 0.120935\n",
            "Step 1000: Minibatch Loss: 0.096211\n",
            "Step 1500: Minibatch Loss: 0.083479\n",
            "Step 2000: Minibatch Loss: 0.075767\n",
            "Step 2500: Minibatch Loss: 0.068881\n",
            "Step 3000: Minibatch Loss: 0.066151\n",
            "Step 3500: Minibatch Loss: 0.062871\n",
            "Step 4000: Minibatch Loss: 0.055383\n",
            "Step 4500: Minibatch Loss: 0.053504\n",
            "Step 5000: Minibatch Loss: 0.054260\n",
            "Step 5500: Minibatch Loss: 0.051347\n",
            "Step 6000: Minibatch Loss: 0.050540\n",
            "Step 6500: Minibatch Loss: 0.049116\n",
            "Step 7000: Minibatch Loss: 0.050619\n",
            "Step 7500: Minibatch Loss: 0.046158\n",
            "Step 8000: Minibatch Loss: 0.047079\n",
            "Step 8500: Minibatch Loss: 0.044579\n",
            "Step 9000: Minibatch Loss: 0.042738\n",
            "Step 9500: Minibatch Loss: 0.044144\n",
            "Step 10000: Minibatch Loss: 0.040189\n",
            "Step 10500: Minibatch Loss: 0.041767\n",
            "Step 11000: Minibatch Loss: 0.038785\n",
            "Step 11500: Minibatch Loss: 0.039493\n",
            "Step 12000: Minibatch Loss: 0.038043\n",
            "Step 12500: Minibatch Loss: 0.038371\n",
            "Step 13000: Minibatch Loss: 0.036160\n",
            "Step 13500: Minibatch Loss: 0.034420\n",
            "Step 14000: Minibatch Loss: 0.034853\n",
            "Step 14500: Minibatch Loss: 0.032822\n",
            "Step 15000: Minibatch Loss: 0.030693\n",
            "Step 15500: Minibatch Loss: 0.031696\n",
            "Step 16000: Minibatch Loss: 0.030992\n",
            "Step 16500: Minibatch Loss: 0.028091\n",
            "Step 17000: Minibatch Loss: 0.027702\n",
            "Step 17500: Minibatch Loss: 0.026292\n",
            "Step 18000: Minibatch Loss: 0.024060\n",
            "Step 18500: Minibatch Loss: 0.028492\n",
            "Step 19000: Minibatch Loss: 0.024943\n",
            "Step 19500: Minibatch Loss: 0.024052\n",
            "Step 20000: Minibatch Loss: 0.026550\n"
          ],
          "name": "stdout"
        }
      ]
    },
    {
      "cell_type": "code",
      "metadata": {
        "id": "lzlnUmZs3Xr2",
        "colab_type": "code",
        "outputId": "95a7c3a8-a10a-40a5-88d3-2edab97de3b3",
        "colab": {
          "base_uri": "https://localhost:8080/",
          "height": 554
        }
      },
      "source": [
        "print(\"Original Images\")\n",
        "plt.figure(figsize=(n, n))\n",
        "plt.imshow(canvas_orig, origin=\"upper\", cmap=\"gray\")\n",
        "plt.show()\n",
        "\n",
        "print(\"Reconstructed Images\")\n",
        "plt.figure(figsize=(n, n))\n",
        "plt.imshow(canvas_recon, origin=\"upper\", cmap=\"gray\")\n",
        "plt.show()"
      ],
      "execution_count": 0,
      "outputs": [
        {
          "output_type": "stream",
          "text": [
            "Original Images\n"
          ],
          "name": "stdout"
        },
        {
          "output_type": "display_data",
          "data": {
            "image/png": "[encoded data removed]",
            "text/plain": [
              "<Figure size 288x288 with 1 Axes>"
            ]
          },
          "metadata": {
            "tags": []
          }
        },
        {
          "output_type": "stream",
          "text": [
            "Reconstructed Images\n"
          ],
          "name": "stdout"
        },
        {
          "output_type": "display_data",
          "data": {
            "image/png": "[encoded data removed]",
            "text/plain": [
              "<Figure size 288x288 with 1 Axes>"
            ]
          },
          "metadata": {
            "tags": []
          }
        }
      ]
    },
    {
      "cell_type": "markdown",
      "metadata": {
        "id": "yuvqZ5rW6YWW",
        "colab_type": "text"
      },
      "source": [
        "#Task 3\n",
        "With the following lines, you can create encodings from an input pic.\n",
        "##a) Get encoding\n",
        "At the moment we calculate the encoding for the first picture. Try to get the encoding for the 10th input picture\n",
        "##b) Get 100 encodings\n",
        "Try to print all 100 encodings of the first batch in our test data\n"
      ]
    },
    {
      "cell_type": "code",
      "metadata": {
        "id": "Z_xVcOIX3kKa",
        "colab_type": "code",
        "outputId": "4950dbd8-5d51-4ae5-f762-93be064ca848",
        "colab": {
          "base_uri": "https://localhost:8080/",
          "height": 26914
        }
      },
      "source": [
        "  batch_x, _ = mnist.test.next_batch(100) \n",
        "  encodings = []\n",
        "  for x in range(100):\n",
        "    my_encoding = sess.run(encoder_op, feed_dict={X: [batch_x[x]]})\n",
        "    #print (my_encoding)\n",
        "    encodings.append(my_encoding)\n",
        "  print(encodings)"
      ],
      "execution_count": 0,
      "outputs": [
        {
          "output_type": "stream",
          "text": [
            "[array([[4.2778885e-01, 0.0000000e+00, 8.0829322e-02, 1.0000000e+00,\n",
            "        1.2315184e-02, 1.0132790e-06, 2.6026475e-01, 9.9999100e-01,\n",
            "        3.3557415e-04, 1.0000000e+00, 9.9998707e-01, 1.0000000e+00,\n",
            "        1.3113022e-06, 1.0000000e+00, 4.1501850e-02, 2.3841858e-07,\n",
            "        5.6624413e-07, 2.3953667e-01, 8.7508976e-01, 5.3644180e-07,\n",
            "        9.9999923e-01, 8.4872270e-01, 9.9999869e-01, 9.0777874e-03,\n",
            "        8.8312703e-01, 9.9383914e-01, 0.0000000e+00, 9.9999976e-01,\n",
            "        1.2398553e-01, 1.8952191e-02, 9.6541584e-01, 1.0000000e+00,\n",
            "        4.1783872e-01, 9.9997658e-01, 1.0000000e+00, 7.1699971e-01,\n",
            "        1.0000000e+00, 5.9604645e-08, 9.9963135e-01, 0.0000000e+00,\n",
            "        9.9999988e-01, 3.4042746e-01, 9.0301037e-06, 9.9950200e-01,\n",
            "        1.1200291e-01, 6.5588921e-02, 5.2680552e-02, 6.7156148e-01,\n",
            "        2.4910748e-01, 9.9999958e-01, 9.9983037e-01, 1.0000000e+00,\n",
            "        3.2073766e-02, 9.9953204e-01, 0.0000000e+00, 9.9989927e-01,\n",
            "        6.9057870e-01, 9.9999994e-01, 8.2113469e-01, 1.0000000e+00,\n",
            "        1.0000000e+00, 8.7150353e-01, 0.0000000e+00, 1.4077398e-01]],\n",
            "      dtype=float32), array([[8.5146010e-02, 9.2387199e-07, 9.4279873e-01, 1.0000000e+00,\n",
            "        9.3339825e-01, 1.0132790e-06, 8.8462317e-01, 9.9999994e-01,\n",
            "        9.1791153e-06, 1.0000000e+00, 9.9999988e-01, 1.0000000e+00,\n",
            "        0.0000000e+00, 1.0000000e+00, 1.7718017e-02, 5.3048134e-06,\n",
            "        0.0000000e+00, 9.5344573e-02, 4.4059902e-02, 8.9406967e-08,\n",
            "        1.0000000e+00, 3.5848078e-01, 9.9998295e-01, 1.8911171e-01,\n",
            "        9.2203724e-01, 9.7729409e-01, 0.0000000e+00, 9.9999988e-01,\n",
            "        3.7971210e-01, 9.4031322e-01, 9.5637679e-01, 1.0000000e+00,\n",
            "        7.8626275e-01, 1.0000000e+00, 9.9997640e-01, 8.7652832e-01,\n",
            "        1.0000000e+00, 1.1920929e-07, 9.9998271e-01, 0.0000000e+00,\n",
            "        9.9999714e-01, 6.8590790e-02, 4.4792891e-05, 9.9999976e-01,\n",
            "        9.8665011e-01, 2.2379309e-01, 4.0249276e-01, 2.0372748e-01,\n",
            "        1.6745713e-01, 1.0000000e+00, 9.9999213e-01, 9.9986649e-01,\n",
            "        1.3327003e-01, 1.0000000e+00, 0.0000000e+00, 1.0000000e+00,\n",
            "        9.3968904e-01, 1.0000000e+00, 2.6445979e-01, 1.0000000e+00,\n",
            "        9.9999994e-01, 7.5750101e-01, 0.0000000e+00, 9.3947512e-01]],\n",
            "      dtype=float32), array([[5.1582962e-02, 0.0000000e+00, 2.4248958e-03, 1.0000000e+00,\n",
            "        1.7955452e-02, 8.3446503e-07, 7.6961929e-01, 1.0000000e+00,\n",
            "        1.4901161e-06, 9.9999988e-01, 9.9998784e-01, 9.9999988e-01,\n",
            "        0.0000000e+00, 1.0000000e+00, 9.8469722e-01, 2.3841858e-07,\n",
            "        0.0000000e+00, 4.0883750e-02, 2.6142538e-02, 0.0000000e+00,\n",
            "        9.9994725e-01, 2.2813886e-02, 9.9999940e-01, 8.7334013e-01,\n",
            "        9.9608099e-01, 1.4581084e-03, 0.0000000e+00, 9.9999988e-01,\n",
            "        9.5370150e-01, 1.6601557e-01, 2.8677040e-01, 9.9999988e-01,\n",
            "        1.4357239e-02, 1.0000000e+00, 9.9999380e-01, 2.5314462e-01,\n",
            "        1.0000000e+00, 1.7881393e-07, 9.9273944e-01, 0.0000000e+00,\n",
            "        1.0000000e+00, 9.4876420e-01, 2.3853779e-04, 1.0000000e+00,\n",
            "        3.9109418e-01, 9.3416226e-01, 2.8420717e-02, 1.0072172e-02,\n",
            "        1.3774452e-01, 9.9994415e-01, 9.9999654e-01, 9.9999917e-01,\n",
            "        6.1865121e-02, 9.9998462e-01, 2.0861626e-07, 1.0000000e+00,\n",
            "        8.6980075e-01, 9.9999976e-01, 8.1126392e-01, 1.0000000e+00,\n",
            "        1.0000000e+00, 2.7733165e-01, 4.7385693e-06, 2.2585031e-01]],\n",
            "      dtype=float32), array([[5.7943201e-01, 0.0000000e+00, 2.6476625e-01, 1.0000000e+00,\n",
            "        1.6911834e-02, 2.9265881e-05, 7.0213139e-01, 9.9999201e-01,\n",
            "        0.0000000e+00, 9.9999988e-01, 9.9999976e-01, 1.0000000e+00,\n",
            "        0.0000000e+00, 1.0000000e+00, 5.0287753e-02, 1.1026859e-06,\n",
            "        0.0000000e+00, 6.7107689e-01, 6.9309223e-01, 0.0000000e+00,\n",
            "        1.0000000e+00, 4.3879133e-01, 9.9980450e-01, 4.9474269e-02,\n",
            "        9.8673242e-01, 9.8298621e-01, 0.0000000e+00, 9.9999988e-01,\n",
            "        2.1878645e-01, 1.7608321e-01, 6.8863678e-01, 1.0000000e+00,\n",
            "        3.9510101e-01, 9.9999535e-01, 9.9999988e-01, 7.8890800e-01,\n",
            "        1.0000000e+00, 8.9406967e-08, 9.9998772e-01, 0.0000000e+00,\n",
            "        9.9999994e-01, 2.8482795e-02, 8.4936619e-06, 9.9999833e-01,\n",
            "        7.8050286e-02, 1.5170664e-01, 2.6312649e-02, 2.4700522e-02,\n",
            "        4.9363437e-01, 9.9998605e-01, 9.3907130e-01, 9.9999994e-01,\n",
            "        1.5668756e-01, 9.9181962e-01, 8.9406967e-08, 9.9998057e-01,\n",
            "        4.3772388e-01, 1.0000000e+00, 8.3021486e-01, 1.0000000e+00,\n",
            "        1.0000000e+00, 8.8076544e-01, 1.1920929e-07, 1.0406733e-02]],\n",
            "      dtype=float32), array([[9.2045361e-01, 0.0000000e+00, 5.6639647e-01, 9.9999988e-01,\n",
            "        4.2721480e-02, 1.8578768e-04, 6.7472529e-01, 9.9999654e-01,\n",
            "        4.1723251e-06, 9.9999487e-01, 9.9948019e-01, 1.0000000e+00,\n",
            "        1.0132790e-06, 1.0000000e+00, 3.6277860e-02, 2.9802322e-08,\n",
            "        4.7981739e-06, 9.5432699e-02, 9.3635428e-01, 1.1920929e-07,\n",
            "        1.0000000e+00, 5.1908642e-01, 9.9994981e-01, 7.5743055e-01,\n",
            "        3.0721533e-01, 9.8705459e-01, 5.3644180e-07, 1.0000000e+00,\n",
            "        7.3686057e-01, 7.3177099e-01, 9.8896509e-01, 9.9989009e-01,\n",
            "        6.2343264e-01, 9.9999994e-01, 9.9989152e-01, 6.2512279e-02,\n",
            "        9.9999768e-01, 8.9406967e-08, 9.9999970e-01, 0.0000000e+00,\n",
            "        1.0000000e+00, 6.8600649e-01, 1.4901161e-07, 1.0000000e+00,\n",
            "        4.4305623e-03, 3.6353558e-01, 4.9398243e-01, 8.3354473e-01,\n",
            "        7.5531709e-01, 9.9997330e-01, 9.9999988e-01, 9.9999928e-01,\n",
            "        3.4701365e-01, 9.9491364e-01, 2.9802322e-08, 9.9806881e-01,\n",
            "        1.7767820e-01, 9.9999988e-01, 8.6430949e-01, 1.0000000e+00,\n",
            "        9.9999869e-01, 1.5548113e-01, 0.0000000e+00, 2.3173690e-02]],\n",
            "      dtype=float32), array([[3.6874056e-02, 0.0000000e+00, 6.4958179e-01, 1.0000000e+00,\n",
            "        3.9032102e-04, 3.3676624e-06, 8.6250883e-01, 1.0000000e+00,\n",
            "        0.0000000e+00, 1.0000000e+00, 1.0000000e+00, 9.9999952e-01,\n",
            "        0.0000000e+00, 1.0000000e+00, 2.1343827e-02, 1.7881393e-06,\n",
            "        0.0000000e+00, 1.4556289e-02, 4.9518144e-01, 3.5762787e-07,\n",
            "        9.9999833e-01, 7.9980940e-02, 9.9999797e-01, 2.3112252e-01,\n",
            "        9.6547341e-01, 9.6958929e-01, 0.0000000e+00, 1.0000000e+00,\n",
            "        1.9627467e-01, 4.5710424e-01, 2.6494229e-01, 1.0000000e+00,\n",
            "        3.8660449e-01, 1.0000000e+00, 9.9989688e-01, 4.3637651e-01,\n",
            "        9.9999994e-01, 0.0000000e+00, 9.9999905e-01, 0.0000000e+00,\n",
            "        9.9999863e-01, 1.0152307e-01, 9.9769533e-03, 9.9998915e-01,\n",
            "        9.3458474e-01, 3.0124021e-01, 3.6585087e-01, 4.0990099e-01,\n",
            "        1.3957304e-01, 9.9999881e-01, 9.7195238e-01, 9.9999988e-01,\n",
            "        7.0891261e-02, 9.9960256e-01, 0.0000000e+00, 9.9999982e-01,\n",
            "        8.2636487e-01, 1.0000000e+00, 4.0666640e-01, 1.0000000e+00,\n",
            "        1.0000000e+00, 4.1566640e-02, 8.3446503e-07, 1.3063094e-01]],\n",
            "      dtype=float32), array([[9.4975197e-01, 2.9802322e-08, 3.0157781e-01, 1.0000000e+00,\n",
            "        3.6061049e-02, 3.9339066e-06, 9.6992838e-01, 1.0000000e+00,\n",
            "        3.8743019e-07, 1.0000000e+00, 9.9999964e-01, 9.9999702e-01,\n",
            "        0.0000000e+00, 1.0000000e+00, 5.6909347e-01, 0.0000000e+00,\n",
            "        0.0000000e+00, 1.7224964e-01, 4.3365270e-02, 0.0000000e+00,\n",
            "        1.0000000e+00, 1.1467427e-02, 9.9860036e-01, 5.5081338e-01,\n",
            "        7.7240872e-01, 9.3950868e-01, 8.9406967e-08, 9.9999988e-01,\n",
            "        9.1228187e-01, 9.9572611e-01, 4.5538720e-01, 9.9999994e-01,\n",
            "        1.3391972e-02, 1.0000000e+00, 9.9999988e-01, 2.8648806e-01,\n",
            "        9.9999768e-01, 1.1920929e-07, 9.9999672e-01, 0.0000000e+00,\n",
            "        1.0000000e+00, 7.7649951e-01, 2.8908253e-06, 1.0000000e+00,\n",
            "        9.9588954e-01, 8.9772820e-01, 9.8261905e-01, 2.3382136e-01,\n",
            "        3.9784762e-01, 9.9999237e-01, 9.9999523e-01, 9.9999928e-01,\n",
            "        3.8616121e-02, 9.9944180e-01, 4.5299530e-06, 9.9999905e-01,\n",
            "        4.9514902e-01, 1.0000000e+00, 8.1295097e-01, 1.0000000e+00,\n",
            "        1.0000000e+00, 3.2767037e-01, 1.5258789e-05, 7.7365518e-02]],\n",
            "      dtype=float32), array([[7.7548075e-01, 0.0000000e+00, 1.0088673e-01, 1.0000000e+00,\n",
            "        4.9413443e-03, 1.2218952e-06, 7.3438489e-01, 9.9999595e-01,\n",
            "        5.9157610e-05, 1.0000000e+00, 9.9999797e-01, 1.0000000e+00,\n",
            "        0.0000000e+00, 1.0000000e+00, 9.4952911e-01, 0.0000000e+00,\n",
            "        5.0067902e-06, 3.7529290e-02, 7.3650765e-01, 0.0000000e+00,\n",
            "        9.9999827e-01, 3.8387150e-02, 9.9972212e-01, 9.9652195e-01,\n",
            "        4.2915940e-03, 6.4971584e-01, 5.3644180e-07, 1.0000000e+00,\n",
            "        9.0177006e-01, 5.6153208e-01, 8.9845729e-01, 9.9999261e-01,\n",
            "        8.4460533e-01, 9.9999571e-01, 9.9999666e-01, 1.4999580e-01,\n",
            "        1.0000000e+00, 1.5341043e-03, 9.9996847e-01, 2.9802322e-08,\n",
            "        9.9999917e-01, 5.2954227e-02, 2.6822090e-07, 9.9999917e-01,\n",
            "        1.3935983e-02, 7.4037170e-01, 2.6508027e-01, 4.4851273e-01,\n",
            "        8.5314363e-02, 9.9550855e-01, 9.9999774e-01, 9.9999952e-01,\n",
            "        8.6093652e-01, 9.9996638e-01, 5.9604645e-08, 9.9999869e-01,\n",
            "        8.7230313e-01, 9.9999684e-01, 2.8346825e-01, 9.9999863e-01,\n",
            "        1.0000000e+00, 7.7987891e-01, 0.0000000e+00, 2.3046100e-01]],\n",
            "      dtype=float32), array([[3.5216063e-01, 0.0000000e+00, 3.0786547e-01, 1.0000000e+00,\n",
            "        4.9445629e-02, 0.0000000e+00, 9.3990356e-02, 9.9999994e-01,\n",
            "        8.5383654e-05, 9.9999970e-01, 9.9990892e-01, 1.0000000e+00,\n",
            "        2.9802322e-07, 9.9999535e-01, 8.5875750e-01, 5.9604645e-08,\n",
            "        8.9406967e-08, 3.8067144e-01, 6.9700670e-01, 1.0728836e-06,\n",
            "        9.9999970e-01, 2.7990282e-01, 9.9999964e-01, 9.4808960e-01,\n",
            "        2.9367507e-02, 9.6398187e-01, 2.8163195e-05, 1.0000000e+00,\n",
            "        4.9638274e-01, 4.0042287e-01, 8.0347645e-01, 1.0000000e+00,\n",
            "        1.6757676e-01, 9.9999607e-01, 9.9999750e-01, 2.6561707e-02,\n",
            "        9.9999988e-01, 2.5331974e-06, 9.9993122e-01, 8.9406967e-08,\n",
            "        9.9999946e-01, 5.0867766e-02, 6.6161156e-06, 9.9999857e-01,\n",
            "        7.2155416e-02, 2.5713682e-02, 9.0062612e-01, 9.3482250e-01,\n",
            "        8.2155216e-01, 9.9997866e-01, 1.0000000e+00, 9.9999893e-01,\n",
            "        2.6391715e-02, 9.9999988e-01, 0.0000000e+00, 9.9991953e-01,\n",
            "        8.8895822e-01, 9.9999970e-01, 3.0190319e-02, 9.9998677e-01,\n",
            "        1.0000000e+00, 6.3196528e-01, 0.0000000e+00, 7.5085831e-01]],\n",
            "      dtype=float32), array([[1.15761995e-01, 0.00000000e+00, 8.24131489e-01, 1.00000000e+00,\n",
            "        9.94368553e-01, 0.00000000e+00, 2.80011535e-01, 9.99991059e-01,\n",
            "        4.76837158e-07, 1.00000000e+00, 9.99967813e-01, 9.99999762e-01,\n",
            "        5.06639481e-07, 1.00000000e+00, 4.69950646e-01, 4.17232513e-07,\n",
            "        2.86102295e-06, 2.67109275e-02, 9.55505908e-01, 2.98023224e-07,\n",
            "        9.99985337e-01, 7.89296031e-01, 9.99999046e-01, 1.13849103e-01,\n",
            "        2.95983553e-02, 9.98357296e-01, 6.25848770e-07, 9.99998748e-01,\n",
            "        7.92782485e-01, 1.69098645e-01, 7.81947970e-01, 1.00000000e+00,\n",
            "        1.80293322e-02, 1.00000000e+00, 9.99999404e-01, 8.99434149e-01,\n",
            "        1.00000000e+00, 0.00000000e+00, 9.99999881e-01, 0.00000000e+00,\n",
            "        1.00000000e+00, 5.40883601e-01, 1.19209290e-06, 9.99999821e-01,\n",
            "        9.41408515e-01, 6.42241359e-01, 2.83801198e-01, 8.43824923e-01,\n",
            "        1.25048190e-01, 9.99989688e-01, 9.99999642e-01, 9.99999881e-01,\n",
            "        5.22416830e-02, 9.94353771e-01, 0.00000000e+00, 9.99999821e-01,\n",
            "        7.66995370e-01, 1.00000000e+00, 3.67728025e-01, 1.00000000e+00,\n",
            "        9.99989748e-01, 2.97721028e-02, 8.94069672e-08, 2.08292305e-01]],\n",
            "      dtype=float32), array([[8.9529753e-01, 8.9406967e-08, 8.2331407e-01, 1.0000000e+00,\n",
            "        9.8681849e-01, 0.0000000e+00, 2.4175438e-01, 1.0000000e+00,\n",
            "        0.0000000e+00, 1.0000000e+00, 9.9960512e-01, 1.0000000e+00,\n",
            "        0.0000000e+00, 1.0000000e+00, 6.3488781e-03, 0.0000000e+00,\n",
            "        0.0000000e+00, 5.8883756e-01, 1.3411483e-01, 0.0000000e+00,\n",
            "        9.9999797e-01, 5.1827115e-01, 9.9995172e-01, 1.6183347e-02,\n",
            "        1.1641869e-01, 9.9933571e-01, 5.9604645e-08, 9.9999869e-01,\n",
            "        8.6777061e-02, 9.0809751e-01, 8.5601866e-02, 1.0000000e+00,\n",
            "        5.9560925e-02, 1.0000000e+00, 1.0000000e+00, 9.0774006e-01,\n",
            "        1.0000000e+00, 0.0000000e+00, 9.9999523e-01, 0.0000000e+00,\n",
            "        1.0000000e+00, 9.9256474e-01, 0.0000000e+00, 1.0000000e+00,\n",
            "        3.1616747e-02, 1.9031540e-01, 2.1135795e-01, 3.4601140e-01,\n",
            "        3.6737561e-02, 1.0000000e+00, 1.0000000e+00, 9.9999928e-01,\n",
            "        8.6873877e-01, 9.9999970e-01, 0.0000000e+00, 9.9995089e-01,\n",
            "        8.0120397e-01, 1.0000000e+00, 2.6915988e-01, 1.0000000e+00,\n",
            "        1.0000000e+00, 9.2013073e-01, 2.9802322e-08, 9.9133742e-01]],\n",
            "      dtype=float32), array([[6.5768659e-01, 1.5497208e-06, 7.0506412e-01, 9.9934840e-01,\n",
            "        2.3613682e-01, 0.0000000e+00, 6.9968492e-01, 1.0000000e+00,\n",
            "        0.0000000e+00, 1.0000000e+00, 9.9999774e-01, 1.0000000e+00,\n",
            "        0.0000000e+00, 1.0000000e+00, 1.3802552e-01, 1.7881393e-07,\n",
            "        8.9406967e-08, 8.9238513e-01, 9.1230321e-01, 0.0000000e+00,\n",
            "        9.9999851e-01, 7.7551568e-01, 9.9772036e-01, 9.4400108e-02,\n",
            "        8.2639450e-01, 9.9830979e-01, 1.1026859e-06, 9.9999988e-01,\n",
            "        3.7004766e-01, 5.8823085e-01, 9.7262096e-01, 1.0000000e+00,\n",
            "        4.3559510e-01, 1.0000000e+00, 9.9999821e-01, 5.4117441e-01,\n",
            "        1.0000000e+00, 0.0000000e+00, 9.9999827e-01, 0.0000000e+00,\n",
            "        9.9999970e-01, 6.4538628e-01, 0.0000000e+00, 9.9999964e-01,\n",
            "        2.5994778e-02, 3.5215169e-01, 1.0725260e-02, 9.7746849e-02,\n",
            "        8.6298513e-01, 9.9999869e-01, 9.9945807e-01, 9.9999988e-01,\n",
            "        6.8428147e-01, 9.9999958e-01, 0.0000000e+00, 9.9980271e-01,\n",
            "        1.8308446e-01, 1.0000000e+00, 7.5339723e-01, 1.0000000e+00,\n",
            "        1.0000000e+00, 1.9830346e-02, 0.0000000e+00, 9.7266901e-01]],\n",
            "      dtype=float32), array([[2.8170621e-01, 2.9802322e-08, 9.5443857e-01, 1.0000000e+00,\n",
            "        6.1771142e-01, 0.0000000e+00, 7.0776439e-01, 9.9996483e-01,\n",
            "        5.9604645e-08, 1.0000000e+00, 9.9999976e-01, 9.9999940e-01,\n",
            "        0.0000000e+00, 1.0000000e+00, 3.6314172e-01, 0.0000000e+00,\n",
            "        5.9604645e-08, 8.7421030e-02, 9.2748296e-01, 1.7881393e-07,\n",
            "        1.0000000e+00, 7.7458841e-01, 9.9997270e-01, 8.9480793e-01,\n",
            "        9.2786074e-02, 9.9818450e-01, 5.9604645e-08, 9.9999994e-01,\n",
            "        1.7472073e-01, 8.7326944e-01, 3.7940523e-01, 1.0000000e+00,\n",
            "        5.3425848e-02, 1.0000000e+00, 9.9990642e-01, 9.7592276e-01,\n",
            "        1.0000000e+00, 0.0000000e+00, 9.9998981e-01, 0.0000000e+00,\n",
            "        1.0000000e+00, 1.2549236e-01, 5.9604645e-08, 9.9999964e-01,\n",
            "        7.7250493e-01, 8.8889146e-01, 2.2419810e-02, 1.0207486e-01,\n",
            "        5.5030763e-02, 9.9999297e-01, 9.9999297e-01, 9.9999952e-01,\n",
            "        7.0608431e-01, 9.9999309e-01, 0.0000000e+00, 9.9999940e-01,\n",
            "        3.9353779e-01, 1.0000000e+00, 4.9522287e-01, 9.9999368e-01,\n",
            "        9.9999988e-01, 2.4568856e-02, 1.3530254e-05, 9.7974908e-01]],\n",
            "      dtype=float32), array([[3.7002504e-01, 0.0000000e+00, 4.9395919e-02, 1.0000000e+00,\n",
            "        5.9163272e-03, 7.1525574e-07, 8.3049095e-01, 1.0000000e+00,\n",
            "        1.7881393e-07, 1.0000000e+00, 9.9998236e-01, 9.9999952e-01,\n",
            "        5.9604645e-08, 9.9999964e-01, 2.8167218e-02, 0.0000000e+00,\n",
            "        0.0000000e+00, 2.4264455e-02, 6.7201078e-01, 2.3841858e-06,\n",
            "        1.0000000e+00, 8.1892443e-01, 9.8515874e-01, 4.8117384e-01,\n",
            "        9.7173297e-01, 9.8738372e-01, 3.6358833e-06, 1.0000000e+00,\n",
            "        1.0899365e-02, 9.3045223e-01, 2.2690031e-01, 1.0000000e+00,\n",
            "        4.1639414e-01, 9.9999982e-01, 9.9997801e-01, 9.3303800e-02,\n",
            "        9.9998981e-01, 2.0861626e-07, 9.9999583e-01, 0.0000000e+00,\n",
            "        1.0000000e+00, 5.6146890e-02, 1.1128187e-04, 9.9999881e-01,\n",
            "        7.7068460e-01, 2.3381788e-01, 9.8715055e-01, 9.5924073e-01,\n",
            "        1.9865501e-01, 9.9999911e-01, 1.0000000e+00, 9.9581528e-01,\n",
            "        9.5417494e-01, 9.9955559e-01, 0.0000000e+00, 1.0000000e+00,\n",
            "        7.3873699e-01, 1.0000000e+00, 5.6991553e-01, 1.0000000e+00,\n",
            "        9.9999964e-01, 5.4476351e-02, 0.0000000e+00, 6.3784242e-02]],\n",
            "      dtype=float32), array([[7.3775929e-01, 0.0000000e+00, 3.1410676e-01, 1.0000000e+00,\n",
            "        6.8225950e-02, 2.2351742e-05, 2.4692178e-02, 9.9995935e-01,\n",
            "        7.4505806e-07, 1.0000000e+00, 9.9999893e-01, 9.9999750e-01,\n",
            "        0.0000000e+00, 1.0000000e+00, 8.2823706e-01, 1.9967556e-06,\n",
            "        0.0000000e+00, 8.0002916e-01, 9.7109157e-01, 1.1920929e-07,\n",
            "        1.0000000e+00, 8.0398846e-01, 9.9999982e-01, 7.7203453e-02,\n",
            "        6.9595110e-01, 9.9579549e-01, 0.0000000e+00, 1.0000000e+00,\n",
            "        1.8587893e-01, 3.3827713e-01, 7.8449076e-01, 1.0000000e+00,\n",
            "        4.6948361e-01, 1.0000000e+00, 9.9999982e-01, 9.5619422e-01,\n",
            "        1.0000000e+00, 8.9406967e-08, 9.9998236e-01, 0.0000000e+00,\n",
            "        9.9999994e-01, 3.1580222e-01, 1.6272068e-05, 9.9999982e-01,\n",
            "        9.6581024e-01, 7.5657815e-01, 1.7952606e-01, 5.8075345e-01,\n",
            "        1.9071129e-01, 9.9998748e-01, 9.9999928e-01, 9.9999994e-01,\n",
            "        7.5649410e-02, 9.4463134e-01, 4.7683716e-07, 9.9741030e-01,\n",
            "        7.7236104e-01, 1.0000000e+00, 9.6947944e-01, 1.0000000e+00,\n",
            "        9.9999982e-01, 8.9920515e-01, 1.1920929e-07, 1.1724621e-02]],\n",
            "      dtype=float32), array([[4.6407759e-02, 8.9406967e-08, 9.0285486e-01, 1.0000000e+00,\n",
            "        2.7747989e-02, 0.0000000e+00, 4.5640710e-01, 1.0000000e+00,\n",
            "        1.7881393e-07, 1.0000000e+00, 9.9999982e-01, 9.9998915e-01,\n",
            "        1.5497208e-06, 1.0000000e+00, 8.2748920e-02, 4.1723251e-07,\n",
            "        0.0000000e+00, 7.8288466e-02, 2.0814341e-01, 0.0000000e+00,\n",
            "        9.9999988e-01, 8.6561984e-01, 9.9989021e-01, 6.1675006e-01,\n",
            "        9.7895998e-01, 9.9200451e-01, 5.9604645e-08, 1.0000000e+00,\n",
            "        8.6624718e-01, 7.3049253e-01, 6.5064943e-01, 9.9999994e-01,\n",
            "        5.4078549e-02, 1.0000000e+00, 9.9982619e-01, 2.6059884e-01,\n",
            "        9.9999988e-01, 0.0000000e+00, 9.9994218e-01, 0.0000000e+00,\n",
            "        1.0000000e+00, 7.6616085e-01, 9.2089176e-06, 9.9999988e-01,\n",
            "        8.7926173e-01, 4.0506423e-02, 2.5158691e-01, 3.2566082e-01,\n",
            "        9.5163822e-02, 9.9993825e-01, 9.9797177e-01, 9.9999690e-01,\n",
            "        8.1250590e-01, 9.9986857e-01, 0.0000000e+00, 9.9999976e-01,\n",
            "        5.1307607e-01, 9.9999923e-01, 9.9144191e-01, 9.9999988e-01,\n",
            "        9.9999166e-01, 2.7919292e-02, 6.4671040e-06, 7.0125520e-02]],\n",
            "      dtype=float32), array([[7.6482368e-01, 0.0000000e+00, 5.4863691e-03, 1.0000000e+00,\n",
            "        4.0003657e-04, 1.1920929e-07, 3.3149815e-01, 1.0000000e+00,\n",
            "        0.0000000e+00, 1.0000000e+00, 9.9996781e-01, 9.9999976e-01,\n",
            "        1.8477440e-06, 1.0000000e+00, 4.5028210e-02, 0.0000000e+00,\n",
            "        0.0000000e+00, 3.8565329e-01, 5.9407306e-01, 1.1920929e-07,\n",
            "        9.9999917e-01, 2.2550672e-02, 9.5576662e-01, 2.4956039e-01,\n",
            "        7.8258884e-01, 9.6641791e-01, 1.1920929e-07, 9.9999958e-01,\n",
            "        9.2596787e-01, 9.8769069e-01, 7.9783976e-02, 1.0000000e+00,\n",
            "        1.4332253e-01, 9.9999863e-01, 9.9996644e-01, 1.9967258e-02,\n",
            "        9.9999273e-01, 5.9604645e-08, 9.9999958e-01, 1.4901161e-07,\n",
            "        9.9996322e-01, 5.8699167e-01, 0.0000000e+00, 9.9994826e-01,\n",
            "        2.1007836e-02, 5.7915670e-01, 2.6182812e-01, 2.9269820e-01,\n",
            "        4.4568682e-01, 9.9951041e-01, 9.9986058e-01, 1.0000000e+00,\n",
            "        4.2441040e-02, 9.9999917e-01, 0.0000000e+00, 9.9996650e-01,\n",
            "        3.8556868e-01, 9.9999988e-01, 1.8600321e-01, 1.0000000e+00,\n",
            "        1.0000000e+00, 7.7791065e-02, 3.1590462e-06, 9.6869427e-01]],\n",
            "      dtype=float32), array([[8.4237909e-01, 0.0000000e+00, 9.7452545e-01, 1.0000000e+00,\n",
            "        9.7973919e-01, 0.0000000e+00, 1.5424168e-01, 9.9999970e-01,\n",
            "        0.0000000e+00, 1.0000000e+00, 9.9306178e-01, 1.0000000e+00,\n",
            "        5.9604645e-08, 1.0000000e+00, 3.0340165e-02, 0.0000000e+00,\n",
            "        1.1920929e-07, 8.9151651e-01, 8.7434554e-01, 4.7683716e-07,\n",
            "        9.9999905e-01, 8.8737559e-01, 9.9965382e-01, 2.5850207e-02,\n",
            "        2.7215511e-02, 9.9975830e-01, 8.4042549e-06, 1.0000000e+00,\n",
            "        3.5225511e-02, 6.1838889e-01, 2.6899654e-01, 1.0000000e+00,\n",
            "        6.3204551e-01, 1.0000000e+00, 9.9999994e-01, 8.7187243e-01,\n",
            "        1.0000000e+00, 0.0000000e+00, 1.0000000e+00, 0.0000000e+00,\n",
            "        1.0000000e+00, 5.0207448e-01, 0.0000000e+00, 1.0000000e+00,\n",
            "        7.3812902e-03, 2.0962948e-01, 5.5389214e-01, 5.1053739e-01,\n",
            "        5.1657587e-02, 1.0000000e+00, 1.0000000e+00, 9.9999988e-01,\n",
            "        8.5939670e-01, 9.9997890e-01, 0.0000000e+00, 9.9994099e-01,\n",
            "        5.0195765e-01, 1.0000000e+00, 7.6808739e-01, 1.0000000e+00,\n",
            "        9.9999982e-01, 1.2346536e-02, 2.9802322e-08, 7.6909292e-01]],\n",
            "      dtype=float32), array([[9.6691239e-01, 0.0000000e+00, 8.4401190e-02, 9.9999988e-01,\n",
            "        3.3994883e-02, 2.1901727e-04, 8.3810997e-01, 9.9999988e-01,\n",
            "        3.2782555e-07, 1.0000000e+00, 9.9674594e-01, 1.0000000e+00,\n",
            "        0.0000000e+00, 9.9999994e-01, 3.1083298e-01, 0.0000000e+00,\n",
            "        8.9406967e-08, 8.4161741e-01, 8.1689930e-01, 8.9406967e-08,\n",
            "        1.0000000e+00, 3.6893004e-01, 9.9999404e-01, 7.2676307e-01,\n",
            "        6.9341063e-03, 6.5515280e-01, 0.0000000e+00, 9.9999988e-01,\n",
            "        4.8432860e-01, 1.6458628e-01, 5.9416324e-01, 1.0000000e+00,\n",
            "        3.9472085e-01, 1.0000000e+00, 1.0000000e+00, 9.1519868e-01,\n",
            "        1.0000000e+00, 5.0663948e-07, 9.9999541e-01, 0.0000000e+00,\n",
            "        1.0000000e+00, 8.7364966e-01, 2.6822090e-07, 1.0000000e+00,\n",
            "        4.9283326e-02, 9.4839740e-01, 4.5857728e-02, 7.0483172e-01,\n",
            "        5.2629673e-01, 9.9999094e-01, 1.0000000e+00, 1.0000000e+00,\n",
            "        1.0383847e-01, 9.9987209e-01, 2.9802322e-08, 9.9988997e-01,\n",
            "        3.2704192e-01, 9.9999994e-01, 9.7444832e-01, 1.0000000e+00,\n",
            "        1.0000000e+00, 1.7366946e-01, 1.0728836e-06, 4.2362067e-01]],\n",
            "      dtype=float32), array([[1.8601981e-01, 6.8545341e-07, 9.4216818e-01, 1.0000000e+00,\n",
            "        2.3264205e-01, 0.0000000e+00, 1.7420754e-01, 1.0000000e+00,\n",
            "        1.1920929e-07, 1.0000000e+00, 9.9831259e-01, 1.0000000e+00,\n",
            "        1.1026859e-06, 1.0000000e+00, 3.3295453e-02, 0.0000000e+00,\n",
            "        0.0000000e+00, 6.9593966e-02, 7.6706201e-01, 1.1920929e-07,\n",
            "        9.9999952e-01, 9.9238759e-01, 9.9629295e-01, 4.1548759e-02,\n",
            "        2.7223235e-01, 9.9961519e-01, 1.0758638e-05, 1.0000000e+00,\n",
            "        6.9395423e-02, 6.2591505e-01, 2.1850994e-01, 1.0000000e+00,\n",
            "        4.0135422e-01, 9.9999994e-01, 9.9999988e-01, 5.3835499e-01,\n",
            "        1.0000000e+00, 0.0000000e+00, 9.9997276e-01, 0.0000000e+00,\n",
            "        9.9999988e-01, 9.8539501e-01, 5.9604645e-08, 1.0000000e+00,\n",
            "        2.5829285e-02, 9.1937155e-02, 4.5815280e-01, 6.8200052e-01,\n",
            "        8.2199824e-01, 1.0000000e+00, 9.9999988e-01, 9.9999094e-01,\n",
            "        6.6195822e-01, 9.9999809e-01, 0.0000000e+00, 9.9995399e-01,\n",
            "        5.7165611e-01, 1.0000000e+00, 3.7203449e-01, 9.9999994e-01,\n",
            "        1.0000000e+00, 1.7656726e-01, 5.9604645e-08, 8.6741811e-01]],\n",
            "      dtype=float32), array([[8.57409716e-01, 1.19209290e-07, 2.12910771e-01, 9.99999881e-01,\n",
            "        2.58736074e-01, 3.60339880e-04, 9.62902308e-01, 9.99999881e-01,\n",
            "        2.38418579e-07, 1.00000000e+00, 9.99987721e-01, 1.00000000e+00,\n",
            "        0.00000000e+00, 9.99999881e-01, 2.85561085e-02, 0.00000000e+00,\n",
            "        0.00000000e+00, 1.50310636e-01, 3.51877630e-01, 0.00000000e+00,\n",
            "        1.00000000e+00, 2.77079642e-01, 9.99261022e-01, 6.32163525e-01,\n",
            "        7.92394578e-02, 9.51287270e-01, 3.21865082e-06, 9.99999881e-01,\n",
            "        7.74073720e-01, 9.48065877e-01, 7.40337133e-01, 1.00000000e+00,\n",
            "        9.93460417e-03, 1.00000000e+00, 9.99998569e-01, 6.81194007e-01,\n",
            "        9.99989510e-01, 3.57627869e-07, 9.99999821e-01, 0.00000000e+00,\n",
            "        1.00000000e+00, 5.74175298e-01, 1.78813934e-06, 1.00000000e+00,\n",
            "        9.87100422e-01, 4.63730305e-01, 9.66463327e-01, 7.01802790e-01,\n",
            "        9.68426108e-01, 1.00000000e+00, 9.99999881e-01, 9.99901414e-01,\n",
            "        6.73937500e-02, 9.27071214e-01, 5.69820404e-05, 9.99983191e-01,\n",
            "        1.01750016e-01, 1.00000000e+00, 3.32020819e-02, 1.00000000e+00,\n",
            "        1.00000000e+00, 1.91429019e-01, 8.94069672e-08, 6.35656714e-03]],\n",
            "      dtype=float32), array([[9.3814772e-01, 1.8775463e-06, 8.8970578e-01, 1.0000000e+00,\n",
            "        3.1376901e-01, 2.6822090e-07, 7.8326428e-01, 9.9999857e-01,\n",
            "        0.0000000e+00, 1.0000000e+00, 9.9967563e-01, 9.9999964e-01,\n",
            "        0.0000000e+00, 1.0000000e+00, 7.7119553e-01, 0.0000000e+00,\n",
            "        0.0000000e+00, 1.2673548e-01, 9.9361145e-01, 8.3446503e-07,\n",
            "        1.0000000e+00, 9.4755781e-01, 9.9998289e-01, 7.2486484e-01,\n",
            "        2.4920192e-01, 9.9749064e-01, 4.7683716e-07, 9.9999988e-01,\n",
            "        1.1057624e-01, 6.4374006e-01, 2.3410103e-01, 1.0000000e+00,\n",
            "        1.9855720e-01, 9.9999970e-01, 9.9999988e-01, 9.8299682e-01,\n",
            "        1.0000000e+00, 0.0000000e+00, 9.9999970e-01, 0.0000000e+00,\n",
            "        9.9999630e-01, 8.7180495e-02, 1.7583370e-06, 1.0000000e+00,\n",
            "        5.6505162e-01, 9.1614735e-01, 2.5577158e-02, 3.7466818e-01,\n",
            "        8.8386780e-01, 9.9998546e-01, 9.9999702e-01, 1.0000000e+00,\n",
            "        4.0903026e-01, 9.9909294e-01, 0.0000000e+00, 9.9998945e-01,\n",
            "        6.6284269e-01, 1.0000000e+00, 6.0392863e-01, 1.0000000e+00,\n",
            "        9.9999994e-01, 2.9349595e-02, 5.9604645e-08, 9.3957520e-01]],\n",
            "      dtype=float32), array([[9.6671170e-01, 2.6226044e-06, 9.1300774e-01, 1.0000000e+00,\n",
            "        9.1723609e-01, 1.4901161e-07, 8.7813401e-01, 9.9999940e-01,\n",
            "        0.0000000e+00, 1.0000000e+00, 9.9999696e-01, 1.0000000e+00,\n",
            "        0.0000000e+00, 1.0000000e+00, 4.0732205e-02, 0.0000000e+00,\n",
            "        0.0000000e+00, 4.1081601e-01, 8.9750618e-01, 0.0000000e+00,\n",
            "        1.0000000e+00, 1.9226015e-02, 9.9991667e-01, 1.7827362e-01,\n",
            "        1.6371107e-01, 9.9904978e-01, 0.0000000e+00, 9.9999994e-01,\n",
            "        2.3591769e-01, 9.4119614e-01, 2.0360717e-01, 1.0000000e+00,\n",
            "        6.3557357e-02, 1.0000000e+00, 9.9999970e-01, 9.9240339e-01,\n",
            "        9.9999952e-01, 0.0000000e+00, 9.9999970e-01, 0.0000000e+00,\n",
            "        1.0000000e+00, 8.4182829e-02, 0.0000000e+00, 1.0000000e+00,\n",
            "        8.2135463e-01, 7.2719997e-01, 1.6367370e-01, 3.4518927e-02,\n",
            "        5.7357037e-01, 1.0000000e+00, 9.9999988e-01, 9.9999726e-01,\n",
            "        7.6758206e-01, 9.9999988e-01, 0.0000000e+00, 9.9999809e-01,\n",
            "        2.3455498e-01, 1.0000000e+00, 2.4212036e-01, 1.0000000e+00,\n",
            "        1.0000000e+00, 5.6907386e-02, 0.0000000e+00, 9.8147833e-01]],\n",
            "      dtype=float32), array([[9.4253802e-01, 0.0000000e+00, 4.2941809e-02, 1.0000000e+00,\n",
            "        7.7492595e-03, 1.2218952e-06, 1.6013578e-01, 1.0000000e+00,\n",
            "        1.1920929e-07, 1.0000000e+00, 9.9999988e-01, 1.0000000e+00,\n",
            "        0.0000000e+00, 1.0000000e+00, 2.4439156e-02, 0.0000000e+00,\n",
            "        0.0000000e+00, 1.6849220e-01, 8.3741748e-01, 0.0000000e+00,\n",
            "        9.9999970e-01, 2.1416008e-01, 9.8847902e-01, 7.2296858e-01,\n",
            "        9.9208152e-01, 9.8724276e-01, 2.9802322e-08, 1.0000000e+00,\n",
            "        1.9958434e-01, 9.2859340e-01, 8.6212242e-01, 1.0000000e+00,\n",
            "        4.4613689e-02, 9.9999923e-01, 9.9999988e-01, 6.2981278e-02,\n",
            "        1.0000000e+00, 2.9802322e-08, 9.9999511e-01, 0.0000000e+00,\n",
            "        9.9995589e-01, 8.8698661e-01, 5.9604645e-08, 9.9999154e-01,\n",
            "        7.2551578e-02, 2.6185369e-01, 1.7363489e-02, 1.9185901e-02,\n",
            "        1.2600398e-01, 9.9999511e-01, 9.9881923e-01, 1.0000000e+00,\n",
            "        4.9209434e-01, 9.9999946e-01, 0.0000000e+00, 9.9999845e-01,\n",
            "        6.8913037e-01, 1.0000000e+00, 5.9035891e-01, 1.0000000e+00,\n",
            "        1.0000000e+00, 2.6858920e-01, 8.6426735e-07, 9.5091951e-01]],\n",
            "      dtype=float32), array([[4.4905493e-01, 0.0000000e+00, 5.1771057e-01, 1.0000000e+00,\n",
            "        1.7619789e-02, 2.9802322e-08, 9.8520088e-01, 9.9999982e-01,\n",
            "        1.8839061e-02, 9.9999666e-01, 9.9822819e-01, 1.0000000e+00,\n",
            "        0.0000000e+00, 1.0000000e+00, 9.1825944e-01, 2.9802322e-08,\n",
            "        0.0000000e+00, 7.5950652e-02, 1.7536193e-02, 1.0728836e-06,\n",
            "        1.0000000e+00, 4.8631826e-01, 9.9996781e-01, 8.1130469e-01,\n",
            "        7.4387133e-02, 8.4185064e-01, 0.0000000e+00, 9.9999988e-01,\n",
            "        4.7553867e-02, 5.7975048e-01, 8.5827672e-01, 1.0000000e+00,\n",
            "        9.5079422e-01, 9.9999607e-01, 9.9999988e-01, 9.5970094e-01,\n",
            "        9.9999988e-01, 2.9802322e-08, 9.9999464e-01, 0.0000000e+00,\n",
            "        1.0000000e+00, 3.4716350e-01, 2.7626753e-05, 9.9999976e-01,\n",
            "        8.6022580e-01, 7.3040575e-01, 9.6695912e-01, 3.6161050e-01,\n",
            "        2.0134878e-01, 9.9999940e-01, 1.0000000e+00, 1.0000000e+00,\n",
            "        6.2066615e-03, 9.9996090e-01, 5.9604645e-08, 9.9999696e-01,\n",
            "        6.2241423e-01, 1.0000000e+00, 9.0011156e-01, 1.0000000e+00,\n",
            "        9.9999994e-01, 5.1413023e-01, 1.7881393e-07, 5.9467518e-01]],\n",
            "      dtype=float32), array([[3.7793785e-02, 0.0000000e+00, 7.9180753e-01, 1.0000000e+00,\n",
            "        3.7032664e-02, 1.9967556e-06, 1.0721597e-01, 9.9999988e-01,\n",
            "        8.9406967e-08, 1.0000000e+00, 9.9999779e-01, 9.9999988e-01,\n",
            "        2.9802322e-08, 1.0000000e+00, 3.2899529e-02, 1.6689301e-06,\n",
            "        0.0000000e+00, 5.7152569e-01, 9.0974051e-01, 0.0000000e+00,\n",
            "        1.0000000e+00, 1.0476154e-01, 9.9999821e-01, 5.7698643e-01,\n",
            "        9.6253645e-01, 9.9159157e-01, 6.8545341e-07, 9.9999988e-01,\n",
            "        7.8646660e-02, 3.1286529e-01, 8.7624639e-01, 9.9999970e-01,\n",
            "        5.6116343e-01, 1.0000000e+00, 9.9991643e-01, 1.1836290e-02,\n",
            "        1.0000000e+00, 0.0000000e+00, 9.9999881e-01, 0.0000000e+00,\n",
            "        1.0000000e+00, 6.0059011e-01, 5.6624413e-07, 9.9999988e-01,\n",
            "        7.5856388e-01, 5.8260661e-01, 2.1815041e-01, 6.6603714e-01,\n",
            "        1.0250005e-01, 9.9999881e-01, 9.9998438e-01, 9.9997765e-01,\n",
            "        7.5223267e-02, 9.9902880e-01, 9.2387199e-07, 9.9992037e-01,\n",
            "        4.3295130e-01, 1.0000000e+00, 4.7166675e-01, 9.9999940e-01,\n",
            "        1.0000000e+00, 4.6010107e-02, 0.0000000e+00, 6.5149367e-03]],\n",
            "      dtype=float32), array([[9.27268565e-02, 2.38418579e-07, 7.68725276e-02, 1.00000000e+00,\n",
            "        2.47517884e-01, 1.22785568e-05, 9.19335246e-01, 9.99896049e-01,\n",
            "        3.76403332e-05, 9.99999881e-01, 9.99994218e-01, 9.99949753e-01,\n",
            "        2.98023224e-08, 9.99999523e-01, 9.71676230e-01, 0.00000000e+00,\n",
            "        5.90085983e-06, 3.47986341e-01, 5.56787550e-01, 2.98023224e-08,\n",
            "        1.00000000e+00, 8.26595247e-01, 9.98448610e-01, 4.94366378e-01,\n",
            "        1.02331251e-01, 9.38269198e-01, 0.00000000e+00, 9.99999404e-01,\n",
            "        4.95054632e-01, 8.76432955e-01, 7.62241781e-01, 1.00000000e+00,\n",
            "        9.33011949e-01, 9.99997020e-01, 1.00000000e+00, 9.79399204e-01,\n",
            "        1.00000000e+00, 1.10268593e-06, 9.99997020e-01, 7.74860382e-07,\n",
            "        1.00000000e+00, 3.44514728e-01, 1.45733356e-05, 9.99999881e-01,\n",
            "        8.76150370e-01, 8.46632421e-01, 9.50338840e-01, 2.44741887e-01,\n",
            "        6.55256212e-02, 9.99997377e-01, 1.00000000e+00, 9.99996781e-01,\n",
            "        3.53653073e-01, 9.99753356e-01, 1.19209290e-07, 9.99939322e-01,\n",
            "        5.49710453e-01, 9.99999762e-01, 1.09918535e-01, 9.99968231e-01,\n",
            "        9.99999046e-01, 1.34390503e-01, 8.85128975e-06, 7.74626613e-01]],\n",
            "      dtype=float32), array([[8.7256503e-01, 0.0000000e+00, 7.9092443e-01, 1.0000000e+00,\n",
            "        5.1950216e-01, 2.9802322e-08, 3.0693260e-01, 9.9999368e-01,\n",
            "        3.0696392e-06, 1.0000000e+00, 9.9990106e-01, 1.0000000e+00,\n",
            "        2.5331974e-06, 1.0000000e+00, 1.1301160e-02, 0.0000000e+00,\n",
            "        0.0000000e+00, 4.4661790e-02, 1.1755049e-02, 0.0000000e+00,\n",
            "        9.9997711e-01, 1.0910988e-02, 9.9999237e-01, 9.3625754e-02,\n",
            "        8.8409483e-03, 9.9136364e-01, 8.9406967e-07, 9.9999976e-01,\n",
            "        9.9859941e-01, 2.7329206e-01, 4.0936750e-01, 1.0000000e+00,\n",
            "        2.0875067e-01, 1.0000000e+00, 1.0000000e+00, 9.2367947e-01,\n",
            "        9.9999976e-01, 5.9604645e-08, 9.9999994e-01, 1.4603138e-06,\n",
            "        1.0000000e+00, 7.4046099e-01, 6.8545341e-07, 9.9999976e-01,\n",
            "        4.8610747e-02, 3.3829713e-01, 1.8652982e-01, 3.7270111e-01,\n",
            "        5.7552457e-03, 9.9999869e-01, 9.9999976e-01, 9.9999988e-01,\n",
            "        4.5828819e-01, 9.9974501e-01, 0.0000000e+00, 1.0000000e+00,\n",
            "        8.8589907e-01, 1.0000000e+00, 5.4002345e-02, 1.0000000e+00,\n",
            "        1.0000000e+00, 2.3089561e-01, 2.9802322e-07, 5.0640285e-02]],\n",
            "      dtype=float32), array([[3.2287401e-01, 0.0000000e+00, 7.5209141e-04, 9.9999905e-01,\n",
            "        1.6197205e-02, 7.7486038e-07, 6.0922360e-01, 9.9999654e-01,\n",
            "        5.3644180e-07, 9.9983859e-01, 9.9976456e-01, 9.9999774e-01,\n",
            "        0.0000000e+00, 1.0000000e+00, 9.7192866e-01, 0.0000000e+00,\n",
            "        0.0000000e+00, 7.5396705e-01, 1.0076493e-02, 2.0861626e-07,\n",
            "        9.9995220e-01, 1.4666200e-02, 9.9607277e-01, 5.9899479e-02,\n",
            "        4.9587515e-01, 6.2890202e-02, 2.9802322e-08, 9.9999863e-01,\n",
            "        4.3731421e-01, 6.7872220e-01, 2.2813171e-02, 1.0000000e+00,\n",
            "        2.1051615e-02, 9.9999982e-01, 9.9999905e-01, 2.1632329e-01,\n",
            "        1.0000000e+00, 8.9406967e-08, 9.9993670e-01, 0.0000000e+00,\n",
            "        1.0000000e+00, 7.4731350e-01, 2.4139881e-06, 1.0000000e+00,\n",
            "        1.5221757e-01, 9.2727089e-01, 2.9540837e-02, 3.7048519e-02,\n",
            "        9.4036639e-01, 9.9996257e-01, 9.9999964e-01, 1.0000000e+00,\n",
            "        9.8654330e-03, 9.9998373e-01, 2.3841858e-07, 9.9097371e-01,\n",
            "        6.9810450e-03, 9.9999827e-01, 9.9384236e-01, 1.0000000e+00,\n",
            "        1.0000000e+00, 4.1879797e-01, 8.8423491e-05, 1.5031785e-01]],\n",
            "      dtype=float32), array([[3.1864518e-01, 0.0000000e+00, 9.6762204e-01, 1.0000000e+00,\n",
            "        2.4075243e-01, 2.3841858e-07, 6.8613595e-01, 9.9994457e-01,\n",
            "        1.0728836e-06, 1.0000000e+00, 9.9968851e-01, 9.9999952e-01,\n",
            "        0.0000000e+00, 1.0000000e+00, 4.2574805e-01, 0.0000000e+00,\n",
            "        3.2782555e-07, 8.4193379e-02, 9.5030844e-01, 1.0132790e-06,\n",
            "        9.9999988e-01, 9.8348218e-01, 9.9999452e-01, 6.8671513e-01,\n",
            "        1.3088188e-01, 9.9634016e-01, 3.8743019e-07, 9.9999988e-01,\n",
            "        1.1728901e-01, 8.0403686e-01, 8.6130941e-01, 9.9999976e-01,\n",
            "        2.6846677e-01, 9.9998164e-01, 9.9999702e-01, 9.7585207e-01,\n",
            "        1.0000000e+00, 5.9604645e-08, 9.9999011e-01, 0.0000000e+00,\n",
            "        9.9999988e-01, 8.5809857e-02, 4.0531158e-06, 9.9999106e-01,\n",
            "        6.1742842e-02, 5.1803702e-01, 1.7039508e-02, 4.6128759e-01,\n",
            "        1.7165217e-01, 9.9980211e-01, 9.9997026e-01, 9.9999994e-01,\n",
            "        4.8329118e-01, 9.9981570e-01, 0.0000000e+00, 1.0000000e+00,\n",
            "        4.1546568e-01, 9.9999976e-01, 4.2700014e-01, 9.9999988e-01,\n",
            "        1.0000000e+00, 2.9898918e-01, 0.0000000e+00, 3.6717796e-01]],\n",
            "      dtype=float32), array([[5.9990746e-01, 2.9802322e-08, 6.6817373e-02, 1.0000000e+00,\n",
            "        2.2317469e-03, 2.5093555e-04, 8.9634800e-01, 9.9999976e-01,\n",
            "        1.7881393e-07, 9.9815214e-01, 9.9979210e-01, 1.0000000e+00,\n",
            "        1.5497208e-06, 9.9997598e-01, 2.4541250e-01, 0.0000000e+00,\n",
            "        0.0000000e+00, 5.5527240e-02, 9.8318493e-01, 5.9604645e-08,\n",
            "        1.0000000e+00, 4.5283455e-01, 9.9967158e-01, 4.5895609e-01,\n",
            "        5.7029700e-01, 9.4064140e-01, 5.5915117e-04, 1.0000000e+00,\n",
            "        1.5944034e-01, 8.5826921e-01, 9.6772599e-01, 9.9997669e-01,\n",
            "        8.6381674e-01, 9.9976194e-01, 9.9996591e-01, 2.2815785e-01,\n",
            "        9.9990499e-01, 2.0861626e-07, 9.9999994e-01, 0.0000000e+00,\n",
            "        9.9998522e-01, 2.1828681e-01, 1.7881393e-06, 9.9999982e-01,\n",
            "        1.0808718e-01, 2.7403027e-01, 7.7019638e-01, 9.7801149e-01,\n",
            "        9.3419790e-01, 9.9999213e-01, 9.9999893e-01, 9.9999923e-01,\n",
            "        3.0152905e-01, 9.7696733e-01, 3.6746264e-05, 9.6614397e-01,\n",
            "        4.5876533e-02, 9.9999857e-01, 3.3115122e-01, 9.9999976e-01,\n",
            "        9.9948370e-01, 2.5225431e-01, 5.9604645e-08, 3.5441428e-02]],\n",
            "      dtype=float32), array([[1.60317630e-01, 0.00000000e+00, 1.48209929e-03, 1.00000000e+00,\n",
            "        1.99210644e-03, 2.38418579e-07, 2.39915043e-01, 9.99994576e-01,\n",
            "        2.98023224e-08, 9.99981582e-01, 9.99999881e-01, 9.99998212e-01,\n",
            "        2.98023224e-08, 1.00000000e+00, 9.69924748e-01, 2.98023224e-08,\n",
            "        0.00000000e+00, 7.54508078e-02, 8.69065523e-04, 0.00000000e+00,\n",
            "        9.99999762e-01, 2.72873044e-03, 9.99822140e-01, 2.00362206e-02,\n",
            "        8.90265942e-01, 5.27390063e-01, 0.00000000e+00, 1.00000000e+00,\n",
            "        8.59002709e-01, 1.40520811e-01, 2.12152183e-01, 1.00000000e+00,\n",
            "        9.63601470e-03, 9.99996185e-01, 9.99999106e-01, 2.39508152e-02,\n",
            "        9.99987364e-01, 0.00000000e+00, 9.99959826e-01, 0.00000000e+00,\n",
            "        9.99999583e-01, 7.33910024e-01, 2.57194042e-05, 9.99999881e-01,\n",
            "        7.33201265e-01, 8.90651524e-01, 9.42028165e-02, 1.04275942e-02,\n",
            "        6.58917069e-01, 9.93123412e-01, 9.99977469e-01, 1.00000000e+00,\n",
            "        1.21539354e-01, 9.98391271e-01, 1.54972076e-06, 9.99999404e-01,\n",
            "        1.85865462e-02, 1.00000000e+00, 6.11908019e-01, 1.00000000e+00,\n",
            "        9.99999523e-01, 2.83924341e-01, 1.36700571e-02, 9.35485959e-03]],\n",
            "      dtype=float32), array([[6.90427840e-01, 0.00000000e+00, 8.28579068e-03, 1.00000000e+00,\n",
            "        4.24385071e-04, 8.94069672e-07, 9.14344728e-01, 9.99999940e-01,\n",
            "        0.00000000e+00, 9.99999940e-01, 9.99999881e-01, 9.99973655e-01,\n",
            "        8.85128975e-06, 9.99999762e-01, 1.39428437e-01, 0.00000000e+00,\n",
            "        0.00000000e+00, 6.50168657e-02, 8.19491744e-02, 0.00000000e+00,\n",
            "        1.00000000e+00, 6.77199364e-02, 9.89735365e-01, 6.78852022e-01,\n",
            "        9.71735835e-01, 8.40319514e-01, 8.94069672e-08, 1.00000000e+00,\n",
            "        4.78440225e-02, 7.57334352e-01, 6.93500817e-01, 9.99999881e-01,\n",
            "        1.42507315e-01, 9.99999225e-01, 9.99995112e-01, 4.94905710e-02,\n",
            "        9.99987662e-01, 0.00000000e+00, 9.99999762e-01, 0.00000000e+00,\n",
            "        1.00000000e+00, 5.68578005e-01, 2.30073929e-05, 1.00000000e+00,\n",
            "        9.93862271e-01, 9.71456528e-01, 9.78018463e-01, 1.37754917e-01,\n",
            "        1.35093719e-01, 9.99999642e-01, 9.99999881e-01, 9.97545600e-01,\n",
            "        7.74171233e-01, 9.99582767e-01, 1.25169754e-06, 9.99999881e-01,\n",
            "        1.56554163e-01, 1.00000000e+00, 1.03000045e-01, 1.00000000e+00,\n",
            "        1.00000000e+00, 6.79319799e-02, 1.49011612e-07, 4.72050607e-02]],\n",
            "      dtype=float32), array([[2.3671135e-01, 8.9406967e-07, 9.0217674e-01, 9.9999976e-01,\n",
            "        1.9070917e-01, 1.4901161e-07, 5.2560985e-02, 1.0000000e+00,\n",
            "        6.8545341e-07, 1.0000000e+00, 9.9999964e-01, 9.9999690e-01,\n",
            "        0.0000000e+00, 1.0000000e+00, 1.2628436e-02, 0.0000000e+00,\n",
            "        0.0000000e+00, 9.6344560e-02, 9.1173291e-02, 0.0000000e+00,\n",
            "        1.0000000e+00, 6.4776802e-01, 9.9850333e-01, 1.3636410e-02,\n",
            "        6.8020612e-01, 9.9879479e-01, 6.5565109e-07, 1.0000000e+00,\n",
            "        5.7566899e-01, 5.4181123e-01, 9.4929713e-01, 1.0000000e+00,\n",
            "        8.6971760e-01, 1.0000000e+00, 9.9999928e-01, 9.5636141e-01,\n",
            "        9.9999321e-01, 0.0000000e+00, 9.9999905e-01, 0.0000000e+00,\n",
            "        1.0000000e+00, 2.9802883e-01, 4.7683716e-07, 9.9999630e-01,\n",
            "        8.2678318e-01, 3.2881469e-02, 8.3565903e-01, 2.7571112e-02,\n",
            "        6.4124930e-01, 1.0000000e+00, 1.0000000e+00, 9.9947304e-01,\n",
            "        6.7459399e-01, 9.9995983e-01, 2.9802322e-08, 9.9999452e-01,\n",
            "        2.1411985e-02, 1.0000000e+00, 5.2650547e-01, 1.0000000e+00,\n",
            "        9.9999982e-01, 2.3157889e-01, 2.0861626e-07, 2.7057666e-01]],\n",
            "      dtype=float32), array([[3.6667794e-01, 0.0000000e+00, 1.7872453e-04, 1.0000000e+00,\n",
            "        1.2406111e-03, 2.4437904e-06, 9.4683170e-03, 1.0000000e+00,\n",
            "        0.0000000e+00, 9.9999976e-01, 9.9999821e-01, 1.0000000e+00,\n",
            "        0.0000000e+00, 9.9999976e-01, 3.7979093e-01, 3.4272671e-06,\n",
            "        0.0000000e+00, 8.3105958e-01, 6.3836187e-02, 0.0000000e+00,\n",
            "        9.9410915e-01, 5.4676372e-01, 9.9998200e-01, 6.9149685e-01,\n",
            "        9.6966332e-01, 7.0977181e-01, 0.0000000e+00, 9.9999404e-01,\n",
            "        9.2626780e-01, 3.2891637e-01, 7.8143072e-01, 1.0000000e+00,\n",
            "        4.5597520e-01, 9.9999940e-01, 9.9999976e-01, 2.8136533e-01,\n",
            "        1.0000000e+00, 0.0000000e+00, 9.9999869e-01, 0.0000000e+00,\n",
            "        9.9999940e-01, 8.2361591e-01, 4.4345856e-05, 9.9988735e-01,\n",
            "        7.5172055e-01, 9.7073388e-01, 5.4416627e-02, 7.9227370e-01,\n",
            "        5.1431835e-02, 9.9999821e-01, 9.9999851e-01, 1.0000000e+00,\n",
            "        1.5822023e-02, 9.9999750e-01, 0.0000000e+00, 9.9999160e-01,\n",
            "        7.2848111e-01, 1.0000000e+00, 1.7671633e-01, 1.0000000e+00,\n",
            "        1.0000000e+00, 8.1609952e-01, 7.4803829e-06, 9.4384789e-01]],\n",
            "      dtype=float32), array([[1.6489416e-01, 8.3446503e-07, 1.0389653e-01, 9.9999905e-01,\n",
            "        4.5271164e-01, 6.6161156e-06, 8.2927996e-01, 9.9944472e-01,\n",
            "        3.5226345e-05, 9.9999988e-01, 9.9999988e-01, 9.9985814e-01,\n",
            "        2.2053719e-06, 9.9999994e-01, 9.2237097e-01, 0.0000000e+00,\n",
            "        3.1888485e-06, 4.3003780e-01, 9.0813750e-01, 2.0861626e-07,\n",
            "        1.0000000e+00, 6.4461899e-01, 9.9986821e-01, 5.1121980e-02,\n",
            "        1.3200161e-01, 8.3664769e-01, 1.4901161e-07, 9.9999934e-01,\n",
            "        1.7053443e-01, 9.5249557e-01, 9.5341897e-01, 1.0000000e+00,\n",
            "        8.3642864e-01, 9.9999881e-01, 9.9999952e-01, 9.7398865e-01,\n",
            "        1.0000000e+00, 1.4692545e-05, 9.9957049e-01, 0.0000000e+00,\n",
            "        9.9999946e-01, 1.4094558e-01, 1.8829703e-03, 9.9999964e-01,\n",
            "        8.5693949e-01, 7.7075315e-01, 9.6441329e-01, 1.2008071e-01,\n",
            "        4.6257675e-02, 9.9999797e-01, 1.0000000e+00, 9.9999428e-01,\n",
            "        5.6698918e-01, 9.9999201e-01, 5.0663948e-07, 9.9997294e-01,\n",
            "        3.7432894e-01, 9.9999845e-01, 2.3833624e-01, 9.9997687e-01,\n",
            "        9.9999273e-01, 8.8543320e-01, 9.7185373e-05, 9.0366423e-01]],\n",
            "      dtype=float32), array([[3.34444046e-02, 0.00000000e+00, 6.96562171e-01, 1.00000000e+00,\n",
            "        5.18286228e-02, 5.96046448e-08, 1.57370597e-01, 1.00000000e+00,\n",
            "        0.00000000e+00, 1.00000000e+00, 9.99993324e-01, 9.99999762e-01,\n",
            "        1.47819519e-05, 1.00000000e+00, 7.37122893e-02, 0.00000000e+00,\n",
            "        0.00000000e+00, 5.58937192e-02, 4.67590779e-01, 5.75184822e-06,\n",
            "        9.99999762e-01, 6.18147373e-01, 9.99943972e-01, 2.51634419e-02,\n",
            "        9.94627774e-01, 9.99610662e-01, 8.27908516e-05, 1.00000000e+00,\n",
            "        7.09397197e-02, 7.13920414e-01, 4.79385555e-02, 9.99999642e-01,\n",
            "        5.04495740e-01, 1.00000000e+00, 9.99998450e-01, 6.33415103e-01,\n",
            "        9.99999940e-01, 0.00000000e+00, 9.99963403e-01, 0.00000000e+00,\n",
            "        9.99999404e-01, 5.13001382e-02, 7.18235970e-06, 9.99999881e-01,\n",
            "        1.96917087e-01, 4.42233384e-02, 7.68332481e-01, 9.21157718e-01,\n",
            "        1.95834011e-01, 9.99999821e-01, 9.99995410e-01, 9.99977410e-01,\n",
            "        9.57493186e-01, 9.99832511e-01, 0.00000000e+00, 9.99991894e-01,\n",
            "        7.94770181e-01, 9.99999881e-01, 8.52106333e-01, 9.99997854e-01,\n",
            "        9.99997377e-01, 1.03556514e-01, 0.00000000e+00, 1.80280805e-01]],\n",
            "      dtype=float32), array([[5.84416389e-01, 0.00000000e+00, 9.68083262e-01, 1.00000000e+00,\n",
            "        1.55439526e-01, 3.39746475e-06, 6.69855773e-01, 9.99982119e-01,\n",
            "        4.05311584e-06, 9.99998450e-01, 9.99809146e-01, 1.00000000e+00,\n",
            "        1.17450953e-04, 9.99999940e-01, 4.02241647e-02, 2.08616257e-07,\n",
            "        3.57627869e-07, 7.42852390e-02, 6.24590218e-02, 0.00000000e+00,\n",
            "        1.00000000e+00, 3.19339335e-02, 9.99976933e-01, 6.45178795e-01,\n",
            "        1.02792084e-02, 9.96773005e-01, 3.87430191e-06, 1.00000000e+00,\n",
            "        8.46881509e-01, 2.60733962e-01, 7.45383024e-01, 9.99999762e-01,\n",
            "        6.97713554e-01, 1.00000000e+00, 9.99985695e-01, 9.66207862e-01,\n",
            "        9.99999523e-01, 1.19209290e-07, 9.99999940e-01, 3.27825546e-07,\n",
            "        1.00000000e+00, 7.69164801e-01, 1.84774399e-06, 1.00000000e+00,\n",
            "        1.67372823e-02, 4.30059731e-01, 8.13045323e-01, 9.59668994e-01,\n",
            "        8.65545869e-03, 9.99999285e-01, 1.00000000e+00, 9.99992013e-01,\n",
            "        4.61812705e-01, 9.96676147e-01, 8.94069672e-08, 9.99998689e-01,\n",
            "        1.04482144e-01, 1.00000000e+00, 3.87756526e-02, 9.99999404e-01,\n",
            "        1.00000000e+00, 2.38114655e-01, 2.98023224e-08, 1.64747238e-02]],\n",
            "      dtype=float32), array([[3.45554948e-02, 0.00000000e+00, 9.57216144e-01, 1.00000000e+00,\n",
            "        1.08899355e-01, 0.00000000e+00, 7.61840105e-01, 9.99998927e-01,\n",
            "        1.19805336e-05, 1.00000000e+00, 9.99882817e-01, 9.99992490e-01,\n",
            "        1.99675560e-06, 1.00000000e+00, 8.84910285e-01, 2.98023224e-08,\n",
            "        1.40070915e-05, 4.18259799e-02, 5.51989794e-01, 4.44054604e-06,\n",
            "        1.00000000e+00, 9.47757959e-01, 9.99033630e-01, 3.53690863e-01,\n",
            "        6.52835071e-02, 9.95848894e-01, 4.76837158e-07, 9.99999940e-01,\n",
            "        5.29854655e-01, 6.12693191e-01, 3.40450644e-01, 9.99999464e-01,\n",
            "        2.06483871e-01, 9.99029696e-01, 9.99999523e-01, 1.04381740e-02,\n",
            "        1.00000000e+00, 2.08616257e-06, 9.99607623e-01, 0.00000000e+00,\n",
            "        9.99999821e-01, 1.41931146e-01, 3.84449959e-06, 9.99987006e-01,\n",
            "        9.21582818e-01, 3.87791634e-01, 8.65524054e-01, 3.88266385e-01,\n",
            "        6.73466206e-01, 9.99293327e-01, 9.99997497e-01, 9.99997914e-01,\n",
            "        6.09461069e-02, 9.99855876e-01, 6.25848770e-07, 9.99934673e-01,\n",
            "        7.99161673e-01, 1.00000000e+00, 6.59240007e-01, 1.00000000e+00,\n",
            "        9.99977827e-01, 9.07802820e-01, 4.76837158e-07, 8.74592960e-02]],\n",
            "      dtype=float32), array([[5.1658928e-02, 5.3644180e-07, 7.5332552e-02, 9.9962312e-01,\n",
            "        4.0214437e-01, 4.4703484e-07, 9.7869289e-01, 9.9999988e-01,\n",
            "        2.7149916e-05, 9.9999988e-01, 9.0436578e-01, 9.9998063e-01,\n",
            "        0.0000000e+00, 1.0000000e+00, 9.7738349e-01, 1.6093254e-06,\n",
            "        1.7613173e-05, 8.6218745e-02, 6.6436851e-01, 1.7881393e-07,\n",
            "        9.9997288e-01, 5.7399195e-01, 9.9556506e-01, 1.5632597e-01,\n",
            "        9.5667154e-01, 2.7610761e-01, 4.4703484e-07, 9.9999654e-01,\n",
            "        7.2121191e-01, 1.7428941e-01, 2.5486109e-01, 9.9999988e-01,\n",
            "        6.2416017e-02, 9.9990308e-01, 9.9998438e-01, 5.9783518e-01,\n",
            "        9.9999994e-01, 1.2218952e-06, 9.9915969e-01, 0.0000000e+00,\n",
            "        9.9999946e-01, 6.9917375e-01, 8.9406967e-08, 9.9999988e-01,\n",
            "        8.5143566e-02, 9.2581761e-01, 1.3590246e-02, 5.4544806e-03,\n",
            "        8.8972330e-01, 9.9993479e-01, 9.7175097e-01, 1.0000000e+00,\n",
            "        7.6446176e-02, 9.9980164e-01, 1.0132790e-06, 9.9973887e-01,\n",
            "        4.6508014e-02, 9.9994123e-01, 9.8002601e-01, 1.0000000e+00,\n",
            "        9.9999970e-01, 7.8388751e-02, 5.8889389e-05, 2.3592979e-01]],\n",
            "      dtype=float32), array([[5.0307667e-01, 7.9572201e-05, 8.4708250e-01, 1.0000000e+00,\n",
            "        9.1063404e-01, 0.0000000e+00, 4.8870587e-01, 1.0000000e+00,\n",
            "        2.9802322e-08, 1.0000000e+00, 9.9999750e-01, 9.9995410e-01,\n",
            "        0.0000000e+00, 1.0000000e+00, 2.9282224e-01, 6.8545341e-07,\n",
            "        0.0000000e+00, 2.2038251e-02, 6.1700702e-02, 3.8743019e-07,\n",
            "        1.0000000e+00, 9.3058366e-01, 9.9989164e-01, 1.3402760e-02,\n",
            "        7.7836692e-01, 9.9479198e-01, 0.0000000e+00, 9.9999952e-01,\n",
            "        9.3090522e-01, 8.9814186e-01, 2.0507923e-01, 1.0000000e+00,\n",
            "        6.8401933e-02, 9.9999988e-01, 1.0000000e+00, 8.6555082e-01,\n",
            "        1.0000000e+00, 0.0000000e+00, 9.9998927e-01, 0.0000000e+00,\n",
            "        9.9999976e-01, 2.1836957e-01, 3.9801002e-04, 9.9999571e-01,\n",
            "        9.9485409e-01, 3.3285081e-02, 7.4426872e-01, 1.4141962e-01,\n",
            "        3.6225820e-01, 9.9999964e-01, 9.9999982e-01, 9.9999940e-01,\n",
            "        2.3168635e-01, 9.9999595e-01, 0.0000000e+00, 9.9999988e-01,\n",
            "        7.8355974e-01, 9.9999964e-01, 9.1130781e-01, 1.0000000e+00,\n",
            "        9.9999976e-01, 2.6247990e-01, 1.9818544e-05, 7.9463518e-01]],\n",
            "      dtype=float32), array([[3.5879076e-01, 0.0000000e+00, 1.4106059e-01, 1.0000000e+00,\n",
            "        1.9432843e-02, 1.7881393e-07, 6.9619370e-01, 9.9999982e-01,\n",
            "        1.0937452e-05, 9.9999255e-01, 9.9953055e-01, 1.0000000e+00,\n",
            "        0.0000000e+00, 9.9932837e-01, 5.7535523e-01, 0.0000000e+00,\n",
            "        0.0000000e+00, 1.2423733e-01, 8.1728548e-01, 2.9802322e-08,\n",
            "        9.9999958e-01, 5.9238362e-01, 9.9820387e-01, 7.5293577e-01,\n",
            "        1.6970128e-02, 9.5416909e-01, 8.9406967e-08, 1.0000000e+00,\n",
            "        4.2791671e-01, 3.4609377e-02, 1.9948238e-01, 9.9992526e-01,\n",
            "        9.5243365e-01, 1.0000000e+00, 1.0000000e+00, 1.7535329e-02,\n",
            "        1.0000000e+00, 0.0000000e+00, 9.9999928e-01, 8.9406967e-08,\n",
            "        9.9999994e-01, 5.7623887e-01, 5.9604645e-08, 1.0000000e+00,\n",
            "        1.5787563e-01, 8.5424948e-01, 9.3960989e-01, 5.0130701e-01,\n",
            "        9.2610312e-01, 9.9999481e-01, 1.0000000e+00, 9.9999857e-01,\n",
            "        2.7491185e-01, 9.9951327e-01, 0.0000000e+00, 9.9876785e-01,\n",
            "        3.4410518e-01, 9.9999976e-01, 3.0191571e-01, 9.9999958e-01,\n",
            "        9.9999797e-01, 1.3608307e-01, 0.0000000e+00, 9.6917957e-02]],\n",
            "      dtype=float32), array([[8.8016230e-01, 0.0000000e+00, 7.3451960e-01, 1.0000000e+00,\n",
            "        7.0129257e-01, 1.4901161e-07, 9.8527879e-01, 1.0000000e+00,\n",
            "        0.0000000e+00, 9.9999988e-01, 9.9993920e-01, 1.0000000e+00,\n",
            "        4.4703484e-07, 9.9999946e-01, 9.5423162e-03, 6.8545341e-07,\n",
            "        0.0000000e+00, 3.1290773e-01, 8.1224167e-01, 0.0000000e+00,\n",
            "        1.0000000e+00, 6.6460896e-01, 9.9995106e-01, 3.4581870e-02,\n",
            "        9.7568667e-01, 9.3634087e-01, 1.7881393e-07, 9.9999988e-01,\n",
            "        4.4438809e-02, 8.3874118e-01, 8.1257242e-01, 1.0000000e+00,\n",
            "        5.6699961e-02, 1.0000000e+00, 1.0000000e+00, 7.1665668e-01,\n",
            "        9.9999994e-01, 2.9802322e-08, 1.0000000e+00, 0.0000000e+00,\n",
            "        1.0000000e+00, 6.6313756e-01, 1.8477440e-06, 1.0000000e+00,\n",
            "        9.3858826e-01, 8.4332317e-01, 9.5481014e-01, 6.6477406e-01,\n",
            "        2.4440014e-01, 1.0000000e+00, 9.9999976e-01, 9.9849319e-01,\n",
            "        5.5965513e-02, 9.9996668e-01, 8.9406967e-08, 9.9999726e-01,\n",
            "        8.8259757e-02, 1.0000000e+00, 6.8929344e-02, 1.0000000e+00,\n",
            "        1.0000000e+00, 3.7662807e-01, 0.0000000e+00, 1.6627225e-01]],\n",
            "      dtype=float32), array([[9.1196764e-01, 0.0000000e+00, 4.6428949e-02, 1.0000000e+00,\n",
            "        5.3988695e-02, 2.9802322e-08, 7.4420148e-01, 9.9999940e-01,\n",
            "        3.5166740e-06, 9.9999547e-01, 9.9940574e-01, 9.9999976e-01,\n",
            "        0.0000000e+00, 1.0000000e+00, 8.9599675e-01, 1.4901161e-07,\n",
            "        2.9802322e-08, 8.0451697e-01, 2.3097274e-01, 5.9604645e-08,\n",
            "        9.9999845e-01, 2.7578551e-01, 9.9981236e-01, 8.5209459e-02,\n",
            "        3.5865092e-01, 9.8340487e-01, 8.9406967e-08, 9.9999976e-01,\n",
            "        2.6152474e-01, 9.3027711e-02, 1.6378143e-01, 1.0000000e+00,\n",
            "        1.1357048e-01, 9.9999809e-01, 1.0000000e+00, 3.0946863e-01,\n",
            "        9.9999988e-01, 4.7683716e-07, 9.9999917e-01, 0.0000000e+00,\n",
            "        1.0000000e+00, 9.9550873e-02, 1.7881393e-07, 1.0000000e+00,\n",
            "        3.2225996e-01, 6.0477668e-01, 6.1141223e-02, 3.7708032e-01,\n",
            "        9.2503947e-01, 9.9993777e-01, 9.9999821e-01, 1.0000000e+00,\n",
            "        1.8257260e-02, 9.9422461e-01, 1.4901161e-07, 6.1358511e-01,\n",
            "        8.1382692e-03, 9.9999994e-01, 9.9554598e-01, 1.0000000e+00,\n",
            "        9.9999988e-01, 8.2142335e-01, 8.9406967e-08, 4.6366602e-02]],\n",
            "      dtype=float32), array([[2.0143449e-01, 0.0000000e+00, 9.6140516e-01, 1.0000000e+00,\n",
            "        5.4624701e-01, 0.0000000e+00, 7.1043366e-01, 1.0000000e+00,\n",
            "        2.0563602e-06, 1.0000000e+00, 9.9999928e-01, 1.0000000e+00,\n",
            "        1.7881393e-07, 1.0000000e+00, 1.3639060e-01, 1.4901161e-07,\n",
            "        0.0000000e+00, 6.2063396e-02, 4.4201875e-01, 0.0000000e+00,\n",
            "        1.0000000e+00, 2.0777023e-01, 9.9999958e-01, 1.4551431e-02,\n",
            "        9.7561610e-01, 9.9076837e-01, 0.0000000e+00, 9.9999970e-01,\n",
            "        6.0648680e-02, 9.2478752e-02, 1.6293818e-01, 1.0000000e+00,\n",
            "        7.2942197e-02, 9.9999994e-01, 1.0000000e+00, 8.9134860e-01,\n",
            "        1.0000000e+00, 0.0000000e+00, 9.9993324e-01, 0.0000000e+00,\n",
            "        9.9998248e-01, 2.0192310e-01, 1.8179417e-06, 1.0000000e+00,\n",
            "        9.5247859e-01, 3.9328873e-02, 2.4557143e-02, 5.0478882e-01,\n",
            "        6.7663252e-01, 9.9999952e-01, 9.9954891e-01, 9.9999905e-01,\n",
            "        3.9225012e-02, 9.9999523e-01, 0.0000000e+00, 9.9999988e-01,\n",
            "        8.9009511e-01, 1.0000000e+00, 3.5312712e-02, 9.9999899e-01,\n",
            "        1.0000000e+00, 9.9099696e-01, 0.0000000e+00, 4.2637661e-01]],\n",
            "      dtype=float32), array([[9.33094263e-01, 3.57627869e-07, 7.48175204e-01, 1.00000000e+00,\n",
            "        9.95498300e-01, 5.96046448e-08, 9.78736281e-01, 1.00000000e+00,\n",
            "        0.00000000e+00, 1.00000000e+00, 9.99959230e-01, 9.99997973e-01,\n",
            "        1.07288361e-06, 1.00000000e+00, 3.45605344e-01, 2.98023224e-08,\n",
            "        0.00000000e+00, 7.35281706e-02, 8.26085448e-01, 5.96046448e-08,\n",
            "        1.00000000e+00, 1.19812995e-01, 9.99985933e-01, 1.87858641e-02,\n",
            "        9.82908726e-01, 9.90527213e-01, 3.75509262e-06, 9.99992609e-01,\n",
            "        1.86252981e-01, 9.44635510e-01, 1.32129520e-01, 1.00000000e+00,\n",
            "        1.01033747e-01, 1.00000000e+00, 1.00000000e+00, 5.15972376e-01,\n",
            "        1.00000000e+00, 8.94069672e-08, 9.99999106e-01, 0.00000000e+00,\n",
            "        9.99992967e-01, 5.90462685e-01, 3.57627869e-07, 1.00000000e+00,\n",
            "        9.93005753e-01, 8.90551686e-01, 9.51908708e-01, 9.30768728e-01,\n",
            "        4.66446459e-01, 1.00000000e+00, 1.00000000e+00, 9.99594867e-01,\n",
            "        3.08254719e-01, 9.99947309e-01, 2.98023224e-08, 9.98634100e-01,\n",
            "        7.02575803e-01, 9.99999762e-01, 5.58566749e-02, 1.00000000e+00,\n",
            "        1.00000000e+00, 9.70529079e-01, 0.00000000e+00, 7.09531426e-01]],\n",
            "      dtype=float32), array([[3.7560076e-02, 0.0000000e+00, 3.9908206e-01, 1.0000000e+00,\n",
            "        2.7411968e-02, 0.0000000e+00, 8.5821450e-01, 9.9999988e-01,\n",
            "        0.0000000e+00, 1.0000000e+00, 9.9988866e-01, 9.9999881e-01,\n",
            "        2.0861626e-07, 1.0000000e+00, 9.5637214e-01, 8.8512897e-06,\n",
            "        1.0132790e-06, 4.9301624e-02, 7.0917559e-01, 5.9604645e-08,\n",
            "        9.9999994e-01, 3.1767994e-01, 9.9999893e-01, 1.2534893e-01,\n",
            "        9.9451530e-01, 9.9155235e-01, 0.0000000e+00, 9.9996430e-01,\n",
            "        6.3014328e-01, 4.8025250e-02, 6.0852528e-02, 9.9999785e-01,\n",
            "        9.7311139e-02, 9.9963093e-01, 1.0000000e+00, 1.0668859e-01,\n",
            "        1.0000000e+00, 0.0000000e+00, 9.9999678e-01, 0.0000000e+00,\n",
            "        9.9999726e-01, 8.4379166e-02, 1.3113022e-06, 9.9999779e-01,\n",
            "        7.2370976e-01, 9.0867925e-01, 3.7544489e-02, 6.9990832e-01,\n",
            "        7.3400950e-01, 9.9994671e-01, 9.9942106e-01, 1.0000000e+00,\n",
            "        1.8795997e-02, 9.9989790e-01, 0.0000000e+00, 9.9971092e-01,\n",
            "        8.2452923e-01, 9.9999976e-01, 4.4154793e-01, 1.0000000e+00,\n",
            "        9.9999994e-01, 4.2178273e-01, 2.3841858e-07, 3.6164850e-01]],\n",
            "      dtype=float32), array([[1.56399608e-01, 0.00000000e+00, 4.81035113e-01, 1.00000000e+00,\n",
            "        1.32519305e-02, 7.45058060e-07, 4.18746591e-01, 1.00000000e+00,\n",
            "        0.00000000e+00, 1.00000000e+00, 9.99997437e-01, 9.99999285e-01,\n",
            "        1.19209290e-07, 1.00000000e+00, 9.17313993e-02, 0.00000000e+00,\n",
            "        0.00000000e+00, 1.13602579e-02, 7.44578004e-01, 1.63912773e-06,\n",
            "        9.99996364e-01, 4.14343417e-01, 9.97122407e-01, 2.20048130e-02,\n",
            "        9.52399373e-01, 9.98714268e-01, 1.54972076e-06, 1.00000000e+00,\n",
            "        1.02302700e-01, 8.19980562e-01, 1.05329156e-02, 9.99999762e-01,\n",
            "        5.53913593e-01, 1.00000000e+00, 9.99985576e-01, 3.21029127e-01,\n",
            "        1.00000000e+00, 2.98023224e-08, 9.99920845e-01, 0.00000000e+00,\n",
            "        9.99999881e-01, 2.09506452e-02, 1.29124522e-03, 1.00000000e+00,\n",
            "        5.58004975e-01, 4.49452519e-01, 9.66562033e-01, 7.09706545e-01,\n",
            "        5.82457483e-02, 1.00000000e+00, 9.99998987e-01, 9.98049855e-01,\n",
            "        9.43418384e-01, 9.99957800e-01, 0.00000000e+00, 9.99999881e-01,\n",
            "        9.06135261e-01, 1.00000000e+00, 6.61250114e-01, 1.00000000e+00,\n",
            "        9.99994874e-01, 9.06355083e-02, 0.00000000e+00, 3.18550885e-01]],\n",
            "      dtype=float32), array([[8.1431210e-01, 0.0000000e+00, 7.4902922e-01, 1.0000000e+00,\n",
            "        1.9992083e-02, 1.1920929e-07, 1.8937260e-02, 9.9952292e-01,\n",
            "        2.9802322e-08, 1.0000000e+00, 9.9999952e-01, 9.9999976e-01,\n",
            "        8.9406967e-08, 1.0000000e+00, 5.8131719e-01, 0.0000000e+00,\n",
            "        0.0000000e+00, 2.9014206e-01, 2.8523475e-02, 0.0000000e+00,\n",
            "        1.0000000e+00, 4.4463208e-01, 9.7348875e-01, 8.7284505e-01,\n",
            "        1.8016011e-02, 9.9690789e-01, 0.0000000e+00, 1.0000000e+00,\n",
            "        7.6215720e-01, 9.8366654e-01, 1.3845801e-02, 1.0000000e+00,\n",
            "        6.4673448e-01, 1.0000000e+00, 1.0000000e+00, 4.4881701e-01,\n",
            "        1.0000000e+00, 0.0000000e+00, 9.9927574e-01, 6.5565109e-07,\n",
            "        1.0000000e+00, 8.0786496e-02, 1.9669533e-06, 1.0000000e+00,\n",
            "        7.1101993e-01, 9.4501507e-01, 9.8264134e-01, 9.5808476e-02,\n",
            "        3.3300221e-02, 9.9999994e-01, 1.0000000e+00, 9.9999493e-01,\n",
            "        7.4812043e-01, 9.9989921e-01, 0.0000000e+00, 9.9999893e-01,\n",
            "        8.6773670e-01, 1.0000000e+00, 3.0291778e-01, 1.0000000e+00,\n",
            "        9.9999976e-01, 9.9553573e-01, 4.6491623e-06, 7.4812263e-02]],\n",
            "      dtype=float32), array([[9.6190906e-01, 0.0000000e+00, 5.3202701e-01, 1.0000000e+00,\n",
            "        5.7194233e-02, 4.0829182e-06, 7.0935130e-01, 9.9999899e-01,\n",
            "        8.9406967e-08, 9.9999893e-01, 9.9829733e-01, 1.0000000e+00,\n",
            "        7.7486038e-07, 1.0000000e+00, 8.8198006e-02, 0.0000000e+00,\n",
            "        0.0000000e+00, 8.3480752e-01, 7.8166491e-01, 1.1920929e-07,\n",
            "        1.0000000e+00, 7.6906478e-01, 9.9998975e-01, 7.7170789e-02,\n",
            "        5.3138894e-01, 9.9077070e-01, 2.9802322e-07, 1.0000000e+00,\n",
            "        1.2005445e-01, 7.0791066e-01, 9.7400463e-01, 1.0000000e+00,\n",
            "        3.3654362e-01, 1.0000000e+00, 1.0000000e+00, 6.7788810e-01,\n",
            "        1.0000000e+00, 8.9406967e-08, 9.9999976e-01, 0.0000000e+00,\n",
            "        1.0000000e+00, 7.2261131e-01, 4.7683716e-07, 9.9999988e-01,\n",
            "        6.9877803e-03, 9.7517431e-01, 1.8876350e-01, 9.6610379e-01,\n",
            "        8.2870352e-01, 9.9999976e-01, 1.0000000e+00, 9.9999994e-01,\n",
            "        5.6842357e-02, 9.9989617e-01, 0.0000000e+00, 9.9993050e-01,\n",
            "        3.3781433e-01, 1.0000000e+00, 3.5513994e-01, 1.0000000e+00,\n",
            "        1.0000000e+00, 9.2289865e-01, 0.0000000e+00, 4.2878360e-02]],\n",
            "      dtype=float32), array([[8.0815619e-01, 0.0000000e+00, 2.1869481e-02, 9.9999964e-01,\n",
            "        8.6514056e-03, 1.3816357e-04, 6.7414200e-01, 9.9999940e-01,\n",
            "        7.1525574e-06, 9.9986714e-01, 9.9905419e-01, 1.0000000e+00,\n",
            "        4.1723251e-07, 9.9999893e-01, 2.3485237e-01, 5.9604645e-08,\n",
            "        0.0000000e+00, 3.4270012e-01, 1.0806608e-01, 6.7651272e-06,\n",
            "        9.9999946e-01, 3.7404519e-01, 9.9974978e-01, 7.3625839e-01,\n",
            "        1.9586924e-01, 3.6075678e-01, 5.3644180e-07, 1.0000000e+00,\n",
            "        7.5145864e-01, 4.6558848e-01, 9.7459066e-01, 9.9999797e-01,\n",
            "        5.9746188e-01, 1.0000000e+00, 9.9999893e-01, 4.8480278e-01,\n",
            "        9.9999976e-01, 0.0000000e+00, 9.9999905e-01, 0.0000000e+00,\n",
            "        1.0000000e+00, 9.6041620e-01, 2.3096800e-05, 9.9999982e-01,\n",
            "        6.2767863e-03, 8.6315745e-01, 5.7987368e-01, 5.9822130e-01,\n",
            "        8.7137651e-01, 9.9990141e-01, 1.0000000e+00, 9.9999988e-01,\n",
            "        9.2064649e-02, 9.9399161e-01, 1.1920929e-06, 9.9999261e-01,\n",
            "        4.5172751e-02, 1.0000000e+00, 6.0757804e-01, 1.0000000e+00,\n",
            "        9.9999905e-01, 9.1098219e-02, 1.4215708e-04, 1.1544949e-01]],\n",
            "      dtype=float32), array([[1.2365088e-01, 0.0000000e+00, 8.1636429e-02, 9.9999928e-01,\n",
            "        2.4019372e-01, 1.8596649e-05, 8.5998762e-01, 9.9962986e-01,\n",
            "        9.2089176e-06, 9.9999714e-01, 9.9983644e-01, 9.9998879e-01,\n",
            "        1.7368793e-04, 9.9999988e-01, 7.5227833e-01, 8.9406967e-08,\n",
            "        1.0132790e-06, 7.3450541e-01, 5.3456455e-01, 2.3841858e-07,\n",
            "        9.9999976e-01, 5.3475010e-01, 9.9998021e-01, 2.8046608e-02,\n",
            "        4.3224928e-01, 9.0802044e-01, 4.1723251e-07, 1.0000000e+00,\n",
            "        5.8434474e-01, 2.8652716e-01, 7.7205813e-01, 9.9999988e-01,\n",
            "        9.4849801e-01, 9.9999988e-01, 9.9999988e-01, 6.7472756e-01,\n",
            "        9.9998844e-01, 1.4603138e-06, 9.9999976e-01, 1.9103289e-05,\n",
            "        9.9999994e-01, 1.3627571e-01, 1.1378527e-04, 9.9999177e-01,\n",
            "        7.2025281e-01, 9.7761261e-01, 7.7153623e-01, 3.6422282e-02,\n",
            "        2.7890861e-02, 9.9999845e-01, 9.9999458e-01, 9.9998391e-01,\n",
            "        4.4039577e-01, 9.9889684e-01, 1.1026859e-06, 9.9999839e-01,\n",
            "        4.0578127e-01, 9.9999666e-01, 2.7547023e-01, 1.0000000e+00,\n",
            "        9.9997652e-01, 6.7726970e-02, 9.8347664e-07, 1.1469361e-01]],\n",
            "      dtype=float32), array([[8.4883702e-01, 0.0000000e+00, 7.1484268e-01, 9.9994355e-01,\n",
            "        7.9569149e-01, 5.9604645e-08, 6.1419201e-01, 9.9990642e-01,\n",
            "        9.0897083e-06, 9.9999982e-01, 9.9999642e-01, 1.0000000e+00,\n",
            "        3.1054020e-05, 1.0000000e+00, 4.6338737e-03, 3.5762787e-07,\n",
            "        2.6822090e-07, 6.6359383e-01, 5.7064861e-01, 0.0000000e+00,\n",
            "        1.0000000e+00, 1.8347275e-01, 9.9997580e-01, 3.6792994e-02,\n",
            "        1.2448341e-02, 9.8869830e-01, 2.0861626e-07, 1.0000000e+00,\n",
            "        2.3682252e-01, 5.2935028e-01, 9.9206746e-01, 1.0000000e+00,\n",
            "        7.2143763e-01, 1.0000000e+00, 1.0000000e+00, 9.6577370e-01,\n",
            "        1.0000000e+00, 5.9604645e-08, 1.0000000e+00, 5.9604645e-08,\n",
            "        1.0000000e+00, 8.2684708e-01, 2.9504299e-06, 9.9999750e-01,\n",
            "        1.6477352e-01, 7.6240611e-01, 7.1534181e-01, 4.4149071e-02,\n",
            "        5.7216585e-03, 1.0000000e+00, 1.0000000e+00, 1.0000000e+00,\n",
            "        2.2287092e-01, 9.9999225e-01, 0.0000000e+00, 9.9999976e-01,\n",
            "        6.6954929e-01, 1.0000000e+00, 4.4667828e-01, 1.0000000e+00,\n",
            "        1.0000000e+00, 3.4381390e-02, 4.7683716e-07, 7.4991959e-01]],\n",
            "      dtype=float32), array([[6.89885020e-02, 0.00000000e+00, 4.80985224e-01, 9.99998927e-01,\n",
            "        2.27011740e-02, 3.75509262e-06, 3.39396298e-01, 9.99988914e-01,\n",
            "        6.57439232e-05, 9.99999940e-01, 9.94106531e-01, 9.99999881e-01,\n",
            "        1.19209290e-07, 1.00000000e+00, 9.75541472e-02, 8.94069672e-08,\n",
            "        3.27825546e-07, 1.98917150e-01, 9.34950948e-01, 5.96046448e-08,\n",
            "        9.99997973e-01, 8.29394400e-01, 9.99845982e-01, 6.94076419e-01,\n",
            "        3.60901654e-02, 9.92444754e-01, 5.45382500e-06, 1.00000000e+00,\n",
            "        1.16822958e-01, 5.07870615e-02, 6.31570458e-01, 1.00000000e+00,\n",
            "        3.99748623e-01, 9.99997139e-01, 9.99898791e-01, 9.13702130e-01,\n",
            "        9.99993622e-01, 0.00000000e+00, 9.99998450e-01, 0.00000000e+00,\n",
            "        1.00000000e+00, 6.05423450e-01, 1.19209290e-07, 1.00000000e+00,\n",
            "        1.45548046e-01, 8.57149363e-02, 8.09491992e-01, 1.13975495e-01,\n",
            "        8.85088325e-01, 9.99998808e-01, 1.00000000e+00, 9.99999583e-01,\n",
            "        8.81453753e-01, 9.83117223e-01, 1.46031380e-06, 9.99163210e-01,\n",
            "        5.61105907e-02, 9.99997735e-01, 8.19798529e-01, 9.99999762e-01,\n",
            "        1.00000000e+00, 1.39590800e-02, 2.98023224e-08, 3.16166580e-02]],\n",
            "      dtype=float32), array([[7.3512578e-01, 2.9802322e-08, 9.7582889e-01, 1.0000000e+00,\n",
            "        4.3922234e-01, 2.3543835e-06, 5.1488799e-01, 1.0000000e+00,\n",
            "        0.0000000e+00, 1.0000000e+00, 9.9995363e-01, 9.9999994e-01,\n",
            "        2.9802322e-08, 1.0000000e+00, 1.8454254e-02, 1.7881393e-07,\n",
            "        0.0000000e+00, 1.4934167e-01, 9.1978508e-01, 1.1920929e-07,\n",
            "        9.9999946e-01, 9.6618450e-01, 9.9977309e-01, 5.2806211e-01,\n",
            "        8.8279915e-01, 9.8218483e-01, 2.7120113e-06, 1.0000000e+00,\n",
            "        6.2836069e-01, 8.1145674e-01, 6.1734223e-01, 9.9999559e-01,\n",
            "        7.3627430e-01, 1.0000000e+00, 9.9999994e-01, 6.3229740e-02,\n",
            "        9.9999982e-01, 0.0000000e+00, 9.9999988e-01, 0.0000000e+00,\n",
            "        9.9999970e-01, 3.0107403e-01, 3.9637089e-06, 9.9999988e-01,\n",
            "        5.9798372e-01, 7.4319226e-01, 2.8006786e-01, 8.9989096e-01,\n",
            "        6.2681174e-01, 9.9999964e-01, 9.9999785e-01, 9.9999022e-01,\n",
            "        7.1719021e-02, 9.9705803e-01, 0.0000000e+00, 9.9999255e-01,\n",
            "        5.4048878e-01, 1.0000000e+00, 9.1555566e-02, 1.0000000e+00,\n",
            "        1.0000000e+00, 4.0512562e-02, 0.0000000e+00, 3.2945931e-02]],\n",
            "      dtype=float32), array([[5.8076215e-01, 0.0000000e+00, 5.8399796e-01, 1.0000000e+00,\n",
            "        1.4916718e-02, 4.7504902e-05, 2.2936940e-01, 9.9999899e-01,\n",
            "        1.3709068e-06, 9.9990320e-01, 9.9993336e-01, 1.0000000e+00,\n",
            "        2.0861626e-07, 1.0000000e+00, 2.0327848e-01, 0.0000000e+00,\n",
            "        8.9406967e-08, 2.5243461e-03, 1.0691580e-01, 0.0000000e+00,\n",
            "        9.9999976e-01, 2.6577365e-01, 9.9884927e-01, 5.2386236e-01,\n",
            "        4.3249428e-03, 9.9846005e-01, 2.7596951e-05, 1.0000000e+00,\n",
            "        8.4632075e-01, 1.8836981e-01, 5.4049027e-01, 9.9999988e-01,\n",
            "        9.5393872e-01, 1.0000000e+00, 9.9999678e-01, 7.7507448e-01,\n",
            "        1.0000000e+00, 5.9604645e-08, 9.9999475e-01, 3.8743019e-07,\n",
            "        9.9999982e-01, 1.5256277e-01, 8.6426735e-07, 9.9999988e-01,\n",
            "        5.3056180e-03, 1.3891196e-01, 7.8269506e-01, 9.1263437e-01,\n",
            "        4.9380779e-02, 9.9999601e-01, 1.0000000e+00, 9.9998760e-01,\n",
            "        8.7343556e-01, 9.9673241e-01, 5.9604645e-08, 9.9997675e-01,\n",
            "        3.9955932e-01, 1.0000000e+00, 9.1687441e-02, 9.9999946e-01,\n",
            "        1.0000000e+00, 4.3155950e-01, 0.0000000e+00, 6.0110062e-02]],\n",
            "      dtype=float32), array([[7.5780451e-03, 0.0000000e+00, 1.2730628e-02, 9.9999952e-01,\n",
            "        1.0852727e-01, 0.0000000e+00, 6.7863148e-01, 1.0000000e+00,\n",
            "        1.4603138e-06, 1.0000000e+00, 9.9798584e-01, 9.9999994e-01,\n",
            "        5.9604645e-08, 9.9992800e-01, 6.9170940e-01, 0.0000000e+00,\n",
            "        5.9604645e-08, 9.6571946e-01, 8.6751461e-01, 1.5497208e-06,\n",
            "        9.9999923e-01, 7.3413801e-01, 9.9997932e-01, 9.6500409e-01,\n",
            "        2.0361483e-01, 6.1653984e-01, 6.8545341e-06, 1.0000000e+00,\n",
            "        1.6986221e-02, 3.1866461e-01, 6.7124963e-01, 9.9999976e-01,\n",
            "        8.0204856e-01, 9.9999976e-01, 9.9999142e-01, 3.9560509e-01,\n",
            "        9.9999845e-01, 4.5001507e-06, 9.9999982e-01, 0.0000000e+00,\n",
            "        1.0000000e+00, 7.6503378e-01, 5.6684017e-05, 9.9997211e-01,\n",
            "        7.8757733e-02, 5.4457289e-01, 8.7639165e-01, 5.1357859e-01,\n",
            "        5.6261820e-01, 9.9999976e-01, 9.9999982e-01, 9.9998736e-01,\n",
            "        4.7688606e-01, 9.9999940e-01, 0.0000000e+00, 9.9999511e-01,\n",
            "        7.9099596e-01, 9.9996006e-01, 3.9685524e-01, 9.9998111e-01,\n",
            "        9.9999821e-01, 2.3600939e-01, 8.6128712e-06, 7.4647474e-01]],\n",
            "      dtype=float32), array([[8.7893176e-01, 0.0000000e+00, 8.0688369e-01, 1.0000000e+00,\n",
            "        9.9116737e-01, 3.5762787e-07, 9.8882425e-01, 9.9986821e-01,\n",
            "        1.4901161e-07, 1.0000000e+00, 9.9860597e-01, 9.9999994e-01,\n",
            "        1.4901161e-06, 9.9999779e-01, 1.9697013e-01, 0.0000000e+00,\n",
            "        0.0000000e+00, 6.3491040e-01, 9.7241277e-01, 0.0000000e+00,\n",
            "        1.0000000e+00, 3.1916437e-01, 9.9999666e-01, 7.4816304e-01,\n",
            "        5.6404495e-01, 9.8610616e-01, 2.9802322e-08, 9.9999982e-01,\n",
            "        9.8021299e-01, 2.7894700e-01, 3.3086926e-02, 9.9999976e-01,\n",
            "        2.1194872e-01, 1.0000000e+00, 1.0000000e+00, 9.3737507e-01,\n",
            "        1.0000000e+00, 0.0000000e+00, 9.9999952e-01, 0.0000000e+00,\n",
            "        1.0000000e+00, 8.4626949e-01, 2.6524067e-06, 1.0000000e+00,\n",
            "        7.9694283e-01, 9.8773646e-01, 7.4894029e-01, 3.9710748e-01,\n",
            "        3.1874847e-01, 9.9999857e-01, 1.0000000e+00, 9.9999893e-01,\n",
            "        5.3222859e-01, 9.9763399e-01, 2.2143126e-05, 9.9999964e-01,\n",
            "        3.5280654e-01, 9.9999946e-01, 3.2431763e-01, 1.0000000e+00,\n",
            "        1.0000000e+00, 1.4389771e-01, 8.9406967e-08, 1.7451870e-01]],\n",
            "      dtype=float32), array([[9.5131874e-01, 0.0000000e+00, 1.9627029e-01, 1.0000000e+00,\n",
            "        2.2416756e-01, 5.9604645e-08, 7.0594233e-01, 1.0000000e+00,\n",
            "        1.1920929e-07, 1.0000000e+00, 9.9924940e-01, 1.0000000e+00,\n",
            "        1.0728836e-06, 1.0000000e+00, 2.2231549e-02, 2.0861626e-07,\n",
            "        0.0000000e+00, 8.8567615e-01, 7.1098113e-01, 4.4703484e-07,\n",
            "        1.0000000e+00, 8.4051585e-01, 1.0000000e+00, 3.6087066e-02,\n",
            "        8.7475693e-01, 9.8776704e-01, 0.0000000e+00, 9.9999988e-01,\n",
            "        6.3377351e-02, 5.2423614e-01, 8.1697309e-01, 9.9999988e-01,\n",
            "        7.9133475e-01, 1.0000000e+00, 1.0000000e+00, 6.0196304e-01,\n",
            "        1.0000000e+00, 1.1920929e-07, 9.9999768e-01, 0.0000000e+00,\n",
            "        1.0000000e+00, 9.6365333e-01, 2.0861626e-07, 9.9999988e-01,\n",
            "        2.0939708e-02, 1.1051625e-02, 1.0402435e-01, 8.8270235e-01,\n",
            "        2.5016290e-01, 9.9999917e-01, 9.9999726e-01, 9.9999988e-01,\n",
            "        6.7237496e-02, 9.9995619e-01, 0.0000000e+00, 9.9965668e-01,\n",
            "        8.6779583e-01, 9.9999988e-01, 9.1130149e-01, 1.0000000e+00,\n",
            "        1.0000000e+00, 9.5427954e-01, 0.0000000e+00, 7.1775585e-02]],\n",
            "      dtype=float32), array([[7.2741091e-02, 6.2584877e-07, 9.5161796e-04, 9.9999368e-01,\n",
            "        1.4676034e-02, 1.0430813e-06, 7.7097321e-01, 9.9999952e-01,\n",
            "        1.2785196e-05, 9.9999976e-01, 9.9986267e-01, 9.9999118e-01,\n",
            "        1.1920929e-07, 1.0000000e+00, 9.8789507e-01, 4.4703484e-07,\n",
            "        8.9406967e-08, 1.3086236e-01, 9.6686780e-03, 5.3644180e-07,\n",
            "        9.9992537e-01, 1.5082657e-02, 9.9839807e-01, 4.2006969e-01,\n",
            "        9.8041421e-01, 2.5324255e-02, 8.9406967e-08, 9.9999702e-01,\n",
            "        7.9324174e-01, 5.1244724e-01, 1.3289073e-01, 1.0000000e+00,\n",
            "        1.2002617e-02, 9.9999988e-01, 9.9998820e-01, 3.0791911e-01,\n",
            "        1.0000000e+00, 0.0000000e+00, 8.9339310e-01, 0.0000000e+00,\n",
            "        9.9999988e-01, 8.7916636e-01, 8.8512897e-06, 9.9999988e-01,\n",
            "        2.6220447e-01, 9.7676945e-01, 2.4968177e-02, 4.7199428e-03,\n",
            "        8.6959922e-01, 9.9971533e-01, 9.9991792e-01, 1.0000000e+00,\n",
            "        3.8618922e-02, 9.9998653e-01, 6.2584877e-07, 9.9999940e-01,\n",
            "        1.9868296e-01, 9.9999392e-01, 9.9540818e-01, 1.0000000e+00,\n",
            "        1.0000000e+00, 2.9058915e-01, 5.6478381e-04, 5.5332506e-01]],\n",
            "      dtype=float32), array([[9.6484387e-01, 0.0000000e+00, 7.5478715e-01, 9.9999964e-01,\n",
            "        8.9562947e-01, 8.9406967e-08, 3.8609222e-01, 9.9998629e-01,\n",
            "        4.9561262e-05, 1.0000000e+00, 9.9999356e-01, 1.0000000e+00,\n",
            "        8.2254410e-06, 1.0000000e+00, 7.4340999e-03, 3.5464764e-06,\n",
            "        0.0000000e+00, 5.3877014e-01, 7.9791158e-02, 0.0000000e+00,\n",
            "        9.9999666e-01, 1.7755955e-02, 9.9993074e-01, 2.0976305e-02,\n",
            "        6.1175227e-03, 9.9669039e-01, 0.0000000e+00, 1.0000000e+00,\n",
            "        6.7111170e-01, 5.0444263e-01, 9.3064284e-01, 1.0000000e+00,\n",
            "        5.4602963e-01, 1.0000000e+00, 1.0000000e+00, 9.1488832e-01,\n",
            "        1.0000000e+00, 0.0000000e+00, 1.0000000e+00, 2.9802322e-06,\n",
            "        1.0000000e+00, 9.6290934e-01, 5.9604645e-08, 9.9999994e-01,\n",
            "        4.0016919e-02, 2.4570656e-01, 4.9241877e-01, 3.4021169e-02,\n",
            "        5.6784451e-03, 1.0000000e+00, 1.0000000e+00, 9.9999988e-01,\n",
            "        9.0768754e-02, 9.9997264e-01, 0.0000000e+00, 9.9999994e-01,\n",
            "        9.2138481e-01, 1.0000000e+00, 1.3429973e-01, 1.0000000e+00,\n",
            "        1.0000000e+00, 2.8535697e-01, 4.7683716e-07, 8.6171901e-01]],\n",
            "      dtype=float32), array([[9.7929162e-01, 0.0000000e+00, 6.5267026e-01, 1.0000000e+00,\n",
            "        1.8849999e-02, 9.5367432e-07, 8.2634723e-01, 1.0000000e+00,\n",
            "        0.0000000e+00, 1.0000000e+00, 9.9999869e-01, 1.0000000e+00,\n",
            "        1.4901161e-07, 9.9999881e-01, 2.4684966e-02, 5.9604645e-08,\n",
            "        0.0000000e+00, 8.8504958e-01, 9.2131412e-01, 0.0000000e+00,\n",
            "        9.9999994e-01, 1.4229891e-01, 9.9998856e-01, 9.9647403e-01,\n",
            "        8.7572664e-01, 6.8032575e-01, 0.0000000e+00, 1.0000000e+00,\n",
            "        8.5797572e-01, 7.9960769e-01, 9.7714573e-02, 9.9999988e-01,\n",
            "        5.6915313e-02, 1.0000000e+00, 1.0000000e+00, 7.3827839e-01,\n",
            "        9.9996507e-01, 0.0000000e+00, 1.0000000e+00, 0.0000000e+00,\n",
            "        1.0000000e+00, 8.9074945e-01, 5.6624413e-07, 1.0000000e+00,\n",
            "        9.5421422e-01, 6.7780542e-01, 3.3507979e-01, 4.7503716e-01,\n",
            "        4.4457221e-01, 9.9999893e-01, 9.9985600e-01, 9.9999970e-01,\n",
            "        3.0068934e-02, 9.9997652e-01, 5.4240227e-06, 9.9999958e-01,\n",
            "        7.6137096e-02, 9.9999964e-01, 1.1144632e-01, 1.0000000e+00,\n",
            "        1.0000000e+00, 1.4945918e-01, 5.3644180e-07, 6.5021545e-02]],\n",
            "      dtype=float32), array([[6.7685694e-02, 0.0000000e+00, 7.6444870e-01, 1.0000000e+00,\n",
            "        3.4211069e-02, 4.1723251e-07, 9.5857525e-01, 1.0000000e+00,\n",
            "        0.0000000e+00, 1.0000000e+00, 9.9999982e-01, 1.0000000e+00,\n",
            "        3.1888485e-06, 1.0000000e+00, 5.1876962e-02, 8.4638596e-06,\n",
            "        0.0000000e+00, 1.2735486e-01, 6.2140298e-01, 8.9406967e-08,\n",
            "        1.0000000e+00, 1.3625368e-01, 9.9999213e-01, 4.3147594e-01,\n",
            "        9.6582878e-01, 9.7733951e-01, 8.9406967e-08, 1.0000000e+00,\n",
            "        3.1278729e-02, 8.6205804e-01, 9.7901314e-01, 1.0000000e+00,\n",
            "        2.1040976e-02, 9.9999940e-01, 9.9999708e-01, 6.6195256e-01,\n",
            "        9.9999988e-01, 5.9604645e-08, 9.9999923e-01, 0.0000000e+00,\n",
            "        1.0000000e+00, 9.0203142e-01, 1.8805265e-05, 1.0000000e+00,\n",
            "        9.2235315e-01, 2.6705652e-01, 9.7271323e-01, 8.4985185e-01,\n",
            "        1.0909045e-01, 1.0000000e+00, 9.9998355e-01, 9.9914289e-01,\n",
            "        1.1478996e-01, 9.9863744e-01, 4.4703484e-07, 9.9999839e-01,\n",
            "        6.7548251e-01, 1.0000000e+00, 2.5643048e-01, 9.9999702e-01,\n",
            "        1.0000000e+00, 3.1191707e-01, 1.7881393e-07, 3.4077078e-02]],\n",
            "      dtype=float32), array([[8.5388035e-01, 2.9802322e-08, 2.1197340e-01, 1.0000000e+00,\n",
            "        2.7324259e-03, 1.8775463e-06, 4.1446766e-01, 1.0000000e+00,\n",
            "        4.7683716e-07, 1.0000000e+00, 9.9998540e-01, 1.0000000e+00,\n",
            "        0.0000000e+00, 1.0000000e+00, 9.2380941e-01, 0.0000000e+00,\n",
            "        0.0000000e+00, 8.3805150e-01, 1.9306305e-01, 0.0000000e+00,\n",
            "        1.0000000e+00, 4.3910295e-02, 9.9677444e-01, 8.6684716e-01,\n",
            "        3.8549024e-01, 9.2846203e-01, 0.0000000e+00, 1.0000000e+00,\n",
            "        9.0593171e-01, 9.4225222e-01, 2.3816508e-01, 9.9999928e-01,\n",
            "        4.6264154e-01, 1.0000000e+00, 1.0000000e+00, 1.9440323e-02,\n",
            "        9.9999571e-01, 2.9802322e-08, 9.9999952e-01, 1.4901161e-06,\n",
            "        1.0000000e+00, 8.0001390e-01, 2.3841858e-07, 1.0000000e+00,\n",
            "        9.8486495e-01, 6.1365509e-01, 9.8361385e-01, 5.3559035e-02,\n",
            "        8.6414409e-01, 9.9999404e-01, 1.0000000e+00, 9.9997222e-01,\n",
            "        1.5922517e-02, 9.9983728e-01, 2.4557114e-05, 9.9996585e-01,\n",
            "        7.0698249e-01, 1.0000000e+00, 2.0005798e-01, 1.0000000e+00,\n",
            "        1.0000000e+00, 3.3787143e-01, 1.0877848e-05, 5.5305481e-02]],\n",
            "      dtype=float32), array([[4.5718902e-01, 0.0000000e+00, 1.7379165e-02, 1.0000000e+00,\n",
            "        7.8965098e-02, 2.8610229e-06, 7.6637888e-01, 9.9999952e-01,\n",
            "        2.9802322e-07, 1.0000000e+00, 9.9993801e-01, 1.0000000e+00,\n",
            "        1.7583370e-06, 9.9982071e-01, 2.6644459e-01, 1.5199184e-06,\n",
            "        2.9802322e-08, 8.7593627e-01, 8.6584938e-01, 7.3611736e-06,\n",
            "        9.9999923e-01, 2.9068142e-01, 9.9999970e-01, 1.9213241e-01,\n",
            "        4.2308718e-02, 9.6509349e-01, 8.3446503e-07, 1.0000000e+00,\n",
            "        1.3554752e-01, 4.5327991e-02, 7.8975821e-01, 1.0000000e+00,\n",
            "        3.3551890e-01, 9.9999994e-01, 1.0000000e+00, 9.7730422e-01,\n",
            "        1.0000000e+00, 0.0000000e+00, 1.0000000e+00, 0.0000000e+00,\n",
            "        1.0000000e+00, 8.4238887e-01, 8.9406967e-08, 1.0000000e+00,\n",
            "        9.0344918e-01, 9.7090793e-01, 1.8705726e-01, 9.2794049e-01,\n",
            "        6.0323852e-01, 9.9999988e-01, 9.9999982e-01, 1.0000000e+00,\n",
            "        2.7053535e-02, 8.3459163e-01, 5.9604645e-08, 9.9993420e-01,\n",
            "        4.7021759e-01, 9.9999970e-01, 6.3549888e-01, 9.9999988e-01,\n",
            "        1.0000000e+00, 2.1142185e-02, 0.0000000e+00, 1.0759920e-02]],\n",
            "      dtype=float32), array([[4.5078900e-01, 0.0000000e+00, 7.4132526e-01, 1.0000000e+00,\n",
            "        6.2394327e-01, 0.0000000e+00, 7.8797829e-01, 9.9999994e-01,\n",
            "        2.7120113e-06, 1.0000000e+00, 9.9951935e-01, 1.0000000e+00,\n",
            "        1.6391277e-06, 1.0000000e+00, 5.0785315e-01, 8.9406967e-08,\n",
            "        2.2053719e-05, 2.8701693e-01, 9.7308558e-01, 3.9339066e-06,\n",
            "        9.9999988e-01, 5.4049736e-01, 9.9999952e-01, 3.3128840e-01,\n",
            "        8.3595812e-03, 9.9920905e-01, 9.3877316e-06, 1.0000000e+00,\n",
            "        5.9845722e-01, 4.5554698e-02, 9.6168709e-01, 1.0000000e+00,\n",
            "        2.2990373e-01, 9.9999964e-01, 9.9999976e-01, 9.1133887e-01,\n",
            "        1.0000000e+00, 2.0861626e-07, 1.0000000e+00, 0.0000000e+00,\n",
            "        9.9999994e-01, 2.9713255e-01, 0.0000000e+00, 1.0000000e+00,\n",
            "        6.1074668e-01, 2.5745076e-01, 1.4027098e-01, 9.8909354e-01,\n",
            "        9.5899701e-01, 9.9998677e-01, 9.9999994e-01, 1.0000000e+00,\n",
            "        2.8524798e-01, 9.6608216e-01, 0.0000000e+00, 9.9996287e-01,\n",
            "        6.6138637e-01, 1.0000000e+00, 9.6684039e-02, 9.9999928e-01,\n",
            "        1.0000000e+00, 2.7207494e-02, 0.0000000e+00, 1.2276590e-02]],\n",
            "      dtype=float32), array([[4.7753313e-01, 0.0000000e+00, 6.7811865e-01, 9.9999964e-01,\n",
            "        1.4237702e-02, 1.9967556e-06, 2.0960951e-01, 9.9999982e-01,\n",
            "        1.6570091e-05, 9.9999893e-01, 9.9970973e-01, 1.0000000e+00,\n",
            "        6.4283609e-05, 1.0000000e+00, 2.4727285e-02, 3.9041042e-06,\n",
            "        0.0000000e+00, 8.4232163e-01, 5.2153754e-01, 1.4305115e-06,\n",
            "        1.0000000e+00, 6.2341601e-01, 9.9998069e-01, 2.9170692e-02,\n",
            "        6.5639186e-01, 9.9099278e-01, 1.0430813e-06, 1.0000000e+00,\n",
            "        7.6902509e-03, 5.8018136e-01, 9.8788166e-01, 1.0000000e+00,\n",
            "        5.9504986e-01, 1.0000000e+00, 1.0000000e+00, 7.6189893e-01,\n",
            "        9.9999976e-01, 0.0000000e+00, 9.9999982e-01, 0.0000000e+00,\n",
            "        1.0000000e+00, 8.3791268e-01, 2.7179718e-05, 9.9999946e-01,\n",
            "        4.6883106e-02, 2.8979841e-01, 9.2482448e-01, 3.3376259e-01,\n",
            "        8.2960284e-01, 1.0000000e+00, 9.9999976e-01, 9.9998897e-01,\n",
            "        3.0583441e-03, 9.9831641e-01, 0.0000000e+00, 9.9957347e-01,\n",
            "        2.3847061e-01, 1.0000000e+00, 5.7200474e-01, 1.0000000e+00,\n",
            "        1.0000000e+00, 8.6250436e-01, 1.9669533e-06, 1.3939077e-01]],\n",
            "      dtype=float32), array([[1.2462139e-02, 0.0000000e+00, 9.0024769e-03, 1.0000000e+00,\n",
            "        2.0449907e-02, 5.0663948e-07, 8.8115293e-01, 9.9999982e-01,\n",
            "        5.9604645e-08, 9.9999988e-01, 9.9960613e-01, 9.9999893e-01,\n",
            "        0.0000000e+00, 9.9994522e-01, 9.3763101e-01, 0.0000000e+00,\n",
            "        0.0000000e+00, 4.7208360e-01, 5.0476700e-01, 3.7968159e-05,\n",
            "        9.9999970e-01, 3.8065481e-01, 9.9996752e-01, 8.3987999e-01,\n",
            "        3.7304622e-01, 7.2005165e-01, 1.4901161e-07, 1.0000000e+00,\n",
            "        1.9627476e-01, 5.9800494e-01, 4.4453719e-01, 9.9999893e-01,\n",
            "        8.6722660e-01, 9.9999744e-01, 1.0000000e+00, 2.5118181e-01,\n",
            "        9.9999809e-01, 1.1622906e-06, 1.0000000e+00, 2.3841858e-07,\n",
            "        9.9999940e-01, 6.9258386e-01, 3.5822392e-05, 9.9999917e-01,\n",
            "        1.0866994e-01, 8.5703224e-01, 6.6766000e-01, 5.4429102e-01,\n",
            "        8.4947336e-01, 9.9971169e-01, 9.9999982e-01, 9.9999797e-01,\n",
            "        3.1425005e-01, 9.9897248e-01, 3.5762787e-07, 9.9997854e-01,\n",
            "        4.4221106e-01, 9.9999905e-01, 2.4875015e-02, 9.9999982e-01,\n",
            "        9.9999815e-01, 3.6144495e-02, 1.7565489e-04, 8.1363350e-02]],\n",
            "      dtype=float32), array([[6.4599049e-01, 0.0000000e+00, 9.8066592e-01, 9.9999988e-01,\n",
            "        8.9547992e-02, 4.5001507e-06, 6.7443907e-02, 9.9999893e-01,\n",
            "        5.3942204e-06, 9.9999994e-01, 9.9964702e-01, 1.0000000e+00,\n",
            "        0.0000000e+00, 9.9999797e-01, 1.0059756e-01, 5.9604645e-08,\n",
            "        3.2782555e-06, 1.6041896e-01, 4.3582737e-02, 0.0000000e+00,\n",
            "        9.9999940e-01, 6.8122256e-01, 9.9999750e-01, 8.4921575e-01,\n",
            "        8.5555017e-03, 9.9639982e-01, 3.1739473e-05, 1.0000000e+00,\n",
            "        8.9442557e-01, 2.8928816e-02, 6.4541364e-01, 1.0000000e+00,\n",
            "        7.7574229e-01, 1.0000000e+00, 9.9996966e-01, 8.8924873e-01,\n",
            "        9.9999976e-01, 2.0861626e-07, 9.9999970e-01, 1.8775463e-06,\n",
            "        9.9999928e-01, 1.2002140e-02, 9.2387199e-07, 9.9999899e-01,\n",
            "        7.0037395e-02, 4.2448241e-01, 9.2952478e-01, 9.5980859e-01,\n",
            "        4.1729808e-02, 1.0000000e+00, 1.0000000e+00, 9.9999845e-01,\n",
            "        2.6679605e-01, 9.9231946e-01, 0.0000000e+00, 9.9953949e-01,\n",
            "        2.2450140e-01, 1.0000000e+00, 7.8620523e-02, 9.9999976e-01,\n",
            "        1.0000000e+00, 1.2677270e-01, 0.0000000e+00, 4.1336089e-02]],\n",
            "      dtype=float32), array([[2.83953100e-01, 0.00000000e+00, 1.06108785e-02, 1.00000000e+00,\n",
            "        1.18753314e-02, 1.19209290e-07, 5.09527504e-01, 9.99999821e-01,\n",
            "        2.98023224e-08, 9.99999523e-01, 9.99984622e-01, 1.00000000e+00,\n",
            "        3.54647636e-06, 9.99995828e-01, 1.03063673e-01, 0.00000000e+00,\n",
            "        0.00000000e+00, 5.04147351e-01, 9.29733396e-01, 0.00000000e+00,\n",
            "        9.99999821e-01, 6.01262152e-02, 9.99676228e-01, 9.91790891e-01,\n",
            "        3.66121024e-01, 3.67146194e-01, 1.72853470e-06, 1.00000000e+00,\n",
            "        8.16195726e-01, 8.07471156e-01, 9.35009956e-01, 9.99999881e-01,\n",
            "        1.85355306e-01, 1.00000000e+00, 9.99986410e-01, 5.18451631e-02,\n",
            "        9.99991596e-01, 8.94069672e-08, 9.99991357e-01, 5.06639481e-07,\n",
            "        1.00000000e+00, 7.23665953e-01, 1.49011612e-06, 1.00000000e+00,\n",
            "        3.60471308e-02, 1.74838066e-01, 9.73775387e-01, 8.04956794e-01,\n",
            "        9.74685431e-01, 9.99996662e-01, 1.00000000e+00, 9.99998689e-01,\n",
            "        1.81308299e-01, 9.99989986e-01, 1.75833702e-06, 9.99934793e-01,\n",
            "        4.73669797e-01, 9.99999762e-01, 1.94476575e-01, 9.99998927e-01,\n",
            "        9.99999881e-01, 3.99023533e-01, 2.98023224e-07, 2.27883011e-01]],\n",
            "      dtype=float32), array([[5.0725192e-02, 0.0000000e+00, 7.3123866e-01, 1.0000000e+00,\n",
            "        1.9539952e-02, 7.8678131e-06, 1.1393559e-01, 9.9977303e-01,\n",
            "        4.8220158e-05, 9.9999809e-01, 9.9999690e-01, 9.9999648e-01,\n",
            "        0.0000000e+00, 1.0000000e+00, 4.1678202e-01, 0.0000000e+00,\n",
            "        1.4901161e-07, 3.5488665e-02, 5.8455998e-01, 2.3245811e-06,\n",
            "        1.0000000e+00, 9.2167020e-01, 9.9890757e-01, 1.5264270e-01,\n",
            "        5.6022543e-01, 9.8123682e-01, 1.1920929e-07, 1.0000000e+00,\n",
            "        9.8490524e-01, 3.7685719e-01, 6.7192984e-01, 1.0000000e+00,\n",
            "        8.0684698e-01, 1.0000000e+00, 9.9992681e-01, 9.4903183e-01,\n",
            "        1.0000000e+00, 0.0000000e+00, 9.9606347e-01, 0.0000000e+00,\n",
            "        9.9999994e-01, 1.9378874e-01, 1.6954541e-04, 9.9999809e-01,\n",
            "        6.5816945e-01, 1.1873716e-01, 9.0219843e-01, 2.9224247e-02,\n",
            "        1.9428584e-01, 9.9999934e-01, 9.9999809e-01, 9.9999970e-01,\n",
            "        8.2226729e-01, 9.9833459e-01, 0.0000000e+00, 9.9999046e-01,\n",
            "        6.5276980e-02, 9.9999982e-01, 7.7855933e-01, 1.0000000e+00,\n",
            "        9.9999976e-01, 9.2930198e-01, 6.8545341e-07, 1.1665550e-01]],\n",
            "      dtype=float32), array([[6.8174344e-01, 0.0000000e+00, 3.7730289e-01, 1.0000000e+00,\n",
            "        1.9031614e-02, 1.0132790e-06, 9.5089412e-01, 9.9999237e-01,\n",
            "        4.4357330e-02, 9.9999952e-01, 9.9994004e-01, 1.0000000e+00,\n",
            "        1.4901161e-07, 1.0000000e+00, 8.0608910e-01, 5.9604645e-08,\n",
            "        2.0861626e-07, 6.2335789e-02, 9.6679485e-01, 1.7881393e-07,\n",
            "        1.0000000e+00, 4.0149373e-01, 9.9994862e-01, 4.7664347e-01,\n",
            "        2.0765096e-02, 9.7791851e-01, 7.4505806e-07, 1.0000000e+00,\n",
            "        3.0231503e-01, 2.9282826e-01, 9.5241106e-01, 1.0000000e+00,\n",
            "        7.3222023e-01, 9.9867469e-01, 9.9999976e-01, 7.8446209e-01,\n",
            "        1.0000000e+00, 7.2121620e-06, 9.9997592e-01, 0.0000000e+00,\n",
            "        9.9999875e-01, 7.0614052e-01, 4.8577785e-06, 1.0000000e+00,\n",
            "        1.4299014e-01, 3.9919853e-02, 5.7603544e-01, 8.2440192e-01,\n",
            "        9.2815155e-01, 9.9994349e-01, 9.9999821e-01, 9.9999988e-01,\n",
            "        6.2140912e-02, 9.9843621e-01, 2.0533800e-04, 9.9994099e-01,\n",
            "        5.1828283e-01, 9.9999994e-01, 3.1317729e-01, 9.9999958e-01,\n",
            "        1.0000000e+00, 9.8088467e-01, 0.0000000e+00, 5.9023589e-02]],\n",
            "      dtype=float32), array([[1.9711900e-01, 1.1920929e-07, 3.6496878e-02, 1.0000000e+00,\n",
            "        1.4908344e-02, 4.7683716e-07, 9.7662109e-01, 9.9999732e-01,\n",
            "        1.7881393e-07, 1.0000000e+00, 9.9995899e-01, 9.9999988e-01,\n",
            "        2.6822090e-07, 1.0000000e+00, 9.7813946e-01, 0.0000000e+00,\n",
            "        0.0000000e+00, 1.3993782e-01, 7.9119527e-01, 0.0000000e+00,\n",
            "        9.9999702e-01, 1.8038690e-02, 9.9999762e-01, 6.8179446e-01,\n",
            "        2.4860129e-01, 9.7613931e-01, 0.0000000e+00, 1.0000000e+00,\n",
            "        9.6760732e-01, 2.5987601e-01, 5.9907258e-02, 1.0000000e+00,\n",
            "        2.2844023e-01, 9.9995792e-01, 1.0000000e+00, 9.7325516e-01,\n",
            "        1.0000000e+00, 3.2186508e-06, 9.9999928e-01, 1.1920929e-07,\n",
            "        1.0000000e+00, 4.6622097e-01, 0.0000000e+00, 1.0000000e+00,\n",
            "        4.9690649e-01, 4.3865189e-01, 4.4302851e-02, 1.7851320e-01,\n",
            "        6.5904146e-01, 9.5395792e-01, 9.9995267e-01, 1.0000000e+00,\n",
            "        7.6976228e-01, 9.9598765e-01, 4.8875809e-06, 9.9999428e-01,\n",
            "        7.5007045e-01, 9.9988532e-01, 3.8796422e-01, 1.0000000e+00,\n",
            "        1.0000000e+00, 5.2851140e-01, 1.1920929e-07, 2.5737464e-02]],\n",
            "      dtype=float32), array([[8.0739272e-01, 0.0000000e+00, 9.7648525e-01, 9.9999940e-01,\n",
            "        7.2507727e-01, 4.7683716e-07, 3.8661176e-01, 1.0000000e+00,\n",
            "        0.0000000e+00, 1.0000000e+00, 9.9999619e-01, 1.0000000e+00,\n",
            "        1.1920929e-07, 1.0000000e+00, 9.0959966e-03, 5.9604645e-08,\n",
            "        8.9406967e-08, 8.1308275e-01, 9.8345590e-01, 2.0861626e-07,\n",
            "        9.9999994e-01, 2.3057455e-01, 9.9981594e-01, 6.6345394e-02,\n",
            "        1.1999676e-01, 9.9933165e-01, 1.1920929e-07, 9.9999988e-01,\n",
            "        3.8130939e-02, 6.3249278e-01, 6.9246209e-01, 1.0000000e+00,\n",
            "        7.8842616e-01, 1.0000000e+00, 9.9914765e-01, 9.4009256e-01,\n",
            "        9.9989796e-01, 0.0000000e+00, 9.9999774e-01, 0.0000000e+00,\n",
            "        9.9998868e-01, 1.2521985e-01, 1.8775463e-06, 1.0000000e+00,\n",
            "        5.4431283e-01, 6.9032806e-01, 4.4280219e-01, 7.5537741e-01,\n",
            "        9.3452644e-01, 1.0000000e+00, 1.0000000e+00, 9.9979150e-01,\n",
            "        3.3488226e-01, 9.9999976e-01, 5.9604645e-08, 9.9995792e-01,\n",
            "        7.7350104e-01, 1.0000000e+00, 8.6643767e-01, 9.9999464e-01,\n",
            "        1.0000000e+00, 2.2983223e-02, 0.0000000e+00, 9.6534026e-01]],\n",
            "      dtype=float32), array([[4.1607052e-01, 1.1920929e-07, 3.7543675e-01, 1.0000000e+00,\n",
            "        9.1556334e-01, 0.0000000e+00, 9.9567068e-01, 9.9999994e-01,\n",
            "        0.0000000e+00, 1.0000000e+00, 9.9999952e-01, 9.9998581e-01,\n",
            "        0.0000000e+00, 1.0000000e+00, 6.0999864e-01, 5.3644180e-07,\n",
            "        0.0000000e+00, 1.6123295e-02, 5.7227194e-02, 2.9802322e-08,\n",
            "        1.0000000e+00, 2.6222709e-01, 9.9998629e-01, 2.0206740e-01,\n",
            "        9.7738338e-01, 9.9308360e-01, 0.0000000e+00, 9.9999374e-01,\n",
            "        9.4403696e-01, 6.3506323e-01, 1.2450200e-01, 1.0000000e+00,\n",
            "        4.3580830e-03, 9.9998569e-01, 9.9999988e-01, 8.3254337e-02,\n",
            "        1.0000000e+00, 2.9802322e-08, 9.9999022e-01, 0.0000000e+00,\n",
            "        9.9999970e-01, 7.5968367e-01, 2.7120113e-05, 9.9999416e-01,\n",
            "        9.9919105e-01, 9.2937142e-01, 6.4830089e-01, 6.1572546e-01,\n",
            "        1.9657281e-01, 9.9999881e-01, 9.9974358e-01, 9.9999714e-01,\n",
            "        1.1334422e-01, 9.9989605e-01, 2.3841858e-07, 9.9999970e-01,\n",
            "        6.2686568e-01, 9.9999261e-01, 6.8999976e-01, 1.0000000e+00,\n",
            "        9.9999857e-01, 9.0992427e-01, 6.0200691e-06, 6.2939030e-01]],\n",
            "      dtype=float32), array([[6.4461738e-02, 0.0000000e+00, 3.3779991e-01, 1.0000000e+00,\n",
            "        5.8418214e-03, 0.0000000e+00, 3.0313116e-01, 9.9999487e-01,\n",
            "        0.0000000e+00, 9.9999988e-01, 9.9999917e-01, 9.9999976e-01,\n",
            "        9.1791153e-06, 1.0000000e+00, 4.4679692e-01, 6.1699748e-04,\n",
            "        0.0000000e+00, 1.3511023e-01, 5.9007108e-03, 0.0000000e+00,\n",
            "        1.0000000e+00, 5.5546165e-03, 9.9999762e-01, 9.5891505e-02,\n",
            "        9.8564196e-01, 9.9207461e-01, 0.0000000e+00, 1.0000000e+00,\n",
            "        4.5268986e-01, 4.7506690e-03, 7.3326862e-01, 1.0000000e+00,\n",
            "        3.1296635e-01, 9.9999970e-01, 1.0000000e+00, 1.8416461e-01,\n",
            "        1.0000000e+00, 0.0000000e+00, 9.9997592e-01, 3.2782555e-07,\n",
            "        1.0000000e+00, 9.5730162e-01, 3.9637089e-06, 1.0000000e+00,\n",
            "        7.7743793e-01, 6.0943735e-01, 8.4343410e-01, 1.7671940e-01,\n",
            "        7.2690892e-01, 1.0000000e+00, 1.0000000e+00, 9.9999982e-01,\n",
            "        8.7463140e-02, 9.9834096e-01, 2.9802322e-08, 9.9636471e-01,\n",
            "        9.2751241e-01, 1.0000000e+00, 9.3017471e-01, 1.0000000e+00,\n",
            "        1.0000000e+00, 9.7989321e-01, 2.2649765e-06, 4.6827585e-02]],\n",
            "      dtype=float32), array([[3.7070566e-01, 0.0000000e+00, 3.0685008e-02, 9.9999976e-01,\n",
            "        6.6761971e-03, 1.1920929e-07, 3.1434354e-01, 9.9999988e-01,\n",
            "        2.1755695e-05, 9.9999732e-01, 9.8144269e-01, 1.0000000e+00,\n",
            "        2.9802322e-08, 9.9999976e-01, 9.3297338e-01, 0.0000000e+00,\n",
            "        8.9406967e-08, 9.5462793e-01, 9.0025866e-01, 0.0000000e+00,\n",
            "        9.9999952e-01, 5.4690492e-01, 9.9993527e-01, 9.8996890e-01,\n",
            "        4.5784652e-02, 9.1027069e-01, 1.7881393e-07, 9.9999988e-01,\n",
            "        1.2055039e-03, 1.7960486e-01, 9.7817260e-01, 9.9999982e-01,\n",
            "        9.1019678e-01, 9.9999702e-01, 9.9999988e-01, 8.3657253e-01,\n",
            "        9.9999923e-01, 0.0000000e+00, 9.9999928e-01, 0.0000000e+00,\n",
            "        1.0000000e+00, 1.8552953e-01, 3.2782555e-07, 9.9999940e-01,\n",
            "        1.6499305e-01, 6.2725127e-01, 3.6714065e-01, 8.2984298e-01,\n",
            "        8.3627689e-01, 9.9996197e-01, 1.0000000e+00, 9.9999976e-01,\n",
            "        1.2455508e-01, 9.9999106e-01, 0.0000000e+00, 9.9879992e-01,\n",
            "        3.1992066e-01, 1.0000000e+00, 9.1044110e-01, 9.9999988e-01,\n",
            "        9.9998045e-01, 9.7913951e-02, 0.0000000e+00, 2.8372258e-01]],\n",
            "      dtype=float32), array([[9.04595852e-01, 0.00000000e+00, 8.91117990e-01, 1.00000000e+00,\n",
            "        1.92711890e-01, 0.00000000e+00, 9.41552997e-01, 1.00000000e+00,\n",
            "        5.96046448e-08, 1.00000000e+00, 9.99884009e-01, 1.00000000e+00,\n",
            "        0.00000000e+00, 9.99998629e-01, 1.79806054e-02, 4.79817390e-06,\n",
            "        0.00000000e+00, 1.97609425e-01, 6.69798732e-01, 4.76837158e-07,\n",
            "        1.00000000e+00, 8.42373073e-01, 9.99993801e-01, 8.98002863e-01,\n",
            "        9.46625352e-01, 9.57922280e-01, 1.84774399e-06, 1.00000000e+00,\n",
            "        1.75835162e-01, 4.77929145e-01, 8.45028520e-01, 9.99999225e-01,\n",
            "        4.69849288e-01, 1.00000000e+00, 9.99999940e-01, 3.65271926e-01,\n",
            "        9.99995589e-01, 0.00000000e+00, 9.99999881e-01, 0.00000000e+00,\n",
            "        1.00000000e+00, 6.78148985e-01, 8.64267349e-07, 1.00000000e+00,\n",
            "        7.63890505e-01, 1.14736974e-01, 9.14004683e-01, 9.10353839e-01,\n",
            "        8.33005905e-01, 1.00000000e+00, 9.99999881e-01, 9.99992371e-01,\n",
            "        4.82227206e-02, 9.96421695e-01, 3.87430191e-07, 9.99998868e-01,\n",
            "        2.43824422e-01, 1.00000000e+00, 4.55330163e-01, 1.00000000e+00,\n",
            "        1.00000000e+00, 8.44169557e-02, 0.00000000e+00, 2.05992162e-02]],\n",
            "      dtype=float32), array([[9.0499014e-02, 0.0000000e+00, 1.0236800e-03, 1.0000000e+00,\n",
            "        2.2653282e-02, 0.0000000e+00, 3.0461609e-01, 1.0000000e+00,\n",
            "        1.1920929e-07, 9.9999976e-01, 9.9999797e-01, 9.9999994e-01,\n",
            "        2.9802322e-07, 9.9922693e-01, 5.6099993e-01, 2.0861626e-07,\n",
            "        0.0000000e+00, 9.9066591e-01, 8.8582486e-01, 5.9604645e-08,\n",
            "        9.9999917e-01, 9.4715452e-01, 9.9995542e-01, 9.5093477e-01,\n",
            "        9.1603732e-01, 4.4276488e-01, 3.5762787e-07, 9.9999934e-01,\n",
            "        6.5512365e-01, 6.2336308e-01, 6.4492452e-01, 9.9999976e-01,\n",
            "        7.5031286e-01, 1.0000000e+00, 9.9999988e-01, 7.6944977e-02,\n",
            "        9.9999988e-01, 7.7486038e-07, 1.0000000e+00, 0.0000000e+00,\n",
            "        1.0000000e+00, 7.7955222e-01, 6.3776970e-05, 9.9999976e-01,\n",
            "        9.6130586e-01, 6.2087053e-01, 1.7225808e-01, 9.3621480e-01,\n",
            "        4.7928306e-01, 9.9999464e-01, 9.9998987e-01, 9.9999964e-01,\n",
            "        2.6241344e-01, 9.9999988e-01, 0.0000000e+00, 9.9999970e-01,\n",
            "        4.1061395e-01, 9.9999988e-01, 1.3983163e-01, 9.9999964e-01,\n",
            "        9.9998927e-01, 3.5165811e-01, 3.5762787e-07, 6.0588199e-01]],\n",
            "      dtype=float32), array([[1.2502378e-01, 0.0000000e+00, 4.4297096e-01, 9.9999994e-01,\n",
            "        2.1099931e-01, 8.9406967e-08, 7.8126723e-01, 1.0000000e+00,\n",
            "        3.3855438e-05, 9.9999976e-01, 9.9849665e-01, 1.0000000e+00,\n",
            "        4.5657158e-05, 9.9999809e-01, 7.6241791e-02, 6.8753958e-05,\n",
            "        9.0897083e-06, 2.6603785e-01, 8.6382067e-01, 4.1723251e-07,\n",
            "        9.9999976e-01, 7.9814279e-01, 9.9999148e-01, 8.9985585e-01,\n",
            "        2.0457804e-01, 9.8087382e-01, 1.0341406e-04, 9.9999994e-01,\n",
            "        4.7241375e-01, 2.7358174e-02, 9.7110230e-01, 9.9999940e-01,\n",
            "        7.4011588e-01, 9.9999863e-01, 9.9999964e-01, 1.1442840e-01,\n",
            "        9.9999380e-01, 0.0000000e+00, 9.9994886e-01, 1.1920929e-07,\n",
            "        9.9999952e-01, 4.7379342e-01, 3.6358833e-06, 1.0000000e+00,\n",
            "        7.9157889e-02, 2.7377525e-01, 9.1198629e-01, 8.0239642e-01,\n",
            "        9.5815235e-01, 9.9999964e-01, 1.0000000e+00, 9.9999833e-01,\n",
            "        6.8355799e-02, 9.9992961e-01, 1.7881393e-07, 9.9925947e-01,\n",
            "        7.0173657e-01, 9.9999988e-01, 1.7327097e-01, 9.9997926e-01,\n",
            "        1.0000000e+00, 1.4173800e-01, 0.0000000e+00, 2.0105222e-01]],\n",
            "      dtype=float32), array([[9.42596436e-01, 2.98023224e-08, 9.76854861e-01, 1.00000000e+00,\n",
            "        4.72565323e-01, 0.00000000e+00, 4.16333675e-01, 9.99986291e-01,\n",
            "        8.25524330e-06, 1.00000000e+00, 9.99568343e-01, 1.00000000e+00,\n",
            "        0.00000000e+00, 1.00000000e+00, 3.70298326e-02, 1.19209290e-07,\n",
            "        2.98023224e-08, 2.94097364e-02, 4.77486342e-01, 0.00000000e+00,\n",
            "        9.99999881e-01, 6.93200350e-01, 9.99992371e-01, 6.75211191e-01,\n",
            "        1.17022395e-02, 9.96407509e-01, 3.33786011e-06, 9.99948978e-01,\n",
            "        3.56419146e-01, 4.43123132e-01, 5.68025708e-02, 1.00000000e+00,\n",
            "        7.62734413e-02, 1.00000000e+00, 9.99994874e-01, 3.15444469e-02,\n",
            "        1.00000000e+00, 2.98023224e-08, 9.99975681e-01, 0.00000000e+00,\n",
            "        1.00000000e+00, 2.91272402e-02, 3.07857990e-05, 9.99990702e-01,\n",
            "        3.21534812e-01, 6.79818392e-01, 8.02058220e-01, 9.49256063e-01,\n",
            "        1.19340122e-02, 9.99999762e-01, 1.00000000e+00, 9.99999940e-01,\n",
            "        2.20466554e-02, 9.99749482e-01, 0.00000000e+00, 9.99866128e-01,\n",
            "        4.19591606e-01, 1.00000000e+00, 7.45291471e-01, 1.00000000e+00,\n",
            "        1.00000000e+00, 5.09412289e-02, 0.00000000e+00, 1.48199469e-01]],\n",
            "      dtype=float32), array([[9.8521382e-01, 1.4901161e-07, 6.6186696e-01, 9.9999988e-01,\n",
            "        8.9807332e-02, 0.0000000e+00, 5.2565223e-01, 9.9999958e-01,\n",
            "        3.5762787e-07, 1.0000000e+00, 9.9966097e-01, 1.0000000e+00,\n",
            "        0.0000000e+00, 1.0000000e+00, 8.6042583e-03, 0.0000000e+00,\n",
            "        0.0000000e+00, 2.4521708e-02, 7.0980603e-01, 1.7881393e-07,\n",
            "        1.0000000e+00, 8.7723553e-01, 9.7244227e-01, 8.6010444e-01,\n",
            "        2.6504189e-02, 9.9577767e-01, 1.9100308e-04, 1.0000000e+00,\n",
            "        8.8440448e-02, 9.4948041e-01, 4.8056123e-01, 9.9999940e-01,\n",
            "        3.2827288e-02, 9.9999982e-01, 9.9999797e-01, 8.9747339e-02,\n",
            "        9.9999976e-01, 0.0000000e+00, 9.9992883e-01, 2.9802322e-07,\n",
            "        9.9999952e-01, 8.0243856e-01, 1.0967255e-05, 9.9999970e-01,\n",
            "        7.6128840e-03, 6.1172903e-01, 7.6720643e-01, 2.2675315e-01,\n",
            "        1.9473055e-01, 9.9999994e-01, 1.0000000e+00, 9.9998063e-01,\n",
            "        9.4670862e-01, 9.9997067e-01, 0.0000000e+00, 9.9999964e-01,\n",
            "        4.6961981e-01, 1.0000000e+00, 3.5156190e-01, 1.0000000e+00,\n",
            "        9.9999994e-01, 4.3953335e-01, 2.7716160e-06, 8.6118460e-01]],\n",
            "      dtype=float32), array([[1.4696389e-01, 0.0000000e+00, 4.3147612e-01, 9.9999982e-01,\n",
            "        3.0037510e-01, 2.0861626e-07, 8.7437069e-01, 1.0000000e+00,\n",
            "        4.7683716e-07, 1.0000000e+00, 9.9511659e-01, 9.9999976e-01,\n",
            "        0.0000000e+00, 9.9999988e-01, 6.9538748e-01, 2.9802322e-07,\n",
            "        1.4901161e-07, 5.9593129e-01, 9.7884417e-01, 1.8179417e-06,\n",
            "        9.9999821e-01, 8.3459669e-01, 9.9999756e-01, 8.8587838e-01,\n",
            "        9.8851436e-01, 9.3902564e-01, 3.2782555e-07, 1.0000000e+00,\n",
            "        9.2744064e-01, 1.3700128e-01, 8.9010859e-01, 9.9999982e-01,\n",
            "        5.3116953e-01, 9.9999976e-01, 9.9998999e-01, 4.5916301e-01,\n",
            "        1.0000000e+00, 5.0663948e-07, 9.9998486e-01, 0.0000000e+00,\n",
            "        9.9999952e-01, 4.2701554e-01, 7.7486038e-07, 9.9999762e-01,\n",
            "        1.8753713e-01, 8.5464662e-01, 2.6548952e-02, 1.3589618e-01,\n",
            "        4.1782978e-01, 9.9999082e-01, 9.5766473e-01, 9.9999970e-01,\n",
            "        1.4593089e-01, 9.9971211e-01, 1.1920929e-07, 9.9997628e-01,\n",
            "        6.2683755e-01, 9.9999940e-01, 5.1827049e-01, 1.0000000e+00,\n",
            "        1.0000000e+00, 2.3306549e-02, 2.9802322e-08, 2.1006957e-01]],\n",
            "      dtype=float32), array([[7.8021705e-01, 0.0000000e+00, 3.7454885e-01, 1.0000000e+00,\n",
            "        7.5873733e-03, 5.4627657e-05, 7.1352398e-01, 9.9998713e-01,\n",
            "        0.0000000e+00, 9.9999988e-01, 9.9659383e-01, 1.0000000e+00,\n",
            "        6.2584877e-07, 1.0000000e+00, 2.8082162e-02, 2.8431416e-05,\n",
            "        0.0000000e+00, 3.9973006e-01, 9.4582164e-01, 0.0000000e+00,\n",
            "        1.0000000e+00, 7.0001841e-01, 9.9997950e-01, 9.5134914e-02,\n",
            "        9.4201350e-01, 9.9216938e-01, 0.0000000e+00, 9.9999988e-01,\n",
            "        1.8400550e-01, 5.8065939e-01, 9.6941376e-01, 1.0000000e+00,\n",
            "        4.7738022e-01, 9.9999952e-01, 1.0000000e+00, 9.2453629e-01,\n",
            "        1.0000000e+00, 0.0000000e+00, 9.9999911e-01, 0.0000000e+00,\n",
            "        1.0000000e+00, 7.4096721e-01, 1.1622906e-06, 9.9999964e-01,\n",
            "        1.8458188e-02, 9.8178113e-01, 9.3232214e-02, 3.3529162e-01,\n",
            "        3.8596845e-01, 9.9999940e-01, 9.9984002e-01, 1.0000000e+00,\n",
            "        2.8041601e-02, 9.9416888e-01, 0.0000000e+00, 9.9719751e-01,\n",
            "        5.4609549e-01, 1.0000000e+00, 5.1782912e-01, 1.0000000e+00,\n",
            "        1.0000000e+00, 6.5932280e-01, 8.9406967e-08, 4.2679042e-02]],\n",
            "      dtype=float32), array([[9.4464797e-01, 0.0000000e+00, 3.0500293e-02, 1.0000000e+00,\n",
            "        6.1616898e-03, 2.2649765e-06, 8.3667862e-01, 9.9999851e-01,\n",
            "        8.9406967e-08, 1.0000000e+00, 9.9993646e-01, 9.9999982e-01,\n",
            "        5.9604645e-08, 1.0000000e+00, 9.0640283e-01, 0.0000000e+00,\n",
            "        0.0000000e+00, 4.0734708e-02, 5.4261440e-01, 0.0000000e+00,\n",
            "        9.9999154e-01, 2.2085518e-02, 9.9383366e-01, 4.6680820e-01,\n",
            "        4.0158656e-01, 9.2530793e-01, 2.9802322e-07, 1.0000000e+00,\n",
            "        6.0152864e-01, 9.6788192e-01, 5.2887261e-01, 9.9999392e-01,\n",
            "        2.9530811e-01, 9.9998617e-01, 1.0000000e+00, 2.9636115e-02,\n",
            "        1.0000000e+00, 3.4272671e-06, 9.9999988e-01, 0.0000000e+00,\n",
            "        1.0000000e+00, 9.4495142e-01, 0.0000000e+00, 1.0000000e+00,\n",
            "        5.8739781e-03, 1.2073904e-01, 4.7811371e-01, 8.9682579e-01,\n",
            "        2.8159863e-01, 9.9817932e-01, 9.9999994e-01, 9.9999881e-01,\n",
            "        9.1692382e-01, 9.8000634e-01, 0.0000000e+00, 9.9999774e-01,\n",
            "        2.4172112e-01, 9.9998772e-01, 3.0225587e-01, 1.0000000e+00,\n",
            "        9.9999976e-01, 4.1739890e-01, 2.3841858e-07, 7.8551471e-03]],\n",
            "      dtype=float32), array([[9.0179771e-02, 0.0000000e+00, 4.3107519e-01, 1.0000000e+00,\n",
            "        6.2127709e-03, 3.5762787e-07, 1.3992459e-02, 1.0000000e+00,\n",
            "        0.0000000e+00, 9.9999988e-01, 9.9999619e-01, 1.0000000e+00,\n",
            "        0.0000000e+00, 1.0000000e+00, 5.3074062e-02, 8.3446503e-07,\n",
            "        0.0000000e+00, 9.7540766e-02, 8.1398547e-01, 2.7298927e-05,\n",
            "        9.9998724e-01, 4.0311015e-01, 9.9950373e-01, 5.0646126e-02,\n",
            "        4.5222676e-01, 9.8019856e-01, 3.8444996e-06, 1.0000000e+00,\n",
            "        1.8809366e-01, 2.3894349e-01, 8.4603894e-01, 1.0000000e+00,\n",
            "        5.8508730e-01, 1.0000000e+00, 1.0000000e+00, 1.4939782e-01,\n",
            "        9.9999982e-01, 0.0000000e+00, 9.9998271e-01, 5.6624413e-07,\n",
            "        9.9999905e-01, 3.2166353e-01, 2.2768974e-05, 9.9999934e-01,\n",
            "        2.6194906e-01, 7.8751600e-01, 9.8785162e-01, 1.2166795e-01,\n",
            "        9.5362020e-01, 9.9999988e-01, 9.9999905e-01, 9.9999571e-01,\n",
            "        6.9178194e-02, 9.9373507e-01, 0.0000000e+00, 9.9991745e-01,\n",
            "        3.9126077e-01, 1.0000000e+00, 1.7996991e-01, 1.0000000e+00,\n",
            "        9.9999845e-01, 1.2464714e-01, 1.1920929e-07, 2.3432377e-01]],\n",
            "      dtype=float32), array([[4.2226851e-02, 2.9802322e-07, 8.8977027e-01, 1.0000000e+00,\n",
            "        9.7273278e-01, 0.0000000e+00, 8.0357730e-01, 9.9999994e-01,\n",
            "        2.0033121e-04, 1.0000000e+00, 9.9985337e-01, 1.0000000e+00,\n",
            "        1.8179417e-06, 9.9999988e-01, 3.0883223e-02, 2.7120113e-06,\n",
            "        1.3113022e-06, 4.1900402e-01, 7.1272564e-01, 7.1525574e-07,\n",
            "        1.0000000e+00, 9.6821481e-01, 9.9999440e-01, 4.7628224e-02,\n",
            "        2.5470918e-01, 9.6945894e-01, 1.0803342e-04, 9.9999952e-01,\n",
            "        6.9789231e-01, 2.5740600e-01, 8.9444923e-01, 1.0000000e+00,\n",
            "        1.6486576e-01, 1.0000000e+00, 9.9999905e-01, 9.6885717e-01,\n",
            "        9.9999976e-01, 5.9604645e-08, 9.9999726e-01, 0.0000000e+00,\n",
            "        9.9999905e-01, 6.1164498e-02, 4.7862530e-05, 9.9999964e-01,\n",
            "        9.6545780e-01, 4.2462736e-02, 8.3080268e-01, 6.9282877e-01,\n",
            "        6.3853741e-01, 1.0000000e+00, 9.9999994e-01, 9.9999881e-01,\n",
            "        2.0706984e-01, 9.9999833e-01, 0.0000000e+00, 9.9999934e-01,\n",
            "        2.5154680e-01, 9.9999869e-01, 5.4995918e-01, 9.9997854e-01,\n",
            "        9.9999416e-01, 9.4548017e-01, 0.0000000e+00, 5.4886842e-01]],\n",
            "      dtype=float32), array([[8.8964736e-01, 0.0000000e+00, 7.3142636e-01, 1.0000000e+00,\n",
            "        1.9853711e-03, 2.3841858e-07, 1.6864032e-02, 1.0000000e+00,\n",
            "        0.0000000e+00, 1.0000000e+00, 9.9994802e-01, 1.0000000e+00,\n",
            "        0.0000000e+00, 1.0000000e+00, 2.6179641e-02, 1.1920929e-07,\n",
            "        0.0000000e+00, 5.8698756e-01, 1.7080304e-01, 4.7683716e-07,\n",
            "        9.9999702e-01, 3.0297619e-01, 9.9999893e-01, 1.4518401e-01,\n",
            "        9.8659104e-01, 9.9288309e-01, 5.9604645e-08, 1.0000000e+00,\n",
            "        3.2481045e-02, 2.7630484e-01, 1.1375725e-02, 1.0000000e+00,\n",
            "        5.8772063e-01, 1.0000000e+00, 9.9999988e-01, 5.8692902e-01,\n",
            "        1.0000000e+00, 0.0000000e+00, 9.9999988e-01, 0.0000000e+00,\n",
            "        9.9999988e-01, 1.4944702e-02, 1.6987324e-06, 9.9999642e-01,\n",
            "        1.9811329e-01, 7.7977324e-01, 4.4610664e-01, 8.5507250e-01,\n",
            "        2.5593051e-01, 1.0000000e+00, 9.9999887e-01, 9.9998862e-01,\n",
            "        1.0656625e-02, 9.9988961e-01, 0.0000000e+00, 9.9999034e-01,\n",
            "        8.3882856e-01, 1.0000000e+00, 1.2841830e-01, 1.0000000e+00,\n",
            "        1.0000000e+00, 6.7172736e-02, 0.0000000e+00, 2.4691892e-01]],\n",
            "      dtype=float32), array([[1.3471246e-01, 0.0000000e+00, 8.0488980e-01, 1.0000000e+00,\n",
            "        7.5503290e-03, 3.2782555e-07, 9.8719180e-01, 1.0000000e+00,\n",
            "        0.0000000e+00, 1.0000000e+00, 9.9999988e-01, 9.9999976e-01,\n",
            "        2.9802322e-08, 1.0000000e+00, 8.3163351e-02, 0.0000000e+00,\n",
            "        0.0000000e+00, 3.6175102e-02, 6.9038856e-01, 5.9604645e-08,\n",
            "        1.0000000e+00, 9.7290277e-03, 9.9999499e-01, 1.7758462e-01,\n",
            "        9.6050704e-01, 9.7217745e-01, 1.7881393e-07, 1.0000000e+00,\n",
            "        4.8155963e-02, 8.9337754e-01, 1.3779065e-01, 1.0000000e+00,\n",
            "        1.9994342e-01, 9.9999988e-01, 9.9999905e-01, 6.5404308e-01,\n",
            "        9.9999881e-01, 0.0000000e+00, 1.0000000e+00, 0.0000000e+00,\n",
            "        1.0000000e+00, 3.9770633e-02, 3.4075975e-04, 1.0000000e+00,\n",
            "        9.6462464e-01, 6.6531181e-01, 2.2649997e-01, 3.2382971e-01,\n",
            "        6.1957806e-02, 9.9999297e-01, 9.9708080e-01, 9.9999738e-01,\n",
            "        3.5124958e-02, 9.9933213e-01, 1.0728836e-05, 9.9999976e-01,\n",
            "        3.7235171e-01, 1.0000000e+00, 2.5400758e-01, 1.0000000e+00,\n",
            "        1.0000000e+00, 9.7813904e-02, 0.0000000e+00, 1.8825531e-02]],\n",
            "      dtype=float32), array([[2.68838108e-01, 4.17232513e-07, 9.44476008e-01, 1.00000000e+00,\n",
            "        7.52318144e-01, 0.00000000e+00, 9.48781073e-02, 1.00000000e+00,\n",
            "        6.79492950e-06, 1.00000000e+00, 9.99925315e-01, 9.99999940e-01,\n",
            "        0.00000000e+00, 1.00000000e+00, 5.20782351e-01, 2.38418579e-07,\n",
            "        0.00000000e+00, 3.07751298e-02, 1.20542586e-01, 4.11272049e-06,\n",
            "        9.99998152e-01, 9.51120913e-01, 9.99912977e-01, 8.16099346e-02,\n",
            "        4.81578887e-01, 9.93090034e-01, 0.00000000e+00, 9.99999881e-01,\n",
            "        6.10331118e-01, 8.17389846e-01, 6.46339774e-01, 1.00000000e+00,\n",
            "        1.43199652e-01, 9.99999166e-01, 9.99999762e-01, 9.53321695e-01,\n",
            "        9.99999940e-01, 0.00000000e+00, 9.99993324e-01, 0.00000000e+00,\n",
            "        9.99999881e-01, 7.62218237e-02, 3.35663557e-04, 9.99998212e-01,\n",
            "        6.98282838e-01, 4.73983586e-02, 2.56111056e-01, 4.12081063e-01,\n",
            "        3.71527493e-01, 9.99945223e-01, 9.99999523e-01, 9.99999702e-01,\n",
            "        1.52332187e-02, 9.99986768e-01, 0.00000000e+00, 9.99999881e-01,\n",
            "        1.12615645e-01, 1.00000000e+00, 2.51938254e-01, 1.00000000e+00,\n",
            "        9.99998927e-01, 1.42614543e-01, 3.27825546e-07, 7.09118545e-01]],\n",
            "      dtype=float32), array([[5.62105596e-01, 0.00000000e+00, 1.59196109e-01, 1.00000000e+00,\n",
            "        4.80934978e-03, 5.66244125e-07, 7.85109878e-01, 1.00000000e+00,\n",
            "        0.00000000e+00, 1.00000000e+00, 9.99999642e-01, 9.99998987e-01,\n",
            "        2.98023224e-08, 1.00000000e+00, 6.72878027e-02, 0.00000000e+00,\n",
            "        0.00000000e+00, 4.05973762e-01, 5.60054719e-01, 0.00000000e+00,\n",
            "        1.00000000e+00, 1.49461269e-01, 9.98576403e-01, 3.31693172e-01,\n",
            "        9.80653822e-01, 9.90323722e-01, 5.96046448e-08, 1.00000000e+00,\n",
            "        1.58773720e-01, 7.31065512e-01, 4.89009470e-01, 9.99999881e-01,\n",
            "        7.81037450e-01, 1.00000000e+00, 9.99998212e-01, 1.52008653e-01,\n",
            "        9.99992490e-01, 0.00000000e+00, 9.99999940e-01, 2.08616257e-07,\n",
            "        1.00000000e+00, 1.26089692e-01, 1.84774399e-06, 9.99999881e-01,\n",
            "        9.84186649e-01, 8.57523918e-01, 9.88705099e-01, 1.16541445e-01,\n",
            "        9.34341252e-02, 9.99999523e-01, 9.99998212e-01, 9.99970913e-01,\n",
            "        4.77364063e-01, 9.99664903e-01, 1.31130219e-06, 9.99999702e-01,\n",
            "        1.58733279e-01, 1.00000000e+00, 2.82481670e-01, 1.00000000e+00,\n",
            "        9.99999881e-01, 5.99293709e-02, 0.00000000e+00, 2.13963389e-02]],\n",
            "      dtype=float32), array([[1.5985072e-01, 0.0000000e+00, 2.1591783e-03, 1.0000000e+00,\n",
            "        6.4273179e-02, 0.0000000e+00, 2.4477205e-01, 1.0000000e+00,\n",
            "        3.5762787e-07, 9.9999988e-01, 9.9999309e-01, 1.0000000e+00,\n",
            "        0.0000000e+00, 9.9999142e-01, 5.7920325e-01, 1.1026859e-06,\n",
            "        0.0000000e+00, 9.5789635e-01, 9.1261423e-01, 2.9802322e-08,\n",
            "        9.9985045e-01, 8.7821281e-01, 9.9999446e-01, 9.6610355e-01,\n",
            "        9.7067368e-01, 5.0285971e-01, 0.0000000e+00, 9.9999988e-01,\n",
            "        4.2147562e-01, 6.3100934e-02, 9.5981312e-01, 1.0000000e+00,\n",
            "        7.6869506e-01, 9.9999988e-01, 9.9999988e-01, 5.8402151e-02,\n",
            "        1.0000000e+00, 1.4901161e-07, 9.9999976e-01, 0.0000000e+00,\n",
            "        1.0000000e+00, 7.7567029e-01, 2.3591518e-04, 9.9999684e-01,\n",
            "        8.9302921e-01, 8.3422482e-01, 1.1728087e-01, 8.3183104e-01,\n",
            "        7.5531900e-02, 9.9998647e-01, 9.9994713e-01, 9.9999440e-01,\n",
            "        1.8352371e-01, 9.9999785e-01, 0.0000000e+00, 9.9999982e-01,\n",
            "        5.8130181e-01, 1.0000000e+00, 5.6509197e-02, 1.0000000e+00,\n",
            "        9.9998879e-01, 2.9588908e-01, 8.9406967e-08, 3.7991950e-01]],\n",
            "      dtype=float32), array([[8.7758845e-01, 0.0000000e+00, 3.7526619e-01, 1.0000000e+00,\n",
            "        2.6296705e-02, 1.1920929e-07, 7.5400937e-01, 1.0000000e+00,\n",
            "        2.9802322e-08, 1.0000000e+00, 9.9998772e-01, 1.0000000e+00,\n",
            "        0.0000000e+00, 1.0000000e+00, 4.1541594e-01, 3.2782555e-07,\n",
            "        0.0000000e+00, 8.9723456e-01, 1.8181175e-01, 4.1723251e-07,\n",
            "        1.0000000e+00, 7.2099537e-01, 9.9961460e-01, 9.8169720e-01,\n",
            "        2.5473934e-01, 9.0221000e-01, 1.7881393e-07, 1.0000000e+00,\n",
            "        5.4173142e-02, 7.0813274e-01, 8.6392725e-01, 1.0000000e+00,\n",
            "        2.6041079e-01, 1.0000000e+00, 1.0000000e+00, 1.8796757e-01,\n",
            "        9.9999750e-01, 5.9604645e-08, 1.0000000e+00, 7.7486038e-07,\n",
            "        1.0000000e+00, 5.2081370e-01, 1.4901161e-07, 9.9999988e-01,\n",
            "        9.3825328e-01, 1.1758521e-01, 9.9217618e-01, 3.5529703e-01,\n",
            "        9.8476148e-01, 9.9999976e-01, 1.0000000e+00, 9.9993360e-01,\n",
            "        8.7392747e-02, 9.9956959e-01, 3.2186508e-06, 9.9977440e-01,\n",
            "        5.9700239e-01, 1.0000000e+00, 7.2271466e-02, 1.0000000e+00,\n",
            "        1.0000000e+00, 8.7389678e-02, 3.2782555e-07, 1.0879046e-01]],\n",
            "      dtype=float32), array([[5.7685107e-01, 2.3841858e-07, 9.2943823e-01, 1.0000000e+00,\n",
            "        3.4299034e-01, 0.0000000e+00, 8.9176661e-01, 1.0000000e+00,\n",
            "        0.0000000e+00, 1.0000000e+00, 9.9995410e-01, 1.0000000e+00,\n",
            "        6.4074993e-06, 1.0000000e+00, 2.8280437e-02, 1.1026859e-06,\n",
            "        0.0000000e+00, 1.9590020e-02, 8.1342942e-01, 2.9802322e-08,\n",
            "        9.9999976e-01, 9.4507837e-01, 9.9939549e-01, 6.2615812e-02,\n",
            "        8.8999176e-01, 9.8738503e-01, 1.4513731e-05, 9.9999988e-01,\n",
            "        4.6193752e-01, 8.2039183e-01, 8.0341065e-01, 1.0000000e+00,\n",
            "        3.5858721e-02, 9.9999988e-01, 9.9999821e-01, 2.2918645e-01,\n",
            "        1.0000000e+00, 0.0000000e+00, 9.9972028e-01, 0.0000000e+00,\n",
            "        9.9999988e-01, 7.5567800e-01, 1.8477440e-06, 1.0000000e+00,\n",
            "        3.5367990e-01, 9.1732955e-01, 9.5614362e-01, 9.5424849e-01,\n",
            "        4.1816279e-01, 1.0000000e+00, 1.0000000e+00, 9.9988770e-01,\n",
            "        4.3683594e-01, 9.9995565e-01, 0.0000000e+00, 9.9999243e-01,\n",
            "        5.1923823e-01, 1.0000000e+00, 1.7308962e-01, 9.9999940e-01,\n",
            "        9.9999917e-01, 6.0915768e-02, 1.1920929e-07, 8.6002547e-01]],\n",
            "      dtype=float32), array([[8.86809826e-01, 0.00000000e+00, 3.20254505e-01, 1.00000000e+00,\n",
            "        2.59250402e-03, 0.00000000e+00, 4.09534037e-01, 1.00000000e+00,\n",
            "        3.57627869e-07, 1.00000000e+00, 9.98057187e-01, 1.00000000e+00,\n",
            "        1.49011612e-06, 1.00000000e+00, 9.44509506e-02, 3.57627869e-07,\n",
            "        0.00000000e+00, 1.32971078e-01, 2.86950171e-02, 2.98023224e-08,\n",
            "        9.99999285e-01, 6.43025279e-01, 9.99999404e-01, 4.49721813e-02,\n",
            "        9.74119604e-01, 9.24168229e-01, 0.00000000e+00, 1.00000000e+00,\n",
            "        1.05787814e-02, 4.51249629e-01, 1.42057419e-01, 1.00000000e+00,\n",
            "        8.37329626e-02, 9.99866843e-01, 1.00000000e+00, 9.28350747e-01,\n",
            "        1.00000000e+00, 2.98023224e-08, 9.99982297e-01, 0.00000000e+00,\n",
            "        1.00000000e+00, 9.90326464e-01, 1.19268894e-04, 9.99999285e-01,\n",
            "        1.53049827e-01, 6.99599385e-02, 2.45815337e-01, 5.16149282e-01,\n",
            "        3.43280137e-02, 9.99999940e-01, 9.99999881e-01, 9.99983668e-01,\n",
            "        1.26510262e-02, 9.99986887e-01, 0.00000000e+00, 9.99999821e-01,\n",
            "        9.33364987e-01, 1.00000000e+00, 4.67300743e-01, 1.00000000e+00,\n",
            "        1.00000000e+00, 9.69218135e-01, 2.08616257e-07, 6.35685802e-01]],\n",
            "      dtype=float32), array([[2.72004008e-01, 0.00000000e+00, 9.76562738e-01, 1.00000000e+00,\n",
            "        2.74898887e-01, 1.19209290e-07, 5.37561834e-01, 9.99884248e-01,\n",
            "        5.51939011e-05, 1.00000000e+00, 1.00000000e+00, 1.00000000e+00,\n",
            "        1.49011612e-06, 1.00000000e+00, 2.59684622e-02, 8.94069672e-08,\n",
            "        0.00000000e+00, 2.26018429e-02, 4.97829139e-01, 0.00000000e+00,\n",
            "        1.00000000e+00, 2.81748772e-02, 9.99978185e-01, 9.75307822e-01,\n",
            "        5.57770431e-02, 9.93760705e-01, 1.10268593e-05, 1.00000000e+00,\n",
            "        9.22399759e-03, 9.31913853e-01, 9.81329203e-01, 1.00000000e+00,\n",
            "        1.47948593e-01, 1.00000000e+00, 9.99984682e-01, 8.26598048e-01,\n",
            "        1.00000000e+00, 2.98023224e-08, 9.84467149e-01, 0.00000000e+00,\n",
            "        1.00000000e+00, 8.49827409e-01, 1.93715096e-06, 9.99999642e-01,\n",
            "        7.14229822e-01, 9.23361540e-01, 5.44418693e-02, 9.00216877e-01,\n",
            "        1.02697909e-02, 9.99999881e-01, 9.99999881e-01, 9.99999404e-01,\n",
            "        5.57067633e-01, 9.99991775e-01, 1.90734863e-06, 9.99997497e-01,\n",
            "        3.34185481e-01, 1.00000000e+00, 9.09262478e-01, 9.99545455e-01,\n",
            "        1.00000000e+00, 9.84239042e-01, 1.49011612e-07, 1.16224855e-01]],\n",
            "      dtype=float32), array([[3.9408016e-01, 0.0000000e+00, 4.8651040e-02, 1.0000000e+00,\n",
            "        2.3957580e-02, 8.1419945e-05, 9.8600101e-01, 9.9998057e-01,\n",
            "        2.9504299e-06, 9.9999988e-01, 9.9983466e-01, 1.0000000e+00,\n",
            "        5.9604645e-08, 9.9999785e-01, 9.4532418e-01, 5.9604645e-08,\n",
            "        4.1723251e-07, 2.5143945e-01, 1.2581235e-01, 6.2584877e-07,\n",
            "        1.0000000e+00, 3.0273628e-01, 9.9998158e-01, 7.9645753e-01,\n",
            "        7.1461231e-02, 7.2833520e-01, 7.7486038e-07, 1.0000000e+00,\n",
            "        8.2800645e-01, 9.6177012e-02, 9.6242642e-01, 9.9999726e-01,\n",
            "        9.6594286e-01, 9.9968994e-01, 1.0000000e+00, 8.9802766e-01,\n",
            "        9.9999660e-01, 5.9604645e-06, 9.9999964e-01, 1.9073486e-06,\n",
            "        9.9999976e-01, 3.9720497e-01, 8.9406967e-08, 9.9999940e-01,\n",
            "        6.0212582e-02, 9.0006506e-01, 4.4005662e-01, 3.1463009e-01,\n",
            "        7.4943584e-01, 9.9998558e-01, 9.9999994e-01, 1.0000000e+00,\n",
            "        1.4607385e-01, 9.9118495e-01, 1.1861324e-05, 9.9995774e-01,\n",
            "        1.3944131e-01, 9.9999934e-01, 4.2721778e-02, 1.0000000e+00,\n",
            "        9.9999869e-01, 1.9962651e-01, 1.2516975e-06, 1.1347562e-02]],\n",
            "      dtype=float32), array([[4.0114224e-02, 0.0000000e+00, 2.9445791e-01, 1.0000000e+00,\n",
            "        6.6702902e-02, 0.0000000e+00, 2.8305194e-01, 1.0000000e+00,\n",
            "        2.9802322e-08, 1.0000000e+00, 9.9999404e-01, 9.9999893e-01,\n",
            "        0.0000000e+00, 9.9999988e-01, 1.9426399e-01, 6.2584877e-07,\n",
            "        0.0000000e+00, 2.2417790e-01, 9.5991325e-01, 4.1723251e-07,\n",
            "        9.9999905e-01, 3.8171005e-01, 9.9999714e-01, 9.5995194e-01,\n",
            "        5.3137714e-01, 9.9787211e-01, 1.7136335e-05, 1.0000000e+00,\n",
            "        4.1927072e-01, 3.8719696e-01, 7.2313142e-01, 1.0000000e+00,\n",
            "        6.4088547e-01, 9.9999923e-01, 9.9999958e-01, 9.7321916e-01,\n",
            "        1.0000000e+00, 0.0000000e+00, 9.9872285e-01, 0.0000000e+00,\n",
            "        9.9999809e-01, 8.7152755e-01, 0.0000000e+00, 9.9999994e-01,\n",
            "        7.1810257e-01, 9.3818468e-01, 4.5838028e-02, 9.7093117e-01,\n",
            "        9.6063948e-01, 9.9999988e-01, 9.9999821e-01, 1.0000000e+00,\n",
            "        3.6260182e-01, 9.9999428e-01, 0.0000000e+00, 9.9999136e-01,\n",
            "        8.9678466e-01, 1.0000000e+00, 4.0582624e-01, 1.0000000e+00,\n",
            "        1.0000000e+00, 8.1617546e-01, 2.9802322e-08, 7.4019867e-01]],\n",
            "      dtype=float32), array([[7.9894614e-01, 0.0000000e+00, 7.7876902e-01, 1.0000000e+00,\n",
            "        8.6059868e-03, 1.1920929e-07, 8.6702526e-01, 1.0000000e+00,\n",
            "        0.0000000e+00, 1.0000000e+00, 9.3706179e-01, 1.0000000e+00,\n",
            "        2.3841858e-07, 1.0000000e+00, 5.9059560e-03, 0.0000000e+00,\n",
            "        0.0000000e+00, 3.5060114e-01, 7.9263097e-01, 0.0000000e+00,\n",
            "        1.0000000e+00, 9.2374808e-01, 9.7996217e-01, 1.6954803e-01,\n",
            "        6.5818757e-01, 9.9349391e-01, 1.5795231e-06, 1.0000000e+00,\n",
            "        5.8393866e-02, 9.2558640e-01, 1.4171308e-01, 9.9998617e-01,\n",
            "        1.1012936e-01, 9.9998498e-01, 9.9999785e-01, 1.4194787e-01,\n",
            "        9.9998617e-01, 0.0000000e+00, 9.9999988e-01, 0.0000000e+00,\n",
            "        1.0000000e+00, 6.2604076e-01, 0.0000000e+00, 1.0000000e+00,\n",
            "        1.6052842e-02, 3.4310818e-01, 1.8296751e-01, 7.8742015e-01,\n",
            "        9.5039976e-01, 9.9999928e-01, 9.9999976e-01, 9.9999994e-01,\n",
            "        3.2740545e-01, 9.9971557e-01, 0.0000000e+00, 9.9869108e-01,\n",
            "        3.6831635e-01, 1.0000000e+00, 9.6197945e-01, 1.0000000e+00,\n",
            "        1.0000000e+00, 3.5229534e-02, 0.0000000e+00, 8.0317527e-02]],\n",
            "      dtype=float32), array([[7.5501549e-01, 0.0000000e+00, 9.4140470e-01, 9.9999958e-01,\n",
            "        3.3533514e-02, 0.0000000e+00, 3.2995608e-01, 9.9999672e-01,\n",
            "        9.8347664e-07, 1.0000000e+00, 9.9995297e-01, 1.0000000e+00,\n",
            "        1.0609627e-05, 1.0000000e+00, 2.7697951e-02, 5.0663948e-07,\n",
            "        0.0000000e+00, 4.4487321e-01, 5.2525073e-02, 0.0000000e+00,\n",
            "        1.0000000e+00, 5.6664258e-02, 9.9998182e-01, 1.2102246e-02,\n",
            "        3.0321479e-03, 9.9249476e-01, 1.1920929e-07, 1.0000000e+00,\n",
            "        7.5116885e-01, 2.1373600e-01, 7.0017540e-01, 1.0000000e+00,\n",
            "        4.1774899e-02, 1.0000000e+00, 1.0000000e+00, 9.6814609e-01,\n",
            "        9.9999863e-01, 3.2782555e-07, 9.9999928e-01, 4.2319298e-06,\n",
            "        1.0000000e+00, 6.5654987e-01, 1.4603138e-06, 9.9998623e-01,\n",
            "        9.2741489e-02, 8.1141031e-01, 9.4090724e-01, 4.1992405e-01,\n",
            "        1.5449822e-02, 1.0000000e+00, 1.0000000e+00, 9.9999994e-01,\n",
            "        2.0974869e-01, 9.9999720e-01, 0.0000000e+00, 9.9999964e-01,\n",
            "        2.4722454e-01, 1.0000000e+00, 3.2684535e-02, 9.9999952e-01,\n",
            "        1.0000000e+00, 9.7365415e-01, 8.6426735e-06, 6.5236086e-01]],\n",
            "      dtype=float32)]\n"
          ],
          "name": "stdout"
        }
      ]
    },
    {
      "cell_type": "markdown",
      "metadata": {
        "id": "IkKOFmx48unR",
        "colab_type": "text"
      },
      "source": [
        "Note, that the dimensionality of the encodings is matching with your num_hidden_2 parameter you defined above."
      ]
    },
    {
      "cell_type": "markdown",
      "metadata": {
        "id": "zofRbE6xDESZ",
        "colab_type": "text"
      },
      "source": [
        "#Task 4\n",
        "Play around with the encodings\n",
        "You can use the following code to generate images from encodings.\n",
        "What effect does each dimension have on the the generated picture?"
      ]
    },
    {
      "cell_type": "code",
      "metadata": {
        "id": "eTtIYpzU-o6J",
        "colab_type": "code",
        "outputId": "49e39d0b-1ab7-40a8-bbdf-9309d7475682",
        "colab": {
          "base_uri": "https://localhost:8080/",
          "height": 28577
        }
      },
      "source": [
        "#batch_x = [list(range(0, num_hidden_2))]\n",
        "for i, x in enumerate(encodings):\n",
        "  generated_pic = sess.run(decoder_only, feed_dict={E: x})\n",
        "  print (generated_pic.shape)\n",
        "  generated_pic = generated_pic.reshape([28, 28])\n",
        "  #print (generated_pic)\n",
        "\n",
        "  print(\"Generated Images\")\n",
        "  plt.figure(figsize=(n, n))\n",
        "  plt.imshow(generated_pic, origin=\"upper\", cmap=\"gray\")\n",
        "  plt.show()\n"
      ],
      "execution_count": 0,
      "outputs": [
        {
          "output_type": "stream",
          "text": [
            "(1, 784)\n",
            "Generated Images\n"
          ],
          "name": "stdout"
        },
        {
          "output_type": "display_data",
          "data": {
            "image/png": "[encoded data removed]",
            "text/plain": [
              "<Figure size 288x288 with 1 Axes>"
            ]
          },
          "metadata": {
            "tags": []
          }
        },
        {
          "output_type": "stream",
          "text": [
            "(1, 784)\n",
            "Generated Images\n"
          ],
          "name": "stdout"
        },
        {
          "output_type": "display_data",
          "data": {
            "image/png": "[encoded data removed]",
            "text/plain": [
              "<Figure size 288x288 with 1 Axes>"
            ]
          },
          "metadata": {
            "tags": []
          }
        },
        {
          "output_type": "stream",
          "text": [
            "(1, 784)\n",
            "Generated Images\n"
          ],
          "name": "stdout"
        },
        {
          "output_type": "display_data",
          "data": {
            "image/png": "[encoded data removed]",
            "text/plain": [
              "<Figure size 288x288 with 1 Axes>"
            ]
          },
          "metadata": {
            "tags": []
          }
        },
        {
          "output_type": "stream",
          "text": [
            "(1, 784)\n",
            "Generated Images\n"
          ],
          "name": "stdout"
        },
        {
          "output_type": "display_data",
          "data": {
            "image/png": "[encoded data removed]",
            "text/plain": [
              "<Figure size 288x288 with 1 Axes>"
            ]
          },
          "metadata": {
            "tags": []
          }
        },
        {
          "output_type": "stream",
          "text": [
            "(1, 784)\n",
            "Generated Images\n"
          ],
          "name": "stdout"
        },
        {
          "output_type": "display_data",
          "data": {
            "image/png": "[encoded data removed]",
            "text/plain": [
              "<Figure size 288x288 with 1 Axes>"
            ]
          },
          "metadata": {
            "tags": []
          }
        },
        {
          "output_type": "stream",
          "text": [
            "(1, 784)\n",
            "Generated Images\n"
          ],
          "name": "stdout"
        },
        {
          "output_type": "display_data",
          "data": {
            "image/png": "[encoded data removed]",
            "text/plain": [
              "<Figure size 288x288 with 1 Axes>"
            ]
          },
          "metadata": {
            "tags": []
          }
        },
        {
          "output_type": "stream",
          "text": [
            "(1, 784)\n",
            "Generated Images\n"
          ],
          "name": "stdout"
        },
        {
          "output_type": "display_data",
          "data": {
            "image/png": "[encoded data removed]",
            "text/plain": [
              "<Figure size 288x288 with 1 Axes>"
            ]
          },
          "metadata": {
            "tags": []
          }
        },
        {
          "output_type": "stream",
          "text": [
            "(1, 784)\n",
            "Generated Images\n"
          ],
          "name": "stdout"
        },
        {
          "output_type": "display_data",
          "data": {
            "image/png": "[encoded data removed]",
            "text/plain": [
              "<Figure size 288x288 with 1 Axes>"
            ]
          },
          "metadata": {
            "tags": []
          }
        },
        {
          "output_type": "stream",
          "text": [
            "(1, 784)\n",
            "Generated Images\n"
          ],
          "name": "stdout"
        },
        {
          "output_type": "display_data",
          "data": {
            "image/png": "[encoded data removed]",
            "text/plain": [
              "<Figure size 288x288 with 1 Axes>"
            ]
          },
          "metadata": {
            "tags": []
          }
        },
        {
          "output_type": "stream",
          "text": [
            "(1, 784)\n",
            "Generated Images\n"
          ],
          "name": "stdout"
        },
        {
          "output_type": "display_data",
          "data": {
            "image/png": "[encoded data removed]",
            "text/plain": [
              "<Figure size 288x288 with 1 Axes>"
            ]
          },
          "metadata": {
            "tags": []
          }
        },
        {
          "output_type": "stream",
          "text": [
            "(1, 784)\n",
            "Generated Images\n"
          ],
          "name": "stdout"
        },
        {
          "output_type": "display_data",
          "data": {
            "image/png": "[encoded data removed]",
            "text/plain": [
              "<Figure size 288x288 with 1 Axes>"
            ]
          },
          "metadata": {
            "tags": []
          }
        },
        {
          "output_type": "stream",
          "text": [
            "(1, 784)\n",
            "Generated Images\n"
          ],
          "name": "stdout"
        },
        {
          "output_type": "display_data",
          "data": {
            "image/png": "[encoded data removed]",
            "text/plain": [
              "<Figure size 288x288 with 1 Axes>"
            ]
          },
          "metadata": {
            "tags": []
          }
        },
        {
          "output_type": "stream",
          "text": [
            "(1, 784)\n",
            "Generated Images\n"
          ],
          "name": "stdout"
        },
        {
          "output_type": "display_data",
          "data": {
            "image/png": "[encoded data removed]",
            "text/plain": [
              "<Figure size 288x288 with 1 Axes>"
            ]
          },
          "metadata": {
            "tags": []
          }
        },
        {
          "output_type": "stream",
          "text": [
            "(1, 784)\n",
            "Generated Images\n"
          ],
          "name": "stdout"
        },
        {
          "output_type": "display_data",
          "data": {
            "image/png": "[encoded data removed]",
            "text/plain": [
              "<Figure size 288x288 with 1 Axes>"
            ]
          },
          "metadata": {
            "tags": []
          }
        },
        {
          "output_type": "stream",
          "text": [
            "(1, 784)\n",
            "Generated Images\n"
          ],
          "name": "stdout"
        },
        {
          "output_type": "display_data",
          "data": {
            "image/png": "[encoded data removed]",
            "text/plain": [
              "<Figure size 288x288 with 1 Axes>"
            ]
          },
          "metadata": {
            "tags": []
          }
        },
        {
          "output_type": "stream",
          "text": [
            "(1, 784)\n",
            "Generated Images\n"
          ],
          "name": "stdout"
        },
        {
          "output_type": "display_data",
          "data": {
            "image/png": "[encoded data removed]",
            "text/plain": [
              "<Figure size 288x288 with 1 Axes>"
            ]
          },
          "metadata": {
            "tags": []
          }
        },
        {
          "output_type": "stream",
          "text": [
            "(1, 784)\n",
            "Generated Images\n"
          ],
          "name": "stdout"
        },
        {
          "output_type": "display_data",
          "data": {
            "image/png": "[encoded data removed]",
            "text/plain": [
              "<Figure size 288x288 with 1 Axes>"
            ]
          },
          "metadata": {
            "tags": []
          }
        },
        {
          "output_type": "stream",
          "text": [
            "(1, 784)\n",
            "Generated Images\n"
          ],
          "name": "stdout"
        },
        {
          "output_type": "display_data",
          "data": {
            "image/png": "[encoded data removed]",
            "text/plain": [
              "<Figure size 288x288 with 1 Axes>"
            ]
          },
          "metadata": {
            "tags": []
          }
        },
        {
          "output_type": "stream",
          "text": [
            "(1, 784)\n",
            "Generated Images\n"
          ],
          "name": "stdout"
        },
        {
          "output_type": "display_data",
          "data": {
            "image/png": "[encoded data removed]",
            "text/plain": [
              "<Figure size 288x288 with 1 Axes>"
            ]
          },
          "metadata": {
            "tags": []
          }
        },
        {
          "output_type": "stream",
          "text": [
            "(1, 784)\n",
            "Generated Images\n"
          ],
          "name": "stdout"
        },
        {
          "output_type": "display_data",
          "data": {
            "image/png": "[encoded data removed]",
            "text/plain": [
              "<Figure size 288x288 with 1 Axes>"
            ]
          },
          "metadata": {
            "tags": []
          }
        },
        {
          "output_type": "stream",
          "text": [
            "(1, 784)\n",
            "Generated Images\n"
          ],
          "name": "stdout"
        },
        {
          "output_type": "display_data",
          "data": {
            "image/png": "[encoded data removed]",
            "text/plain": [
              "<Figure size 288x288 with 1 Axes>"
            ]
          },
          "metadata": {
            "tags": []
          }
        },
        {
          "output_type": "stream",
          "text": [
            "(1, 784)\n",
            "Generated Images\n"
          ],
          "name": "stdout"
        },
        {
          "output_type": "display_data",
          "data": {
            "image/png": "[encoded data removed]",
            "text/plain": [
              "<Figure size 288x288 with 1 Axes>"
            ]
          },
          "metadata": {
            "tags": []
          }
        },
        {
          "output_type": "stream",
          "text": [
            "(1, 784)\n",
            "Generated Images\n"
          ],
          "name": "stdout"
        },
        {
          "output_type": "display_data",
          "data": {
            "image/png": "[encoded data removed]",
            "text/plain": [
              "<Figure size 288x288 with 1 Axes>"
            ]
          },
          "metadata": {
            "tags": []
          }
        },
        {
          "output_type": "stream",
          "text": [
            "(1, 784)\n",
            "Generated Images\n"
          ],
          "name": "stdout"
        },
        {
          "output_type": "display_data",
          "data": {
            "image/png": "[encoded data removed]",
            "text/plain": [
              "<Figure size 288x288 with 1 Axes>"
            ]
          },
          "metadata": {
            "tags": []
          }
        },
        {
          "output_type": "stream",
          "text": [
            "(1, 784)\n",
            "Generated Images\n"
          ],
          "name": "stdout"
        },
        {
          "output_type": "display_data",
          "data": {
            "image/png": "[encoded data removed]",
            "text/plain": [
              "<Figure size 288x288 with 1 Axes>"
            ]
          },
          "metadata": {
            "tags": []
          }
        },
        {
          "output_type": "stream",
          "text": [
            "(1, 784)\n",
            "Generated Images\n"
          ],
          "name": "stdout"
        },
        {
          "output_type": "display_data",
          "data": {
            "image/png": "[encoded data removed]",
            "text/plain": [
              "<Figure size 288x288 with 1 Axes>"
            ]
          },
          "metadata": {
            "tags": []
          }
        },
        {
          "output_type": "stream",
          "text": [
            "(1, 784)\n",
            "Generated Images\n"
          ],
          "name": "stdout"
        },
        {
          "output_type": "display_data",
          "data": {
            "image/png": "[encoded data removed]",
            "text/plain": [
              "<Figure size 288x288 with 1 Axes>"
            ]
          },
          "metadata": {
            "tags": []
          }
        },
        {
          "output_type": "stream",
          "text": [
            "(1, 784)\n",
            "Generated Images\n"
          ],
          "name": "stdout"
        },
        {
          "output_type": "display_data",
          "data": {
            "image/png": "[encoded data removed]",
            "text/plain": [
              "<Figure size 288x288 with 1 Axes>"
            ]
          },
          "metadata": {
            "tags": []
          }
        },
        {
          "output_type": "stream",
          "text": [
            "(1, 784)\n",
            "Generated Images\n"
          ],
          "name": "stdout"
        },
        {
          "output_type": "display_data",
          "data": {
            "image/png": "[encoded data removed]",
            "text/plain": [
              "<Figure size 288x288 with 1 Axes>"
            ]
          },
          "metadata": {
            "tags": []
          }
        },
        {
          "output_type": "stream",
          "text": [
            "(1, 784)\n",
            "Generated Images\n"
          ],
          "name": "stdout"
        },
        {
          "output_type": "display_data",
          "data": {
            "image/png": "[encoded data removed]",
            "text/plain": [
              "<Figure size 288x288 with 1 Axes>"
            ]
          },
          "metadata": {
            "tags": []
          }
        },
        {
          "output_type": "stream",
          "text": [
            "(1, 784)\n",
            "Generated Images\n"
          ],
          "name": "stdout"
        },
        {
          "output_type": "display_data",
          "data": {
            "image/png": "[encoded data removed]",
            "text/plain": [
              "<Figure size 288x288 with 1 Axes>"
            ]
          },
          "metadata": {
            "tags": []
          }
        },
        {
          "output_type": "stream",
          "text": [
            "(1, 784)\n",
            "Generated Images\n"
          ],
          "name": "stdout"
        },
        {
          "output_type": "display_data",
          "data": {
            "image/png": "[encoded data removed]",
            "text/plain": [
              "<Figure size 288x288 with 1 Axes>"
            ]
          },
          "metadata": {
            "tags": []
          }
        },
        {
          "output_type": "stream",
          "text": [
            "(1, 784)\n",
            "Generated Images\n"
          ],
          "name": "stdout"
        },
        {
          "output_type": "display_data",
          "data": {
            "image/png": "[encoded data removed]",
            "text/plain": [
              "<Figure size 288x288 with 1 Axes>"
            ]
          },
          "metadata": {
            "tags": []
          }
        },
        {
          "output_type": "stream",
          "text": [
            "(1, 784)\n",
            "Generated Images\n"
          ],
          "name": "stdout"
        },
        {
          "output_type": "display_data",
          "data": {
            "image/png": "[encoded data removed]",
            "text/plain": [
              "<Figure size 288x288 with 1 Axes>"
            ]
          },
          "metadata": {
            "tags": []
          }
        },
        {
          "output_type": "stream",
          "text": [
            "(1, 784)\n",
            "Generated Images\n"
          ],
          "name": "stdout"
        },
        {
          "output_type": "display_data",
          "data": {
            "image/png": "[encoded data removed]",
            "text/plain": [
              "<Figure size 288x288 with 1 Axes>"
            ]
          },
          "metadata": {
            "tags": []
          }
        },
        {
          "output_type": "stream",
          "text": [
            "(1, 784)\n",
            "Generated Images\n"
          ],
          "name": "stdout"
        },
        {
          "output_type": "display_data",
          "data": {
            "image/png": "[encoded data removed]",
            "text/plain": [
              "<Figure size 288x288 with 1 Axes>"
            ]
          },
          "metadata": {
            "tags": []
          }
        },
        {
          "output_type": "stream",
          "text": [
            "(1, 784)\n",
            "Generated Images\n"
          ],
          "name": "stdout"
        },
        {
          "output_type": "display_data",
          "data": {
            "image/png": "[encoded data removed]",
            "text/plain": [
              "<Figure size 288x288 with 1 Axes>"
            ]
          },
          "metadata": {
            "tags": []
          }
        },
        {
          "output_type": "stream",
          "text": [
            "(1, 784)\n",
            "Generated Images\n"
          ],
          "name": "stdout"
        },
        {
          "output_type": "display_data",
          "data": {
            "image/png": "[encoded data removed]",
            "text/plain": [
              "<Figure size 288x288 with 1 Axes>"
            ]
          },
          "metadata": {
            "tags": []
          }
        },
        {
          "output_type": "stream",
          "text": [
            "(1, 784)\n",
            "Generated Images\n"
          ],
          "name": "stdout"
        },
        {
          "output_type": "display_data",
          "data": {
            "image/png": "[encoded data removed]",
            "text/plain": [
              "<Figure size 288x288 with 1 Axes>"
            ]
          },
          "metadata": {
            "tags": []
          }
        },
        {
          "output_type": "stream",
          "text": [
            "(1, 784)\n",
            "Generated Images\n"
          ],
          "name": "stdout"
        },
        {
          "output_type": "display_data",
          "data": {
            "image/png": "[encoded data removed]",
            "text/plain": [
              "<Figure size 288x288 with 1 Axes>"
            ]
          },
          "metadata": {
            "tags": []
          }
        },
        {
          "output_type": "stream",
          "text": [
            "(1, 784)\n",
            "Generated Images\n"
          ],
          "name": "stdout"
        },
        {
          "output_type": "display_data",
          "data": {
            "image/png": "[encoded data removed]",
            "text/plain": [
              "<Figure size 288x288 with 1 Axes>"
            ]
          },
          "metadata": {
            "tags": []
          }
        },
        {
          "output_type": "stream",
          "text": [
            "(1, 784)\n",
            "Generated Images\n"
          ],
          "name": "stdout"
        },
        {
          "output_type": "display_data",
          "data": {
            "image/png": "[encoded data removed]",
            "text/plain": [
              "<Figure size 288x288 with 1 Axes>"
            ]
          },
          "metadata": {
            "tags": []
          }
        },
        {
          "output_type": "stream",
          "text": [
            "(1, 784)\n",
            "Generated Images\n"
          ],
          "name": "stdout"
        },
        {
          "output_type": "display_data",
          "data": {
            "image/png": "[encoded data removed]",
            "text/plain": [
              "<Figure size 288x288 with 1 Axes>"
            ]
          },
          "metadata": {
            "tags": []
          }
        },
        {
          "output_type": "stream",
          "text": [
            "(1, 784)\n",
            "Generated Images\n"
          ],
          "name": "stdout"
        },
        {
          "output_type": "display_data",
          "data": {
            "image/png": "[encoded data removed]",
            "text/plain": [
              "<Figure size 288x288 with 1 Axes>"
            ]
          },
          "metadata": {
            "tags": []
          }
        },
        {
          "output_type": "stream",
          "text": [
            "(1, 784)\n",
            "Generated Images\n"
          ],
          "name": "stdout"
        },
        {
          "output_type": "display_data",
          "data": {
            "image/png": "[encoded data removed]",
            "text/plain": [
              "<Figure size 288x288 with 1 Axes>"
            ]
          },
          "metadata": {
            "tags": []
          }
        },
        {
          "output_type": "stream",
          "text": [
            "(1, 784)\n",
            "Generated Images\n"
          ],
          "name": "stdout"
        },
        {
          "output_type": "display_data",
          "data": {
            "image/png": "[encoded data removed]",
            "text/plain": [
              "<Figure size 288x288 with 1 Axes>"
            ]
          },
          "metadata": {
            "tags": []
          }
        },
        {
          "output_type": "stream",
          "text": [
            "(1, 784)\n",
            "Generated Images\n"
          ],
          "name": "stdout"
        },
        {
          "output_type": "display_data",
          "data": {
            "image/png": "[encoded data removed]",
            "text/plain": [
              "<Figure size 288x288 with 1 Axes>"
            ]
          },
          "metadata": {
            "tags": []
          }
        },
        {
          "output_type": "stream",
          "text": [
            "(1, 784)\n",
            "Generated Images\n"
          ],
          "name": "stdout"
        },
        {
          "output_type": "display_data",
          "data": {
            "image/png": "[encoded data removed]",
            "text/plain": [
              "<Figure size 288x288 with 1 Axes>"
            ]
          },
          "metadata": {
            "tags": []
          }
        },
        {
          "output_type": "stream",
          "text": [
            "(1, 784)\n",
            "Generated Images\n"
          ],
          "name": "stdout"
        },
        {
          "output_type": "display_data",
          "data": {
            "image/png": "[encoded data removed]",
            "text/plain": [
              "<Figure size 288x288 with 1 Axes>"
            ]
          },
          "metadata": {
            "tags": []
          }
        },
        {
          "output_type": "stream",
          "text": [
            "(1, 784)\n",
            "Generated Images\n"
          ],
          "name": "stdout"
        },
        {
          "output_type": "display_data",
          "data": {
            "image/png": "[encoded data removed]",
            "text/plain": [
              "<Figure size 288x288 with 1 Axes>"
            ]
          },
          "metadata": {
            "tags": []
          }
        },
        {
          "output_type": "stream",
          "text": [
            "(1, 784)\n",
            "Generated Images\n"
          ],
          "name": "stdout"
        },
        {
          "output_type": "display_data",
          "data": {
            "image/png": "[encoded data removed]",
            "text/plain": [
              "<Figure size 288x288 with 1 Axes>"
            ]
          },
          "metadata": {
            "tags": []
          }
        },
        {
          "output_type": "stream",
          "text": [
            "(1, 784)\n",
            "Generated Images\n"
          ],
          "name": "stdout"
        },
        {
          "output_type": "display_data",
          "data": {
            "image/png": "[encoded data removed]",
            "text/plain": [
              "<Figure size 288x288 with 1 Axes>"
            ]
          },
          "metadata": {
            "tags": []
          }
        },
        {
          "output_type": "stream",
          "text": [
            "(1, 784)\n",
            "Generated Images\n"
          ],
          "name": "stdout"
        },
        {
          "output_type": "display_data",
          "data": {
            "image/png": "[encoded data removed]",
            "text/plain": [
              "<Figure size 288x288 with 1 Axes>"
            ]
          },
          "metadata": {
            "tags": []
          }
        },
        {
          "output_type": "stream",
          "text": [
            "(1, 784)\n",
            "Generated Images\n"
          ],
          "name": "stdout"
        },
        {
          "output_type": "display_data",
          "data": {
            "image/png": "[encoded data removed]",
            "text/plain": [
              "<Figure size 288x288 with 1 Axes>"
            ]
          },
          "metadata": {
            "tags": []
          }
        },
        {
          "output_type": "stream",
          "text": [
            "(1, 784)\n",
            "Generated Images\n"
          ],
          "name": "stdout"
        },
        {
          "output_type": "display_data",
          "data": {
            "image/png": "[encoded data removed]",
            "text/plain": [
              "<Figure size 288x288 with 1 Axes>"
            ]
          },
          "metadata": {
            "tags": []
          }
        },
        {
          "output_type": "stream",
          "text": [
            "(1, 784)\n",
            "Generated Images\n"
          ],
          "name": "stdout"
        },
        {
          "output_type": "display_data",
          "data": {
            "image/png": "[encoded data removed]",
            "text/plain": [
              "<Figure size 288x288 with 1 Axes>"
            ]
          },
          "metadata": {
            "tags": []
          }
        },
        {
          "output_type": "stream",
          "text": [
            "(1, 784)\n",
            "Generated Images\n"
          ],
          "name": "stdout"
        },
        {
          "output_type": "display_data",
          "data": {
            "image/png": "[encoded data removed]",
            "text/plain": [
              "<Figure size 288x288 with 1 Axes>"
            ]
          },
          "metadata": {
            "tags": []
          }
        },
        {
          "output_type": "stream",
          "text": [
            "(1, 784)\n",
            "Generated Images\n"
          ],
          "name": "stdout"
        },
        {
          "output_type": "display_data",
          "data": {
            "image/png": "[encoded data removed]",
            "text/plain": [
              "<Figure size 288x288 with 1 Axes>"
            ]
          },
          "metadata": {
            "tags": []
          }
        },
        {
          "output_type": "stream",
          "text": [
            "(1, 784)\n",
            "Generated Images\n"
          ],
          "name": "stdout"
        },
        {
          "output_type": "display_data",
          "data": {
            "image/png": "[encoded data removed]",
            "text/plain": [
              "<Figure size 288x288 with 1 Axes>"
            ]
          },
          "metadata": {
            "tags": []
          }
        },
        {
          "output_type": "stream",
          "text": [
            "(1, 784)\n",
            "Generated Images\n"
          ],
          "name": "stdout"
        },
        {
          "output_type": "display_data",
          "data": {
            "image/png": "[encoded data removed]",
            "text/plain": [
              "<Figure size 288x288 with 1 Axes>"
            ]
          },
          "metadata": {
            "tags": []
          }
        },
        {
          "output_type": "stream",
          "text": [
            "(1, 784)\n",
            "Generated Images\n"
          ],
          "name": "stdout"
        },
        {
          "output_type": "display_data",
          "data": {
            "image/png": "[encoded data removed]",
            "text/plain": [
              "<Figure size 288x288 with 1 Axes>"
            ]
          },
          "metadata": {
            "tags": []
          }
        },
        {
          "output_type": "stream",
          "text": [
            "(1, 784)\n",
            "Generated Images\n"
          ],
          "name": "stdout"
        },
        {
          "output_type": "display_data",
          "data": {
            "image/png": "[encoded data removed]",
            "text/plain": [
              "<Figure size 288x288 with 1 Axes>"
            ]
          },
          "metadata": {
            "tags": []
          }
        },
        {
          "output_type": "stream",
          "text": [
            "(1, 784)\n",
            "Generated Images\n"
          ],
          "name": "stdout"
        },
        {
          "output_type": "display_data",
          "data": {
            "image/png": "[encoded data removed]",
            "text/plain": [
              "<Figure size 288x288 with 1 Axes>"
            ]
          },
          "metadata": {
            "tags": []
          }
        },
        {
          "output_type": "stream",
          "text": [
            "(1, 784)\n",
            "Generated Images\n"
          ],
          "name": "stdout"
        },
        {
          "output_type": "display_data",
          "data": {
            "image/png": "[encoded data removed]",
            "text/plain": [
              "<Figure size 288x288 with 1 Axes>"
            ]
          },
          "metadata": {
            "tags": []
          }
        },
        {
          "output_type": "stream",
          "text": [
            "(1, 784)\n",
            "Generated Images\n"
          ],
          "name": "stdout"
        },
        {
          "output_type": "display_data",
          "data": {
            "image/png": "[encoded data removed]",
            "text/plain": [
              "<Figure size 288x288 with 1 Axes>"
            ]
          },
          "metadata": {
            "tags": []
          }
        },
        {
          "output_type": "stream",
          "text": [
            "(1, 784)\n",
            "Generated Images\n"
          ],
          "name": "stdout"
        },
        {
          "output_type": "display_data",
          "data": {
            "image/png": "[encoded data removed]",
            "text/plain": [
              "<Figure size 288x288 with 1 Axes>"
            ]
          },
          "metadata": {
            "tags": []
          }
        },
        {
          "output_type": "stream",
          "text": [
            "(1, 784)\n",
            "Generated Images\n"
          ],
          "name": "stdout"
        },
        {
          "output_type": "display_data",
          "data": {
            "image/png": "[encoded data removed]",
            "text/plain": [
              "<Figure size 288x288 with 1 Axes>"
            ]
          },
          "metadata": {
            "tags": []
          }
        },
        {
          "output_type": "stream",
          "text": [
            "(1, 784)\n",
            "Generated Images\n"
          ],
          "name": "stdout"
        },
        {
          "output_type": "display_data",
          "data": {
            "image/png": "[encoded data removed]",
            "text/plain": [
              "<Figure size 288x288 with 1 Axes>"
            ]
          },
          "metadata": {
            "tags": []
          }
        },
        {
          "output_type": "stream",
          "text": [
            "(1, 784)\n",
            "Generated Images\n"
          ],
          "name": "stdout"
        },
        {
          "output_type": "display_data",
          "data": {
            "image/png": "[encoded data removed]",
            "text/plain": [
              "<Figure size 288x288 with 1 Axes>"
            ]
          },
          "metadata": {
            "tags": []
          }
        },
        {
          "output_type": "stream",
          "text": [
            "(1, 784)\n",
            "Generated Images\n"
          ],
          "name": "stdout"
        },
        {
          "output_type": "display_data",
          "data": {
            "image/png": "[encoded data removed]",
            "text/plain": [
              "<Figure size 288x288 with 1 Axes>"
            ]
          },
          "metadata": {
            "tags": []
          }
        },
        {
          "output_type": "stream",
          "text": [
            "(1, 784)\n",
            "Generated Images\n"
          ],
          "name": "stdout"
        },
        {
          "output_type": "display_data",
          "data": {
            "image/png": "[encoded data removed]",
            "text/plain": [
              "<Figure size 288x288 with 1 Axes>"
            ]
          },
          "metadata": {
            "tags": []
          }
        },
        {
          "output_type": "stream",
          "text": [
            "(1, 784)\n",
            "Generated Images\n"
          ],
          "name": "stdout"
        },
        {
          "output_type": "display_data",
          "data": {
            "image/png": "[encoded data removed]",
            "text/plain": [
              "<Figure size 288x288 with 1 Axes>"
            ]
          },
          "metadata": {
            "tags": []
          }
        },
        {
          "output_type": "stream",
          "text": [
            "(1, 784)\n",
            "Generated Images\n"
          ],
          "name": "stdout"
        },
        {
          "output_type": "display_data",
          "data": {
            "image/png": "[encoded data removed]",
            "text/plain": [
              "<Figure size 288x288 with 1 Axes>"
            ]
          },
          "metadata": {
            "tags": []
          }
        },
        {
          "output_type": "stream",
          "text": [
            "(1, 784)\n",
            "Generated Images\n"
          ],
          "name": "stdout"
        },
        {
          "output_type": "display_data",
          "data": {
            "image/png": "[encoded data removed]",
            "text/plain": [
              "<Figure size 288x288 with 1 Axes>"
            ]
          },
          "metadata": {
            "tags": []
          }
        },
        {
          "output_type": "stream",
          "text": [
            "(1, 784)\n",
            "Generated Images\n"
          ],
          "name": "stdout"
        },
        {
          "output_type": "display_data",
          "data": {
            "image/png": "[encoded data removed]",
            "text/plain": [
              "<Figure size 288x288 with 1 Axes>"
            ]
          },
          "metadata": {
            "tags": []
          }
        },
        {
          "output_type": "stream",
          "text": [
            "(1, 784)\n",
            "Generated Images\n"
          ],
          "name": "stdout"
        },
        {
          "output_type": "display_data",
          "data": {
            "image/png": "[encoded data removed]",
            "text/plain": [
              "<Figure size 288x288 with 1 Axes>"
            ]
          },
          "metadata": {
            "tags": []
          }
        },
        {
          "output_type": "stream",
          "text": [
            "(1, 784)\n",
            "Generated Images\n"
          ],
          "name": "stdout"
        },
        {
          "output_type": "display_data",
          "data": {
            "image/png": "[encoded data removed]",
            "text/plain": [
              "<Figure size 288x288 with 1 Axes>"
            ]
          },
          "metadata": {
            "tags": []
          }
        },
        {
          "output_type": "stream",
          "text": [
            "(1, 784)\n",
            "Generated Images\n"
          ],
          "name": "stdout"
        },
        {
          "output_type": "display_data",
          "data": {
            "image/png": "[encoded data removed]",
            "text/plain": [
              "<Figure size 288x288 with 1 Axes>"
            ]
          },
          "metadata": {
            "tags": []
          }
        },
        {
          "output_type": "stream",
          "text": [
            "(1, 784)\n",
            "Generated Images\n"
          ],
          "name": "stdout"
        },
        {
          "output_type": "display_data",
          "data": {
            "image/png": "[encoded data removed]",
            "text/plain": [
              "<Figure size 288x288 with 1 Axes>"
            ]
          },
          "metadata": {
            "tags": []
          }
        },
        {
          "output_type": "stream",
          "text": [
            "(1, 784)\n",
            "Generated Images\n"
          ],
          "name": "stdout"
        },
        {
          "output_type": "display_data",
          "data": {
            "image/png": "[encoded data removed]",
            "text/plain": [
              "<Figure size 288x288 with 1 Axes>"
            ]
          },
          "metadata": {
            "tags": []
          }
        },
        {
          "output_type": "stream",
          "text": [
            "(1, 784)\n",
            "Generated Images\n"
          ],
          "name": "stdout"
        },
        {
          "output_type": "display_data",
          "data": {
            "image/png": "[encoded data removed]",
            "text/plain": [
              "<Figure size 288x288 with 1 Axes>"
            ]
          },
          "metadata": {
            "tags": []
          }
        },
        {
          "output_type": "stream",
          "text": [
            "(1, 784)\n",
            "Generated Images\n"
          ],
          "name": "stdout"
        },
        {
          "output_type": "display_data",
          "data": {
            "image/png": "[encoded data removed]",
            "text/plain": [
              "<Figure size 288x288 with 1 Axes>"
            ]
          },
          "metadata": {
            "tags": []
          }
        },
        {
          "output_type": "stream",
          "text": [
            "(1, 784)\n",
            "Generated Images\n"
          ],
          "name": "stdout"
        },
        {
          "output_type": "display_data",
          "data": {
            "image/png": "[encoded data removed]",
            "text/plain": [
              "<Figure size 288x288 with 1 Axes>"
            ]
          },
          "metadata": {
            "tags": []
          }
        },
        {
          "output_type": "stream",
          "text": [
            "(1, 784)\n",
            "Generated Images\n"
          ],
          "name": "stdout"
        },
        {
          "output_type": "display_data",
          "data": {
            "image/png": "[encoded data removed]",
            "text/plain": [
              "<Figure size 288x288 with 1 Axes>"
            ]
          },
          "metadata": {
            "tags": []
          }
        },
        {
          "output_type": "stream",
          "text": [
            "(1, 784)\n",
            "Generated Images\n"
          ],
          "name": "stdout"
        },
        {
          "output_type": "display_data",
          "data": {
            "image/png": "[encoded data removed]",
            "text/plain": [
              "<Figure size 288x288 with 1 Axes>"
            ]
          },
          "metadata": {
            "tags": []
          }
        },
        {
          "output_type": "stream",
          "text": [
            "(1, 784)\n",
            "Generated Images\n"
          ],
          "name": "stdout"
        },
        {
          "output_type": "display_data",
          "data": {
            "image/png": "[encoded data removed]",
            "text/plain": [
              "<Figure size 288x288 with 1 Axes>"
            ]
          },
          "metadata": {
            "tags": []
          }
        },
        {
          "output_type": "stream",
          "text": [
            "(1, 784)\n",
            "Generated Images\n"
          ],
          "name": "stdout"
        },
        {
          "output_type": "display_data",
          "data": {
            "image/png": "[encoded data removed]",
            "text/plain": [
              "<Figure size 288x288 with 1 Axes>"
            ]
          },
          "metadata": {
            "tags": []
          }
        },
        {
          "output_type": "stream",
          "text": [
            "(1, 784)\n",
            "Generated Images\n"
          ],
          "name": "stdout"
        },
        {
          "output_type": "display_data",
          "data": {
            "image/png": "[encoded data removed]",
            "text/plain": [
              "<Figure size 288x288 with 1 Axes>"
            ]
          },
          "metadata": {
            "tags": []
          }
        },
        {
          "output_type": "stream",
          "text": [
            "(1, 784)\n",
            "Generated Images\n"
          ],
          "name": "stdout"
        },
        {
          "output_type": "display_data",
          "data": {
            "image/png": "[encoded data removed]",
            "text/plain": [
              "<Figure size 288x288 with 1 Axes>"
            ]
          },
          "metadata": {
            "tags": []
          }
        },
        {
          "output_type": "stream",
          "text": [
            "(1, 784)\n",
            "Generated Images\n"
          ],
          "name": "stdout"
        },
        {
          "output_type": "display_data",
          "data": {
            "image/png": "[encoded data removed]",
            "text/plain": [
              "<Figure size 288x288 with 1 Axes>"
            ]
          },
          "metadata": {
            "tags": []
          }
        },
        {
          "output_type": "stream",
          "text": [
            "(1, 784)\n",
            "Generated Images\n"
          ],
          "name": "stdout"
        },
        {
          "output_type": "display_data",
          "data": {
            "image/png": "[encoded data removed]",
            "text/plain": [
              "<Figure size 288x288 with 1 Axes>"
            ]
          },
          "metadata": {
            "tags": []
          }
        },
        {
          "output_type": "stream",
          "text": [
            "(1, 784)\n",
            "Generated Images\n"
          ],
          "name": "stdout"
        },
        {
          "output_type": "display_data",
          "data": {
            "image/png": "[encoded data removed]",
            "text/plain": [
              "<Figure size 288x288 with 1 Axes>"
            ]
          },
          "metadata": {
            "tags": []
          }
        },
        {
          "output_type": "stream",
          "text": [
            "(1, 784)\n",
            "Generated Images\n"
          ],
          "name": "stdout"
        },
        {
          "output_type": "display_data",
          "data": {
            "image/png": "[encoded data removed]",
            "text/plain": [
              "<Figure size 288x288 with 1 Axes>"
            ]
          },
          "metadata": {
            "tags": []
          }
        },
        {
          "output_type": "stream",
          "text": [
            "(1, 784)\n",
            "Generated Images\n"
          ],
          "name": "stdout"
        },
        {
          "output_type": "display_data",
          "data": {
            "image/png": "[encoded data removed]",
            "text/plain": [
              "<Figure size 288x288 with 1 Axes>"
            ]
          },
          "metadata": {
            "tags": []
          }
        },
        {
          "output_type": "stream",
          "text": [
            "(1, 784)\n",
            "Generated Images\n"
          ],
          "name": "stdout"
        },
        {
          "output_type": "display_data",
          "data": {
            "image/png": "[encoded data removed]",
            "text/plain": [
              "<Figure size 288x288 with 1 Axes>"
            ]
          },
          "metadata": {
            "tags": []
          }
        },
        {
          "output_type": "stream",
          "text": [
            "(1, 784)\n",
            "Generated Images\n"
          ],
          "name": "stdout"
        },
        {
          "output_type": "display_data",
          "data": {
            "image/png": "[encoded data removed]",
            "text/plain": [
              "<Figure size 288x288 with 1 Axes>"
            ]
          },
          "metadata": {
            "tags": []
          }
        },
        {
          "output_type": "stream",
          "text": [
            "(1, 784)\n",
            "Generated Images\n"
          ],
          "name": "stdout"
        },
        {
          "output_type": "display_data",
          "data": {
            "image/png": "[encoded data removed]",
            "text/plain": [
              "<Figure size 288x288 with 1 Axes>"
            ]
          },
          "metadata": {
            "tags": []
          }
        },
        {
          "output_type": "stream",
          "text": [
            "(1, 784)\n",
            "Generated Images\n"
          ],
          "name": "stdout"
        },
        {
          "output_type": "display_data",
          "data": {
            "image/png": "[encoded data removed]",
            "text/plain": [
              "<Figure size 288x288 with 1 Axes>"
            ]
          },
          "metadata": {
            "tags": []
          }
        },
        {
          "output_type": "stream",
          "text": [
            "(1, 784)\n",
            "Generated Images\n"
          ],
          "name": "stdout"
        },
        {
          "output_type": "display_data",
          "data": {
            "image/png": "[encoded data removed]",
            "text/plain": [
              "<Figure size 288x288 with 1 Axes>"
            ]
          },
          "metadata": {
            "tags": []
          }
        },
        {
          "output_type": "stream",
          "text": [
            "(1, 784)\n",
            "Generated Images\n"
          ],
          "name": "stdout"
        },
        {
          "output_type": "display_data",
          "data": {
            "image/png": "[encoded data removed]",
            "text/plain": [
              "<Figure size 288x288 with 1 Axes>"
            ]
          },
          "metadata": {
            "tags": []
          }
        }
      ]
    }
  ]
}